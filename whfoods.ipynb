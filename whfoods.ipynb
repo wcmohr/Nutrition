{
 "cells": [
  {
   "cell_type": "markdown",
   "id": "3c25ec40-3d6e-4678-988b-23154a428f73",
   "metadata": {},
   "source": [
    "###### imports"
   ]
  },
  {
   "cell_type": "code",
   "execution_count": 543,
   "id": "e44fd201-33c3-4db1-8b80-12304baafca7",
   "metadata": {},
   "outputs": [],
   "source": [
    "import pandas as pd # for dataframe analysis\n",
    "import numpy as np # for arrays functionality, i.e. .where()...\n",
    "import re\n",
    "from functools import partialmethod # for changing default of pandas .head()\n",
    "import difflib # compare naming of nutrients between constraints and foods DFs"
   ]
  },
  {
   "cell_type": "markdown",
   "id": "0198ce98-424f-4310-8333-6ca64e4510e3",
   "metadata": {},
   "source": [
    "###### attributions"
   ]
  },
  {
   "cell_type": "markdown",
   "id": "84ef36ae-d1d7-4e62-ac33-be4a8bf084b1",
   "metadata": {},
   "source": [
    "[1) Set default .head() to 3 rows -- Ted Petrou, Dunder Data](https://medium.com/dunder-data/pandas-trick-1-change-the-default-number-of-rows-returned-from-the-head-method-bc7c21ce0d53)"
   ]
  },
  {
   "cell_type": "markdown",
   "id": "a6cc1d12-86d9-4609-992b-ef009a6c7c70",
   "metadata": {},
   "source": [
    "###### set defaults"
   ]
  },
  {
   "cell_type": "code",
   "execution_count": 544,
   "id": "f0c77b77-6783-40fb-98e5-56f98093fa3e",
   "metadata": {},
   "outputs": [],
   "source": [
    "pd.DataFrame.head = partialmethod(pd.DataFrame.head, n=3)"
   ]
  },
  {
   "cell_type": "markdown",
   "id": "e58b929b-2c3f-4a1a-876e-e39c1d6850ff",
   "metadata": {},
   "source": [
    "###### data cleaning"
   ]
  },
  {
   "cell_type": "code",
   "execution_count": 545,
   "id": "d2f8f62b-d1de-43f1-b003-1ee089cb9e54",
   "metadata": {},
   "outputs": [],
   "source": [
    "whfoods = pd.read_csv('./Data/whfoods.csv')"
   ]
  },
  {
   "cell_type": "code",
   "execution_count": 546,
   "id": "6dda8632-d3a0-45b6-84ca-a18ba0c19540",
   "metadata": {},
   "outputs": [],
   "source": [
    "whfoods.index = range(whfoods.shape[0])"
   ]
  },
  {
   "cell_type": "code",
   "execution_count": 547,
   "id": "6020556d-6fdb-4c8a-bb25-c2157eb81e62",
   "metadata": {
    "tags": []
   },
   "outputs": [
    {
     "data": {
      "text/html": [
       "<div>\n",
       "<style scoped>\n",
       "    .dataframe tbody tr th:only-of-type {\n",
       "        vertical-align: middle;\n",
       "    }\n",
       "\n",
       "    .dataframe tbody tr th {\n",
       "        vertical-align: top;\n",
       "    }\n",
       "\n",
       "    .dataframe thead th {\n",
       "        text-align: right;\n",
       "    }\n",
       "</style>\n",
       "<table border=\"1\" class=\"dataframe\">\n",
       "  <thead>\n",
       "    <tr style=\"text-align: right;\">\n",
       "      <th></th>\n",
       "      <th>Asparagus, Cooked</th>\n",
       "      <th>Unnamed: 1</th>\n",
       "      <th>Unnamed: 2</th>\n",
       "      <th>Avocado, cubed, raw</th>\n",
       "      <th>Unnamed: 4</th>\n",
       "      <th>Unnamed: 5</th>\n",
       "      <th>Beet Greens, boiled</th>\n",
       "      <th>Unnamed: 7</th>\n",
       "      <th>Unnamed: 8</th>\n",
       "      <th>Beets, sliced, cooked</th>\n",
       "      <th>...</th>\n",
       "      <th>Unnamed: 341</th>\n",
       "      <th>Sage, dried</th>\n",
       "      <th>Unnamed: 343</th>\n",
       "      <th>Unnamed: 344</th>\n",
       "      <th>Thyme, fresh</th>\n",
       "      <th>Unnamed: 346</th>\n",
       "      <th>Unnamed: 347</th>\n",
       "      <th>Turmeric, ground</th>\n",
       "      <th>Unnamed: 349</th>\n",
       "      <th>Unnamed: 350</th>\n",
       "    </tr>\n",
       "  </thead>\n",
       "  <tbody>\n",
       "    <tr>\n",
       "      <th>0</th>\n",
       "      <td>BASIC MACRONUTRIENTS AND CALORIES</td>\n",
       "      <td>NaN</td>\n",
       "      <td>NaN</td>\n",
       "      <td>BASIC MACRONUTRIENTS AND CALORIES</td>\n",
       "      <td>NaN</td>\n",
       "      <td>NaN</td>\n",
       "      <td>BASIC MACRONUTRIENTS AND CALORIES</td>\n",
       "      <td>NaN</td>\n",
       "      <td>NaN</td>\n",
       "      <td>BASIC MACRONUTRIENTS AND CALORIES</td>\n",
       "      <td>...</td>\n",
       "      <td>NaN</td>\n",
       "      <td>BASIC MACRONUTRIENTS AND CALORIES</td>\n",
       "      <td>NaN</td>\n",
       "      <td>NaN</td>\n",
       "      <td>BASIC MACRONUTRIENTS AND CALORIES</td>\n",
       "      <td>NaN</td>\n",
       "      <td>NaN</td>\n",
       "      <td>BASIC MACRONUTRIENTS AND CALORIES</td>\n",
       "      <td>NaN</td>\n",
       "      <td>NaN</td>\n",
       "    </tr>\n",
       "    <tr>\n",
       "      <th>1</th>\n",
       "      <td>nutrient</td>\n",
       "      <td>amount</td>\n",
       "      <td>DRI/DV</td>\n",
       "      <td>nutrient</td>\n",
       "      <td>amount</td>\n",
       "      <td>DRI/DV</td>\n",
       "      <td>nutrient</td>\n",
       "      <td>amount</td>\n",
       "      <td>DRI/DV</td>\n",
       "      <td>nutrient</td>\n",
       "      <td>...</td>\n",
       "      <td>DRI/DV</td>\n",
       "      <td>nutrient</td>\n",
       "      <td>amount</td>\n",
       "      <td>DRI/DV</td>\n",
       "      <td>nutrient</td>\n",
       "      <td>amount</td>\n",
       "      <td>DRI/DV</td>\n",
       "      <td>nutrient</td>\n",
       "      <td>amount</td>\n",
       "      <td>DRI/DV</td>\n",
       "    </tr>\n",
       "    <tr>\n",
       "      <th>2</th>\n",
       "      <td>NaN</td>\n",
       "      <td>NaN</td>\n",
       "      <td>(%)</td>\n",
       "      <td>NaN</td>\n",
       "      <td>NaN</td>\n",
       "      <td>(%)</td>\n",
       "      <td>NaN</td>\n",
       "      <td>NaN</td>\n",
       "      <td>(%)</td>\n",
       "      <td>NaN</td>\n",
       "      <td>...</td>\n",
       "      <td>(%)</td>\n",
       "      <td>NaN</td>\n",
       "      <td>NaN</td>\n",
       "      <td>(%)</td>\n",
       "      <td>NaN</td>\n",
       "      <td>NaN</td>\n",
       "      <td>(%)</td>\n",
       "      <td>NaN</td>\n",
       "      <td>NaN</td>\n",
       "      <td>(%)</td>\n",
       "    </tr>\n",
       "  </tbody>\n",
       "</table>\n",
       "<p>3 rows × 351 columns</p>\n",
       "</div>"
      ],
      "text/plain": [
       "                   Asparagus, Cooked Unnamed: 1 Unnamed: 2  \\\n",
       "0  BASIC MACRONUTRIENTS AND CALORIES        NaN        NaN   \n",
       "1                           nutrient     amount     DRI/DV   \n",
       "2                                NaN        NaN        (%)   \n",
       "\n",
       "                 Avocado, cubed, raw Unnamed: 4 Unnamed: 5  \\\n",
       "0  BASIC MACRONUTRIENTS AND CALORIES        NaN        NaN   \n",
       "1                           nutrient     amount     DRI/DV   \n",
       "2                                NaN        NaN        (%)   \n",
       "\n",
       "                 Beet Greens, boiled Unnamed: 7 Unnamed: 8  \\\n",
       "0  BASIC MACRONUTRIENTS AND CALORIES        NaN        NaN   \n",
       "1                           nutrient     amount     DRI/DV   \n",
       "2                                NaN        NaN        (%)   \n",
       "\n",
       "               Beets, sliced, cooked  ... Unnamed: 341  \\\n",
       "0  BASIC MACRONUTRIENTS AND CALORIES  ...          NaN   \n",
       "1                           nutrient  ...       DRI/DV   \n",
       "2                                NaN  ...          (%)   \n",
       "\n",
       "                         Sage, dried Unnamed: 343 Unnamed: 344  \\\n",
       "0  BASIC MACRONUTRIENTS AND CALORIES          NaN          NaN   \n",
       "1                           nutrient       amount       DRI/DV   \n",
       "2                                NaN          NaN          (%)   \n",
       "\n",
       "                        Thyme, fresh Unnamed: 346 Unnamed: 347  \\\n",
       "0  BASIC MACRONUTRIENTS AND CALORIES          NaN          NaN   \n",
       "1                           nutrient       amount       DRI/DV   \n",
       "2                                NaN          NaN          (%)   \n",
       "\n",
       "                    Turmeric, ground Unnamed: 349 Unnamed: 350  \n",
       "0  BASIC MACRONUTRIENTS AND CALORIES          NaN          NaN  \n",
       "1                           nutrient       amount       DRI/DV  \n",
       "2                                NaN          NaN          (%)  \n",
       "\n",
       "[3 rows x 351 columns]"
      ]
     },
     "execution_count": 547,
     "metadata": {},
     "output_type": "execute_result"
    }
   ],
   "source": [
    "whfoods.head()"
   ]
  },
  {
   "cell_type": "code",
   "execution_count": 548,
   "id": "cf7de9e0-9ab6-47a5-9997-5e77b2004d9c",
   "metadata": {},
   "outputs": [],
   "source": [
    "# investigating dimensions of dataset\n",
    "\n",
    "nfoods = len(whfoods.columns)/3 # there are 117 foods in the dataset.\n",
    "nfoods\n",
    "whfoods.shape\n",
    "nnutrients = whfoods.shape[0]"
   ]
  },
  {
   "cell_type": "markdown",
   "id": "3c473998-b20a-4850-8c29-e59b00839530",
   "metadata": {},
   "source": [
    "174 \"nutrients,\" though many of these will be not real nutrients."
   ]
  },
  {
   "cell_type": "markdown",
   "id": "1743823d-f0bc-49d8-8850-1e62ca7d5028",
   "metadata": {},
   "source": [
    "**Initial assessment of dataset**\\\n",
    "\\\n",
    "*SHAPE:* There are three columns per food group, 174 rows, 351 columns.  \\\n",
    "\\\n",
    "*INFORMATION:* There is no serving size in grams of the food, though from inspecting the excel spreadsheet it appears possible to reconstruct this value from the amounts of the macronutrients, micronutrients, water, and ash.\\\n",
    "\\\n",
    "*FORMATTING:* The three columns indicate first the description of the component of the food, the amount in grams, milligrams, or micrograms, and the DRI/DV if applicable.\n",
    "\n",
    "**Action Items**\n",
    "1) Generate two dataframes -- one for amount, one for DRI/DV\n",
    "2) Standardize missing value indicators\n",
    "3) Eliminate rows with one unique value.\n",
    "4) Separate out units for the amount df into a reference dictionary of {nutrient1: 'mg', nutrient2: 'g', nutrient3: 'mcg', ...}\n",
    "5) Build the LP problem with PuLP"
   ]
  },
  {
   "cell_type": "code",
   "execution_count": 549,
   "id": "7b837574-bebc-4f87-9871-af1cbf0fb49e",
   "metadata": {},
   "outputs": [],
   "source": [
    "# initial pass on removing extraneous rows, columns.\n",
    "whfoods = whfoods.dropna(how='all',axis=1).dropna(how='all', axis=0)"
   ]
  },
  {
   "cell_type": "markdown",
   "id": "980f48aa-ab72-47cc-a282-b3a2d34aee03",
   "metadata": {},
   "source": [
    "There are under 173 nutrient categories since some of the rows correspond to supercategories such as 'Minerals','INDIVIDUAL FATTY ACIDS', 'Monounsaturated Fats', 'INDIVIDUAL AMINO ACIDS', 'OTHER COMPONENTS', etc. as well as corresponding extraneous rows such as: 'nutrient', nan.\n",
    "\n",
    "The dataset could be filtered by removing rows with all 0.00 g, mg etc or all -- mg such as with the sweeteners, caffeine, alcohol."
   ]
  },
  {
   "cell_type": "markdown",
   "id": "e700aa5b-df47-4486-b805-ac80759000ea",
   "metadata": {},
   "source": [
    "I'll create two dictionaries, one of the foods and the raw nutrient values and another of the foods and DRI/DV.  These can be used to generate data frames.  The raw nutrient values and the DRI/DV info can be used to generate the 100% DRI/DV values for each nutrient.  Rounding errors can be minimized by using the food with the highest DRI/DV for a given nutrient to generate the recommendation."
   ]
  },
  {
   "cell_type": "markdown",
   "id": "bc423f8f-e13f-478e-bce1-60720cb4be80",
   "metadata": {},
   "source": [
    "###### column name formatting"
   ]
  },
  {
   "cell_type": "code",
   "execution_count": 550,
   "id": "7a099ee9-a494-4e7d-b5c1-0c483baca161",
   "metadata": {},
   "outputs": [
    {
     "data": {
      "text/plain": [
       "117"
      ]
     },
     "execution_count": 550,
     "metadata": {},
     "output_type": "execute_result"
    }
   ],
   "source": [
    "# gather all the foods into a list\n",
    "foods = [food for inx,food in enumerate(whfoods.columns) if inx%3 ==0]\n",
    "len(foods) # verify the number of foods"
   ]
  },
  {
   "cell_type": "code",
   "execution_count": 551,
   "id": "c696e0ab-02e6-49bf-8cb2-569c66fe37c0",
   "metadata": {
    "tags": []
   },
   "outputs": [],
   "source": [
    "new_cols = []\n",
    "\n",
    "for i, food in enumerate(foods):\n",
    "    # Replace spaces, then commas, then dunders, and finally make lowercase\n",
    "    food = re.sub(r'_+', '_', \n",
    "                  re.sub(r',+', '_', \n",
    "                         re.sub(r' +', '_', food))).lower()\n",
    "\n",
    "    new_cols = new_cols + [food, f'nv_{food}', f'drv_{food}']\n",
    "\n",
    "whfoods.columns = new_cols\n",
    "foods = [food for inx,food in enumerate(whfoods.columns) if inx%3 ==0]"
   ]
  },
  {
   "cell_type": "code",
   "execution_count": 552,
   "id": "39beec1e-94ff-4dd0-9666-79ad871279e1",
   "metadata": {},
   "outputs": [
    {
     "data": {
      "text/plain": [
       "Index(['asparagus_cooked', 'nv_asparagus_cooked', 'drv_asparagus_cooked',\n",
       "       'avocado_cubed_raw', 'nv_avocado_cubed_raw', 'drv_avocado_cubed_raw',\n",
       "       'beet_greens_boiled', 'nv_beet_greens_boiled', 'drv_beet_greens_boiled',\n",
       "       'beets_sliced_cooked',\n",
       "       ...\n",
       "       'drv_rosemary_fresh', 'sage_dried', 'nv_sage_dried', 'drv_sage_dried',\n",
       "       'thyme_fresh', 'nv_thyme_fresh', 'drv_thyme_fresh', 'turmeric_ground',\n",
       "       'nv_turmeric_ground', 'drv_turmeric_ground'],\n",
       "      dtype='object', length=351)"
      ]
     },
     "execution_count": 552,
     "metadata": {},
     "output_type": "execute_result"
    }
   ],
   "source": [
    "whfoods.columns"
   ]
  },
  {
   "cell_type": "markdown",
   "id": "b66fb92e-64b0-48e6-9b3c-a933d388f725",
   "metadata": {
    "tags": []
   },
   "source": [
    "###### separate nutrient val, drv info"
   ]
  },
  {
   "cell_type": "code",
   "execution_count": 553,
   "id": "37e07347-2d6d-4b9f-b671-fc64802bf153",
   "metadata": {},
   "outputs": [],
   "source": [
    "# collect a nested dictionary of... {food: {nutrient:nutrient_val}}\n",
    "nutrient_vals = \\\n",
    "{food:\n",
    "    {whfoods.loc[i,food]: \n",
    "     whfoods.iloc[i,int(np.where(whfoods.columns.values==food)[0][0])+1] \n",
    "     for i in range (2, nnutrients)\n",
    "    } for food in foods\n",
    "}\n",
    "\n",
    "# collect a nested dictionary of... {food: {nutrient:nutrient_drv}}\n",
    "nutrient_drv = \\\n",
    "{food:\n",
    "    {whfoods.loc[i,food]: \n",
    "     whfoods.iloc[i,int(np.where(whfoods.columns.values==food)[0][0])+2] \n",
    "     for i in range (2, nnutrients)\n",
    "    } for food in foods\n",
    "}\n",
    "\n",
    "# convert to DatFrame\n",
    "nv_df = pd.DataFrame(nutrient_vals)\n",
    "drv_df = pd.DataFrame(nutrient_drv)\n",
    "\n",
    "# Transposing so that the foods are like \"observations\" in long format\n",
    "nv_df = nv_df.T\n",
    "drv_df = drv_df.T"
   ]
  },
  {
   "cell_type": "markdown",
   "id": "9fcafca3-05fa-4b38-88ea-94d6ea593a13",
   "metadata": {
    "tags": []
   },
   "source": [
    "###### Cleaning"
   ]
  },
  {
   "cell_type": "markdown",
   "id": "0445f697-9cb8-43a7-a663-70b2599340a2",
   "metadata": {},
   "source": [
    "Remove all columns that have uniform values"
   ]
  },
  {
   "cell_type": "code",
   "execution_count": 554,
   "id": "0a7e3a0a-e056-443b-ae69-cbf4f04cf0dd",
   "metadata": {},
   "outputs": [],
   "source": [
    "# credit: ChatGPT\n",
    "def remove_columns_with_same_value(df):\n",
    "    unique_counts = df.nunique()\n",
    "    columns_to_remove = unique_counts[(unique_counts == 1)|(unique_counts == 0)].index\n",
    "    df = df.drop(columns=columns_to_remove)\n",
    "    return df"
   ]
  },
  {
   "cell_type": "code",
   "execution_count": 555,
   "id": "cd8c0c7c-baaa-4d8a-a502-b9ea7f6b6f5d",
   "metadata": {},
   "outputs": [],
   "source": [
    "nv_df = remove_columns_with_same_value(nv_df)"
   ]
  },
  {
   "cell_type": "code",
   "execution_count": 556,
   "id": "00de41e0-cbb8-40d7-87b3-9109d8badd08",
   "metadata": {
    "tags": []
   },
   "outputs": [
    {
     "data": {
      "text/html": [
       "<div>\n",
       "<style scoped>\n",
       "    .dataframe tbody tr th:only-of-type {\n",
       "        vertical-align: middle;\n",
       "    }\n",
       "\n",
       "    .dataframe tbody tr th {\n",
       "        vertical-align: top;\n",
       "    }\n",
       "\n",
       "    .dataframe thead th {\n",
       "        text-align: right;\n",
       "    }\n",
       "</style>\n",
       "<table border=\"1\" class=\"dataframe\">\n",
       "  <thead>\n",
       "    <tr style=\"text-align: right;\">\n",
       "      <th></th>\n",
       "      <th>Protein</th>\n",
       "      <th>Carbohydrates</th>\n",
       "      <th>Fat - total</th>\n",
       "      <th>Dietary Fiber</th>\n",
       "      <th>Calories</th>\n",
       "      <th>Starch</th>\n",
       "      <th>Total Sugars</th>\n",
       "      <th>Monosaccharides</th>\n",
       "      <th>Fructose</th>\n",
       "      <th>Glucose</th>\n",
       "      <th>...</th>\n",
       "      <th>Sugar Alcohols (Total)</th>\n",
       "      <th>Glycerol</th>\n",
       "      <th>Inositol</th>\n",
       "      <th>Mannitol</th>\n",
       "      <th>Sorbitol</th>\n",
       "      <th>Xylitol</th>\n",
       "      <th>Artificial Sweeteners (Total)</th>\n",
       "      <th>Aspartame</th>\n",
       "      <th>Saccharin</th>\n",
       "      <th>Caffeine</th>\n",
       "    </tr>\n",
       "  </thead>\n",
       "  <tbody>\n",
       "    <tr>\n",
       "      <th>asparagus_cooked</th>\n",
       "      <td>4.32 g</td>\n",
       "      <td>7.40 g</td>\n",
       "      <td>0.40 g</td>\n",
       "      <td>3.60 g</td>\n",
       "      <td>39.6</td>\n",
       "      <td>-- g</td>\n",
       "      <td>2.34 g</td>\n",
       "      <td>2.18 g</td>\n",
       "      <td>1.42 g</td>\n",
       "      <td>0.76 g</td>\n",
       "      <td>...</td>\n",
       "      <td>-- g</td>\n",
       "      <td>-- g</td>\n",
       "      <td>-- g</td>\n",
       "      <td>-- g</td>\n",
       "      <td>-- g</td>\n",
       "      <td>-- g</td>\n",
       "      <td>-- mg</td>\n",
       "      <td>-- mg</td>\n",
       "      <td>-- mg</td>\n",
       "      <td>0.00 mg</td>\n",
       "    </tr>\n",
       "    <tr>\n",
       "      <th>avocado_cubed_raw</th>\n",
       "      <td>3.00 g</td>\n",
       "      <td>12.80 g</td>\n",
       "      <td>21.99 g</td>\n",
       "      <td>10.05 g</td>\n",
       "      <td>240</td>\n",
       "      <td>-- g</td>\n",
       "      <td>0.99 g</td>\n",
       "      <td>0.89 g</td>\n",
       "      <td>0.18 g</td>\n",
       "      <td>0.56 g</td>\n",
       "      <td>...</td>\n",
       "      <td>-- g</td>\n",
       "      <td>-- g</td>\n",
       "      <td>-- g</td>\n",
       "      <td>-- g</td>\n",
       "      <td>-- g</td>\n",
       "      <td>-- g</td>\n",
       "      <td>-- mg</td>\n",
       "      <td>-- mg</td>\n",
       "      <td>-- mg</td>\n",
       "      <td>0.00 mg</td>\n",
       "    </tr>\n",
       "    <tr>\n",
       "      <th>beet_greens_boiled</th>\n",
       "      <td>3.70 g</td>\n",
       "      <td>7.86 g</td>\n",
       "      <td>0.29 g</td>\n",
       "      <td>4.18 g</td>\n",
       "      <td>38.88</td>\n",
       "      <td>-- g</td>\n",
       "      <td>0.86 g</td>\n",
       "      <td>-- g</td>\n",
       "      <td>-- g</td>\n",
       "      <td>-- g</td>\n",
       "      <td>...</td>\n",
       "      <td>-- g</td>\n",
       "      <td>-- g</td>\n",
       "      <td>-- g</td>\n",
       "      <td>-- g</td>\n",
       "      <td>-- g</td>\n",
       "      <td>-- g</td>\n",
       "      <td>-- mg</td>\n",
       "      <td>-- mg</td>\n",
       "      <td>-- mg</td>\n",
       "      <td>0.00 mg</td>\n",
       "    </tr>\n",
       "  </tbody>\n",
       "</table>\n",
       "<p>3 rows × 139 columns</p>\n",
       "</div>"
      ],
      "text/plain": [
       "                   Protein Carbohydrates Fat - total Dietary Fiber Calories  \\\n",
       "asparagus_cooked    4.32 g        7.40 g      0.40 g        3.60 g     39.6   \n",
       "avocado_cubed_raw   3.00 g       12.80 g     21.99 g       10.05 g      240   \n",
       "beet_greens_boiled  3.70 g        7.86 g      0.29 g        4.18 g    38.88   \n",
       "\n",
       "                   Starch Total Sugars Monosaccharides Fructose Glucose  ...  \\\n",
       "asparagus_cooked     -- g       2.34 g          2.18 g   1.42 g  0.76 g  ...   \n",
       "avocado_cubed_raw    -- g       0.99 g          0.89 g   0.18 g  0.56 g  ...   \n",
       "beet_greens_boiled   -- g       0.86 g            -- g     -- g    -- g  ...   \n",
       "\n",
       "                   Sugar Alcohols (Total) Glycerol Inositol Mannitol Sorbitol  \\\n",
       "asparagus_cooked                     -- g     -- g     -- g     -- g     -- g   \n",
       "avocado_cubed_raw                    -- g     -- g     -- g     -- g     -- g   \n",
       "beet_greens_boiled                   -- g     -- g     -- g     -- g     -- g   \n",
       "\n",
       "                   Xylitol Artificial Sweeteners (Total) Aspartame Saccharin  \\\n",
       "asparagus_cooked      -- g                         -- mg     -- mg     -- mg   \n",
       "avocado_cubed_raw     -- g                         -- mg     -- mg     -- mg   \n",
       "beet_greens_boiled    -- g                         -- mg     -- mg     -- mg   \n",
       "\n",
       "                   Caffeine  \n",
       "asparagus_cooked    0.00 mg  \n",
       "avocado_cubed_raw   0.00 mg  \n",
       "beet_greens_boiled  0.00 mg  \n",
       "\n",
       "[3 rows x 139 columns]"
      ]
     },
     "execution_count": 556,
     "metadata": {},
     "output_type": "execute_result"
    }
   ],
   "source": [
    "nv_df.head()"
   ]
  },
  {
   "cell_type": "code",
   "execution_count": 557,
   "id": "8c12902f-4131-4a8d-83b0-131066c60a81",
   "metadata": {},
   "outputs": [],
   "source": [
    "drv_df = remove_columns_with_same_value(drv_df)"
   ]
  },
  {
   "cell_type": "code",
   "execution_count": 558,
   "id": "5465c56a-bbc8-4369-9e47-f4a2ed23c603",
   "metadata": {
    "tags": []
   },
   "outputs": [
    {
     "data": {
      "text/html": [
       "<div>\n",
       "<style scoped>\n",
       "    .dataframe tbody tr th:only-of-type {\n",
       "        vertical-align: middle;\n",
       "    }\n",
       "\n",
       "    .dataframe tbody tr th {\n",
       "        vertical-align: top;\n",
       "    }\n",
       "\n",
       "    .dataframe thead th {\n",
       "        text-align: right;\n",
       "    }\n",
       "</style>\n",
       "<table border=\"1\" class=\"dataframe\">\n",
       "  <thead>\n",
       "    <tr style=\"text-align: right;\">\n",
       "      <th></th>\n",
       "      <th>Protein</th>\n",
       "      <th>Carbohydrates</th>\n",
       "      <th>Fat - total</th>\n",
       "      <th>Dietary Fiber</th>\n",
       "      <th>Calories</th>\n",
       "      <th>Vitamin B1</th>\n",
       "      <th>Vitamin B2</th>\n",
       "      <th>Vitamin B3</th>\n",
       "      <th>Vitamin B6</th>\n",
       "      <th>Vitamin B12</th>\n",
       "      <th>...</th>\n",
       "      <th>Iron</th>\n",
       "      <th>Magnesium</th>\n",
       "      <th>Manganese</th>\n",
       "      <th>Molybdenum</th>\n",
       "      <th>Phosphorus</th>\n",
       "      <th>Potassium</th>\n",
       "      <th>Selenium</th>\n",
       "      <th>Sodium</th>\n",
       "      <th>Zinc</th>\n",
       "      <th>Omega-3 Fatty Acids</th>\n",
       "    </tr>\n",
       "  </thead>\n",
       "  <tbody>\n",
       "    <tr>\n",
       "      <th>asparagus_cooked</th>\n",
       "      <td>9</td>\n",
       "      <td>3</td>\n",
       "      <td>1</td>\n",
       "      <td>13</td>\n",
       "      <td>2</td>\n",
       "      <td>24</td>\n",
       "      <td>19</td>\n",
       "      <td>12</td>\n",
       "      <td>8</td>\n",
       "      <td>0</td>\n",
       "      <td>...</td>\n",
       "      <td>9</td>\n",
       "      <td>6</td>\n",
       "      <td>12</td>\n",
       "      <td>--</td>\n",
       "      <td>14</td>\n",
       "      <td>9</td>\n",
       "      <td>20</td>\n",
       "      <td>2</td>\n",
       "      <td>10</td>\n",
       "      <td>2</td>\n",
       "    </tr>\n",
       "    <tr>\n",
       "      <th>avocado_cubed_raw</th>\n",
       "      <td>6</td>\n",
       "      <td>6</td>\n",
       "      <td>28</td>\n",
       "      <td>36</td>\n",
       "      <td>13</td>\n",
       "      <td>8</td>\n",
       "      <td>15</td>\n",
       "      <td>16</td>\n",
       "      <td>23</td>\n",
       "      <td>0</td>\n",
       "      <td>...</td>\n",
       "      <td>5</td>\n",
       "      <td>10</td>\n",
       "      <td>9</td>\n",
       "      <td>--</td>\n",
       "      <td>11</td>\n",
       "      <td>15</td>\n",
       "      <td>1</td>\n",
       "      <td>1</td>\n",
       "      <td>9</td>\n",
       "      <td>8</td>\n",
       "    </tr>\n",
       "    <tr>\n",
       "      <th>beet_greens_boiled</th>\n",
       "      <td>7</td>\n",
       "      <td>3</td>\n",
       "      <td>0</td>\n",
       "      <td>15</td>\n",
       "      <td>2</td>\n",
       "      <td>14</td>\n",
       "      <td>32</td>\n",
       "      <td>5</td>\n",
       "      <td>11</td>\n",
       "      <td>0</td>\n",
       "      <td>...</td>\n",
       "      <td>15</td>\n",
       "      <td>23</td>\n",
       "      <td>32</td>\n",
       "      <td>--</td>\n",
       "      <td>8</td>\n",
       "      <td>28</td>\n",
       "      <td>2</td>\n",
       "      <td>23</td>\n",
       "      <td>7</td>\n",
       "      <td>0</td>\n",
       "    </tr>\n",
       "  </tbody>\n",
       "</table>\n",
       "<p>3 rows × 34 columns</p>\n",
       "</div>"
      ],
      "text/plain": [
       "                   Protein Carbohydrates Fat - total Dietary Fiber Calories  \\\n",
       "asparagus_cooked         9             3           1            13        2   \n",
       "avocado_cubed_raw        6             6          28            36       13   \n",
       "beet_greens_boiled       7             3           0            15        2   \n",
       "\n",
       "                   Vitamin B1 Vitamin B2 Vitamin B3 Vitamin B6 Vitamin B12  \\\n",
       "asparagus_cooked           24         19         12          8           0   \n",
       "avocado_cubed_raw           8         15         16         23           0   \n",
       "beet_greens_boiled         14         32          5         11           0   \n",
       "\n",
       "                    ... Iron Magnesium Manganese Molybdenum Phosphorus  \\\n",
       "asparagus_cooked    ...    9         6        12         --         14   \n",
       "avocado_cubed_raw   ...    5        10         9         --         11   \n",
       "beet_greens_boiled  ...   15        23        32         --          8   \n",
       "\n",
       "                   Potassium Selenium Sodium Zinc Omega-3 Fatty Acids  \n",
       "asparagus_cooked           9       20      2   10                   2  \n",
       "avocado_cubed_raw         15        1      1    9                   8  \n",
       "beet_greens_boiled        28        2     23    7                   0  \n",
       "\n",
       "[3 rows x 34 columns]"
      ]
     },
     "execution_count": 558,
     "metadata": {},
     "output_type": "execute_result"
    }
   ],
   "source": [
    "drv_df.head()"
   ]
  },
  {
   "cell_type": "markdown",
   "id": "7da42c1a-bade-498c-87b5-0793b91a5779",
   "metadata": {},
   "source": [
    "Reformatting columns for nv_df & drv_df"
   ]
  },
  {
   "cell_type": "code",
   "execution_count": 559,
   "id": "76c93ee9-5015-492b-8528-35aaf61bd369",
   "metadata": {},
   "outputs": [],
   "source": [
    "def format_cols(df):\n",
    "    pattern = r'[^a-zA-Z0-9_]+'\n",
    "    form_cols = [re.sub(pattern, '_', col) for col in df.columns]\n",
    "    form_cols = [re.sub('_+$', '', col).lower() for col in form_cols]\n",
    "    df.columns = form_cols\n",
    "    \n",
    "    return df"
   ]
  },
  {
   "cell_type": "code",
   "execution_count": 560,
   "id": "cc798452-d26b-4c54-a183-fb6bee54fbbe",
   "metadata": {},
   "outputs": [],
   "source": [
    "nv_df = format_cols(nv_df)\n",
    "drv_df = format_cols(drv_df)"
   ]
  },
  {
   "cell_type": "markdown",
   "id": "403c14ad-e48a-4224-9ec6-28ca634a961e",
   "metadata": {
    "tags": []
   },
   "source": [
    "###### Formatting"
   ]
  },
  {
   "cell_type": "markdown",
   "id": "f9a482c9-d27c-48d7-bba2-9d90a489a3b4",
   "metadata": {},
   "source": [
    "Replacing '--' with '0.00', assuming that this is correct.  Another interpretation is that -- represents no record, so this may need to be instead replaced with NaN."
   ]
  },
  {
   "cell_type": "code",
   "execution_count": 561,
   "id": "9b0d3e60-df61-4c6d-a41e-98e8272a776a",
   "metadata": {},
   "outputs": [],
   "source": [
    "for col in nv_df.columns:\n",
    "    nv_df[col] = nv_df[col].str.replace('--','0.00')"
   ]
  },
  {
   "cell_type": "code",
   "execution_count": 562,
   "id": "632280c9-b56a-4ca9-948e-65ad84e7b587",
   "metadata": {},
   "outputs": [],
   "source": [
    "nv_df = remove_columns_with_same_value(nv_df)"
   ]
  },
  {
   "cell_type": "code",
   "execution_count": 563,
   "id": "63ec117c-c00f-442f-9632-b5a8ac58bbf4",
   "metadata": {
    "tags": []
   },
   "outputs": [
    {
     "data": {
      "text/html": [
       "<div>\n",
       "<style scoped>\n",
       "    .dataframe tbody tr th:only-of-type {\n",
       "        vertical-align: middle;\n",
       "    }\n",
       "\n",
       "    .dataframe tbody tr th {\n",
       "        vertical-align: top;\n",
       "    }\n",
       "\n",
       "    .dataframe thead th {\n",
       "        text-align: right;\n",
       "    }\n",
       "</style>\n",
       "<table border=\"1\" class=\"dataframe\">\n",
       "  <thead>\n",
       "    <tr style=\"text-align: right;\">\n",
       "      <th></th>\n",
       "      <th>protein</th>\n",
       "      <th>carbohydrates</th>\n",
       "      <th>fat_total</th>\n",
       "      <th>dietary_fiber</th>\n",
       "      <th>calories</th>\n",
       "      <th>starch</th>\n",
       "      <th>total_sugars</th>\n",
       "      <th>monosaccharides</th>\n",
       "      <th>fructose</th>\n",
       "      <th>glucose</th>\n",
       "      <th>...</th>\n",
       "      <th>tryptophan</th>\n",
       "      <th>tyrosine</th>\n",
       "      <th>valine</th>\n",
       "      <th>ash</th>\n",
       "      <th>organic_acids_total</th>\n",
       "      <th>acetic_acid</th>\n",
       "      <th>citric_acid</th>\n",
       "      <th>malic_acid</th>\n",
       "      <th>sugar_alcohols_total</th>\n",
       "      <th>xylitol</th>\n",
       "    </tr>\n",
       "  </thead>\n",
       "  <tbody>\n",
       "    <tr>\n",
       "      <th>asparagus_cooked</th>\n",
       "      <td>4.32 g</td>\n",
       "      <td>7.40 g</td>\n",
       "      <td>0.40 g</td>\n",
       "      <td>3.60 g</td>\n",
       "      <td>39.6</td>\n",
       "      <td>0.00 g</td>\n",
       "      <td>2.34 g</td>\n",
       "      <td>2.18 g</td>\n",
       "      <td>1.42 g</td>\n",
       "      <td>0.76 g</td>\n",
       "      <td>...</td>\n",
       "      <td>0.05 g</td>\n",
       "      <td>0.10 g</td>\n",
       "      <td>0.22 g</td>\n",
       "      <td>1.13 g</td>\n",
       "      <td>0.00 g</td>\n",
       "      <td>0.00 g</td>\n",
       "      <td>0.00 g</td>\n",
       "      <td>0.00 g</td>\n",
       "      <td>0.00 g</td>\n",
       "      <td>0.00 g</td>\n",
       "    </tr>\n",
       "    <tr>\n",
       "      <th>avocado_cubed_raw</th>\n",
       "      <td>3.00 g</td>\n",
       "      <td>12.80 g</td>\n",
       "      <td>21.99 g</td>\n",
       "      <td>10.05 g</td>\n",
       "      <td>240</td>\n",
       "      <td>0.00 g</td>\n",
       "      <td>0.99 g</td>\n",
       "      <td>0.89 g</td>\n",
       "      <td>0.18 g</td>\n",
       "      <td>0.56 g</td>\n",
       "      <td>...</td>\n",
       "      <td>0.04 g</td>\n",
       "      <td>0.07 g</td>\n",
       "      <td>0.16 g</td>\n",
       "      <td>2.37 g</td>\n",
       "      <td>0.00 g</td>\n",
       "      <td>0.00 g</td>\n",
       "      <td>0.00 g</td>\n",
       "      <td>0.00 g</td>\n",
       "      <td>0.00 g</td>\n",
       "      <td>0.00 g</td>\n",
       "    </tr>\n",
       "    <tr>\n",
       "      <th>beet_greens_boiled</th>\n",
       "      <td>3.70 g</td>\n",
       "      <td>7.86 g</td>\n",
       "      <td>0.29 g</td>\n",
       "      <td>4.18 g</td>\n",
       "      <td>38.88</td>\n",
       "      <td>0.00 g</td>\n",
       "      <td>0.86 g</td>\n",
       "      <td>0.00 g</td>\n",
       "      <td>0.00 g</td>\n",
       "      <td>0.00 g</td>\n",
       "      <td>...</td>\n",
       "      <td>0.06 g</td>\n",
       "      <td>0.09 g</td>\n",
       "      <td>0.11 g</td>\n",
       "      <td>3.80 g</td>\n",
       "      <td>0.00 g</td>\n",
       "      <td>0.00 g</td>\n",
       "      <td>0.00 g</td>\n",
       "      <td>0.00 g</td>\n",
       "      <td>0.00 g</td>\n",
       "      <td>0.00 g</td>\n",
       "    </tr>\n",
       "  </tbody>\n",
       "</table>\n",
       "<p>3 rows × 129 columns</p>\n",
       "</div>"
      ],
      "text/plain": [
       "                   protein carbohydrates fat_total dietary_fiber calories  \\\n",
       "asparagus_cooked    4.32 g        7.40 g    0.40 g        3.60 g     39.6   \n",
       "avocado_cubed_raw   3.00 g       12.80 g   21.99 g       10.05 g      240   \n",
       "beet_greens_boiled  3.70 g        7.86 g    0.29 g        4.18 g    38.88   \n",
       "\n",
       "                    starch total_sugars monosaccharides fructose glucose  ...  \\\n",
       "asparagus_cooked    0.00 g       2.34 g          2.18 g   1.42 g  0.76 g  ...   \n",
       "avocado_cubed_raw   0.00 g       0.99 g          0.89 g   0.18 g  0.56 g  ...   \n",
       "beet_greens_boiled  0.00 g       0.86 g          0.00 g   0.00 g  0.00 g  ...   \n",
       "\n",
       "                   tryptophan tyrosine  valine     ash organic_acids_total  \\\n",
       "asparagus_cooked       0.05 g   0.10 g  0.22 g  1.13 g              0.00 g   \n",
       "avocado_cubed_raw      0.04 g   0.07 g  0.16 g  2.37 g              0.00 g   \n",
       "beet_greens_boiled     0.06 g   0.09 g  0.11 g  3.80 g              0.00 g   \n",
       "\n",
       "                   acetic_acid citric_acid malic_acid sugar_alcohols_total  \\\n",
       "asparagus_cooked        0.00 g      0.00 g     0.00 g               0.00 g   \n",
       "avocado_cubed_raw       0.00 g      0.00 g     0.00 g               0.00 g   \n",
       "beet_greens_boiled      0.00 g      0.00 g     0.00 g               0.00 g   \n",
       "\n",
       "                   xylitol  \n",
       "asparagus_cooked    0.00 g  \n",
       "avocado_cubed_raw   0.00 g  \n",
       "beet_greens_boiled  0.00 g  \n",
       "\n",
       "[3 rows x 129 columns]"
      ]
     },
     "execution_count": 563,
     "metadata": {},
     "output_type": "execute_result"
    }
   ],
   "source": [
    "nv_df.head()"
   ]
  },
  {
   "cell_type": "markdown",
   "id": "5e276d11-4b30-4b8e-b25c-8cec3477e507",
   "metadata": {
    "tags": []
   },
   "source": [
    "###### Strip units, create {nutrient: unit} dictionary"
   ]
  },
  {
   "cell_type": "markdown",
   "id": "5d0c1cee-5ec6-4cf6-bae5-bafbdf489d9f",
   "metadata": {},
   "source": [
    "The whfoods data contain the following units:\\\n",
    "mg (ATE), mcg (RE), mcg (RAE), IU, g, mg, mcg"
   ]
  },
  {
   "cell_type": "code",
   "execution_count": 564,
   "id": "6c374baf-5c9a-4f68-9206-ae92b2f39942",
   "metadata": {},
   "outputs": [],
   "source": [
    "# Generate a dictionary of units for the different info types (serving_size, \n",
    "# calories, etc.)\n",
    "\n",
    "units_dict = {}\n",
    "units_pattern = re.compile(r\"[mcgiu\\)\\(]+\",re.I) # generate pattern object\n",
    "for r in range(1,len(nv_df.columns)):  # for each of the nutrient labels\n",
    "    s = nv_df.iat[0,r] # get nutrient value\n",
    "    m = units_pattern.search(s) # check pattern object against nutrient value, \n",
    "                        # generating match object\n",
    "    try:\n",
    "        units_dict[nv_df.columns[r]] = m.group()\n",
    "    except:\n",
    "        i=0\n",
    "        while not m:\n",
    "            # loop through until we have a unit or decide there are no units\n",
    "            i = i+1 # go to next value\n",
    "            s = nv_df.iat[i,r] # store value\n",
    "            m = units_pattern.search(s) # search value against the pattern\n",
    "\n",
    "            try: # store match if there is one\n",
    "                units[nv_df.columns[r]] = m.group() \n",
    "            except: \n",
    "                if i==nv_df.shape[0]-1: # if no units found by end, None units\n",
    "                    m = \"None\"\n",
    "                    units_dict[nv_df.columns[r]] = m"
   ]
  },
  {
   "cell_type": "code",
   "execution_count": 565,
   "id": "7c88897a-6a0a-4424-8bdf-5da390fe959d",
   "metadata": {
    "tags": []
   },
   "outputs": [
    {
     "data": {
      "text/plain": [
       "{'carbohydrates': 'g',\n",
       " 'fat_total': 'g',\n",
       " 'dietary_fiber': 'g',\n",
       " 'calories': 'None',\n",
       " 'starch': 'g',\n",
       " 'total_sugars': 'g',\n",
       " 'monosaccharides': 'g',\n",
       " 'fructose': 'g',\n",
       " 'glucose': 'g',\n",
       " 'galactose': 'g',\n",
       " 'disaccharides': 'g',\n",
       " 'lactose': 'g',\n",
       " 'maltose': 'g',\n",
       " 'sucrose': 'g',\n",
       " 'soluble_fiber': 'g',\n",
       " 'insoluble_fiber': 'g',\n",
       " 'other_carbohydrates': 'g',\n",
       " 'monounsaturated_fat': 'g',\n",
       " 'polyunsaturated_fat': 'g',\n",
       " 'saturated_fat': 'g',\n",
       " 'trans_fat': 'g',\n",
       " 'calories_from_fat': 'None',\n",
       " 'calories_from_saturated_fat': 'None',\n",
       " 'calories_from_trans_fat': 'None',\n",
       " 'cholesterol': 'mg',\n",
       " 'water': 'g',\n",
       " 'vitamin_b1': 'mg',\n",
       " 'vitamin_b2': 'mg',\n",
       " 'vitamin_b3': 'mg',\n",
       " 'vitamin_b3_niacin_equivalents': 'mg',\n",
       " 'vitamin_b6': 'mg',\n",
       " 'vitamin_b12': 'mcg',\n",
       " 'biotin': 'mcg',\n",
       " 'choline': 'mg',\n",
       " 'folate': 'mcg',\n",
       " 'folate_dfe': 'mcg',\n",
       " 'folate_food': 'mcg',\n",
       " 'pantothenic_acid': 'mg',\n",
       " 'vitamin_c': 'mg',\n",
       " 'vitamin_a_international_units_iu': 'IU',\n",
       " 'vitamin_a_mcg_retinol_activity_equivalents_rae': 'mcg',\n",
       " 'vitamin_a_mcg_retinol_equivalents_re': 'mcg',\n",
       " 'retinol_mcg_retinol_equivalents_re': 'mcg',\n",
       " 'carotenoid_mcg_retinol_equivalents_re': 'mcg',\n",
       " 'alpha_carotene': 'mcg',\n",
       " 'beta_carotene': 'mcg',\n",
       " 'beta_carotene_equivalents': 'mcg',\n",
       " 'cryptoxanthin': 'mcg',\n",
       " 'lutein_and_zeaxanthin': 'mcg',\n",
       " 'lycopene': 'mcg',\n",
       " 'vitamin_d_international_units_iu': 'IU',\n",
       " 'vitamin_d_mcg': 'mcg',\n",
       " 'vitamin_e_mg_alpha_tocopherol_equivalents_ate': 'mg',\n",
       " 'vitamin_e_international_units_iu': 'IU',\n",
       " 'vitamin_e_mg': 'mg',\n",
       " 'vitamin_k': 'mcg',\n",
       " 'boron': 'mcg',\n",
       " 'calcium': 'mg',\n",
       " 'chloride': 'mg',\n",
       " 'chromium': 'mcg',\n",
       " 'copper': 'mg',\n",
       " 'fluoride': 'mg',\n",
       " 'iodine': 'mcg',\n",
       " 'iron': 'mg',\n",
       " 'magnesium': 'mg',\n",
       " 'manganese': 'mg',\n",
       " 'molybdenum': 'mcg',\n",
       " 'phosphorus': 'mg',\n",
       " 'potassium': 'mg',\n",
       " 'selenium': 'mcg',\n",
       " 'sodium': 'mg',\n",
       " 'zinc': 'mg',\n",
       " 'omega_3_fatty_acids': 'g',\n",
       " 'omega_6_fatty_acids': 'g',\n",
       " '14_1_myristoleic': 'g',\n",
       " '16_1_palmitol': 'g',\n",
       " '17_1_heptadecenoic': 'g',\n",
       " '18_1_oleic': 'g',\n",
       " '20_1_eicosenoic': 'g',\n",
       " '22_1_erucic': 'g',\n",
       " '24_1_nervonic': 'g',\n",
       " '18_2_linoleic': 'g',\n",
       " '18_2_conjugated_linoleic_cla': 'g',\n",
       " '18_3_linolenic': 'g',\n",
       " '18_4_stearidonic': 'g',\n",
       " '20_3_eicosatrienoic': 'g',\n",
       " '20_4_arachidonic': 'g',\n",
       " '20_5_eicosapentaenoic_epa': 'g',\n",
       " '22_5_docosapentaenoic_dpa': 'g',\n",
       " '22_6_docosahexaenoic_dha': 'g',\n",
       " '4_0_butyric': 'g',\n",
       " '6_0_caproic': 'g',\n",
       " '8_0_caprylic': 'g',\n",
       " '10_0_capric': 'g',\n",
       " '12_0_lauric': 'g',\n",
       " '14_0_myristic': 'g',\n",
       " '15_0_pentadecanoic': 'g',\n",
       " '16_0_palmitic': 'g',\n",
       " '17_0_margaric': 'g',\n",
       " '18_0_stearic': 'g',\n",
       " '20_0_arachidic': 'g',\n",
       " '22_0_behenate': 'g',\n",
       " '24_0_lignoceric': 'g',\n",
       " 'alanine': 'g',\n",
       " 'arginine': 'g',\n",
       " 'aspartic_acid': 'g',\n",
       " 'cysteine': 'g',\n",
       " 'glutamic_acid': 'g',\n",
       " 'glycine': 'g',\n",
       " 'histidine': 'g',\n",
       " 'isoleucine': 'g',\n",
       " 'leucine': 'g',\n",
       " 'lysine': 'g',\n",
       " 'methionine': 'g',\n",
       " 'phenylalanine': 'g',\n",
       " 'proline': 'g',\n",
       " 'serine': 'g',\n",
       " 'threonine': 'g',\n",
       " 'tryptophan': 'g',\n",
       " 'tyrosine': 'g',\n",
       " 'valine': 'g',\n",
       " 'ash': 'g',\n",
       " 'organic_acids_total': 'g',\n",
       " 'acetic_acid': 'g',\n",
       " 'citric_acid': 'g',\n",
       " 'malic_acid': 'g',\n",
       " 'sugar_alcohols_total': 'g',\n",
       " 'xylitol': 'g'}"
      ]
     },
     "execution_count": 565,
     "metadata": {},
     "output_type": "execute_result"
    }
   ],
   "source": [
    "units_dict"
   ]
  },
  {
   "cell_type": "code",
   "execution_count": 566,
   "id": "8e82c8de-1f65-4b73-adbd-36f98e0bf7d1",
   "metadata": {},
   "outputs": [],
   "source": [
    "# convert drv from str to int\n",
    "for nutrient in drv_df.columns.values[[0,1]]:\n",
    "    try: \n",
    "        drv_df[[nutrient]] = drv_df[[nutrient]].astype(\"int\")\n",
    "    except: pass"
   ]
  },
  {
   "cell_type": "code",
   "execution_count": 567,
   "id": "96a49f3a-40cf-4e21-a09c-bc824e3abc6b",
   "metadata": {},
   "outputs": [
    {
     "data": {
      "text/html": [
       "<div>\n",
       "<style scoped>\n",
       "    .dataframe tbody tr th:only-of-type {\n",
       "        vertical-align: middle;\n",
       "    }\n",
       "\n",
       "    .dataframe tbody tr th {\n",
       "        vertical-align: top;\n",
       "    }\n",
       "\n",
       "    .dataframe thead th {\n",
       "        text-align: right;\n",
       "    }\n",
       "</style>\n",
       "<table border=\"1\" class=\"dataframe\">\n",
       "  <thead>\n",
       "    <tr style=\"text-align: right;\">\n",
       "      <th></th>\n",
       "      <th>protein</th>\n",
       "      <th>carbohydrates</th>\n",
       "      <th>fat_total</th>\n",
       "      <th>dietary_fiber</th>\n",
       "      <th>calories</th>\n",
       "      <th>starch</th>\n",
       "      <th>total_sugars</th>\n",
       "      <th>monosaccharides</th>\n",
       "      <th>fructose</th>\n",
       "      <th>glucose</th>\n",
       "      <th>...</th>\n",
       "      <th>tryptophan</th>\n",
       "      <th>tyrosine</th>\n",
       "      <th>valine</th>\n",
       "      <th>ash</th>\n",
       "      <th>organic_acids_total</th>\n",
       "      <th>acetic_acid</th>\n",
       "      <th>citric_acid</th>\n",
       "      <th>malic_acid</th>\n",
       "      <th>sugar_alcohols_total</th>\n",
       "      <th>xylitol</th>\n",
       "    </tr>\n",
       "  </thead>\n",
       "  <tbody>\n",
       "    <tr>\n",
       "      <th>asparagus_cooked</th>\n",
       "      <td>4.32 g</td>\n",
       "      <td>7.40 g</td>\n",
       "      <td>0.40 g</td>\n",
       "      <td>3.60 g</td>\n",
       "      <td>39.6</td>\n",
       "      <td>0.00 g</td>\n",
       "      <td>2.34 g</td>\n",
       "      <td>2.18 g</td>\n",
       "      <td>1.42 g</td>\n",
       "      <td>0.76 g</td>\n",
       "      <td>...</td>\n",
       "      <td>0.05 g</td>\n",
       "      <td>0.10 g</td>\n",
       "      <td>0.22 g</td>\n",
       "      <td>1.13 g</td>\n",
       "      <td>0.00 g</td>\n",
       "      <td>0.00 g</td>\n",
       "      <td>0.00 g</td>\n",
       "      <td>0.00 g</td>\n",
       "      <td>0.00 g</td>\n",
       "      <td>0.00 g</td>\n",
       "    </tr>\n",
       "    <tr>\n",
       "      <th>avocado_cubed_raw</th>\n",
       "      <td>3.00 g</td>\n",
       "      <td>12.80 g</td>\n",
       "      <td>21.99 g</td>\n",
       "      <td>10.05 g</td>\n",
       "      <td>240</td>\n",
       "      <td>0.00 g</td>\n",
       "      <td>0.99 g</td>\n",
       "      <td>0.89 g</td>\n",
       "      <td>0.18 g</td>\n",
       "      <td>0.56 g</td>\n",
       "      <td>...</td>\n",
       "      <td>0.04 g</td>\n",
       "      <td>0.07 g</td>\n",
       "      <td>0.16 g</td>\n",
       "      <td>2.37 g</td>\n",
       "      <td>0.00 g</td>\n",
       "      <td>0.00 g</td>\n",
       "      <td>0.00 g</td>\n",
       "      <td>0.00 g</td>\n",
       "      <td>0.00 g</td>\n",
       "      <td>0.00 g</td>\n",
       "    </tr>\n",
       "    <tr>\n",
       "      <th>beet_greens_boiled</th>\n",
       "      <td>3.70 g</td>\n",
       "      <td>7.86 g</td>\n",
       "      <td>0.29 g</td>\n",
       "      <td>4.18 g</td>\n",
       "      <td>38.88</td>\n",
       "      <td>0.00 g</td>\n",
       "      <td>0.86 g</td>\n",
       "      <td>0.00 g</td>\n",
       "      <td>0.00 g</td>\n",
       "      <td>0.00 g</td>\n",
       "      <td>...</td>\n",
       "      <td>0.06 g</td>\n",
       "      <td>0.09 g</td>\n",
       "      <td>0.11 g</td>\n",
       "      <td>3.80 g</td>\n",
       "      <td>0.00 g</td>\n",
       "      <td>0.00 g</td>\n",
       "      <td>0.00 g</td>\n",
       "      <td>0.00 g</td>\n",
       "      <td>0.00 g</td>\n",
       "      <td>0.00 g</td>\n",
       "    </tr>\n",
       "  </tbody>\n",
       "</table>\n",
       "<p>3 rows × 129 columns</p>\n",
       "</div>"
      ],
      "text/plain": [
       "                   protein carbohydrates fat_total dietary_fiber calories  \\\n",
       "asparagus_cooked    4.32 g        7.40 g    0.40 g        3.60 g     39.6   \n",
       "avocado_cubed_raw   3.00 g       12.80 g   21.99 g       10.05 g      240   \n",
       "beet_greens_boiled  3.70 g        7.86 g    0.29 g        4.18 g    38.88   \n",
       "\n",
       "                    starch total_sugars monosaccharides fructose glucose  ...  \\\n",
       "asparagus_cooked    0.00 g       2.34 g          2.18 g   1.42 g  0.76 g  ...   \n",
       "avocado_cubed_raw   0.00 g       0.99 g          0.89 g   0.18 g  0.56 g  ...   \n",
       "beet_greens_boiled  0.00 g       0.86 g          0.00 g   0.00 g  0.00 g  ...   \n",
       "\n",
       "                   tryptophan tyrosine  valine     ash organic_acids_total  \\\n",
       "asparagus_cooked       0.05 g   0.10 g  0.22 g  1.13 g              0.00 g   \n",
       "avocado_cubed_raw      0.04 g   0.07 g  0.16 g  2.37 g              0.00 g   \n",
       "beet_greens_boiled     0.06 g   0.09 g  0.11 g  3.80 g              0.00 g   \n",
       "\n",
       "                   acetic_acid citric_acid malic_acid sugar_alcohols_total  \\\n",
       "asparagus_cooked        0.00 g      0.00 g     0.00 g               0.00 g   \n",
       "avocado_cubed_raw       0.00 g      0.00 g     0.00 g               0.00 g   \n",
       "beet_greens_boiled      0.00 g      0.00 g     0.00 g               0.00 g   \n",
       "\n",
       "                   xylitol  \n",
       "asparagus_cooked    0.00 g  \n",
       "avocado_cubed_raw   0.00 g  \n",
       "beet_greens_boiled  0.00 g  \n",
       "\n",
       "[3 rows x 129 columns]"
      ]
     },
     "execution_count": 567,
     "metadata": {},
     "output_type": "execute_result"
    }
   ],
   "source": [
    "nv_df.head()"
   ]
  },
  {
   "cell_type": "code",
   "execution_count": 568,
   "id": "a148b433-8a4e-40ad-9abe-b98b2109996f",
   "metadata": {},
   "outputs": [],
   "source": [
    "def float_match(float_pattern, x):\n",
    "    float_val = np.nan\n",
    "    try:\n",
    "         float_val = float(re.match(float_pattern,x)[0])\n",
    "    except: \n",
    "        float_val = float(x)\n",
    "            \n",
    "    return float_val"
   ]
  },
  {
   "cell_type": "code",
   "execution_count": 569,
   "id": "cb6cb59f-5e67-4fad-bcfa-404c84c71f0d",
   "metadata": {},
   "outputs": [],
   "source": [
    "float_pattern = r'^\\d+\\.\\d+'\n",
    "for col in nv_df.columns:\n",
    "    nv_df[col] = nv_df[col].apply(lambda x: float_match(float_pattern, x))"
   ]
  },
  {
   "cell_type": "code",
   "execution_count": 570,
   "id": "9b28ae5a-45dc-41c4-b942-5abc03ccda96",
   "metadata": {},
   "outputs": [],
   "source": [
    "nv_df = remove_columns_with_same_value(nv_df)\n",
    "drv_df = remove_columns_with_same_value(drv_df)"
   ]
  },
  {
   "cell_type": "markdown",
   "id": "a156eeb0-f288-486c-a81d-43edd2e0f95e",
   "metadata": {
    "tags": []
   },
   "source": [
    "##### Removing duplicate nutrient columns"
   ]
  },
  {
   "cell_type": "markdown",
   "id": "65f56d1f-c311-4a61-927c-dbe81a4efc7a",
   "metadata": {},
   "source": [
    "The columns that need investigating are: \n",
    "* 'Folate', 'Folate (DFE)', and 'Folate (food)' - same for almost all foods.  Keeping 'Folate (DFE)'\n",
    "* 'Vitamin B3', 'Vitamin B3 (Niacin Equivalents)'\n",
    "*  'Vitamin A International Units (IU)',\n",
    "       'Vitamin A mcg Retinol Activity Equivalents (RAE)',\n",
    "       'Vitamin A mcg Retinol Equivalents (RE)',\n",
    "       'Retinol mcg Retinol Equivalents (RE)',\n",
    "       'Carotenoid mcg Retinol Equivalents (RE)', 'Alpha-Carotene'\n",
    "* 'Vitamin E mg Alpha-Tocopherol Equivalents (ATE)',\n",
    "       'Vitamin E International Units (IU)', 'Vitamin E mg',"
   ]
  },
  {
   "cell_type": "code",
   "execution_count": 571,
   "id": "8f6fcfe3-0b0e-4838-8a08-628c1ce95afa",
   "metadata": {},
   "outputs": [],
   "source": [
    "def find_duplicate_columns(df):\n",
    "    \"\"\"\n",
    "    Find columns with the same values in a DataFrame.\n",
    "    Returns a list of column names with duplicates.\n",
    "    \"\"\"\n",
    "    duplicate_columns = []\n",
    "    for column1 in df.columns:\n",
    "        for column2 in df.columns:\n",
    "            if column1 != column2 and (df[column1] == df[column2]).all():\n",
    "                duplicate_columns.append(column1)\n",
    "                break\n",
    "    return duplicate_columns"
   ]
  },
  {
   "cell_type": "code",
   "execution_count": 572,
   "id": "ed7b7a39-647b-46cd-84d6-cbf796da2199",
   "metadata": {},
   "outputs": [],
   "source": [
    "dup_cols_nv = find_duplicate_columns(nv_df)\n",
    "dup_cols_drv = find_duplicate_columns(drv_df)"
   ]
  },
  {
   "cell_type": "code",
   "execution_count": 573,
   "id": "990b9336-8f70-4521-89ed-22c5b6c15049",
   "metadata": {},
   "outputs": [
    {
     "data": {
      "text/plain": [
       "['folate',\n",
       " 'folate_food',\n",
       " 'vitamin_e_mg_alpha_tocopherol_equivalents_ate',\n",
       " 'vitamin_e_mg',\n",
       " 'acetic_acid',\n",
       " 'sugar_alcohols_total',\n",
       " 'xylitol']"
      ]
     },
     "execution_count": 573,
     "metadata": {},
     "output_type": "execute_result"
    }
   ],
   "source": [
    "dup_cols_nv"
   ]
  },
  {
   "cell_type": "code",
   "execution_count": 574,
   "id": "e7639540-4cda-453b-8255-1b006d4d08d1",
   "metadata": {},
   "outputs": [
    {
     "data": {
      "text/html": [
       "<div>\n",
       "<style scoped>\n",
       "    .dataframe tbody tr th:only-of-type {\n",
       "        vertical-align: middle;\n",
       "    }\n",
       "\n",
       "    .dataframe tbody tr th {\n",
       "        vertical-align: top;\n",
       "    }\n",
       "\n",
       "    .dataframe thead th {\n",
       "        text-align: right;\n",
       "    }\n",
       "</style>\n",
       "<table border=\"1\" class=\"dataframe\">\n",
       "  <thead>\n",
       "    <tr style=\"text-align: right;\">\n",
       "      <th></th>\n",
       "      <th>folate</th>\n",
       "      <th>folate_food</th>\n",
       "      <th>vitamin_e_mg_alpha_tocopherol_equivalents_ate</th>\n",
       "      <th>vitamin_e_mg</th>\n",
       "      <th>acetic_acid</th>\n",
       "      <th>sugar_alcohols_total</th>\n",
       "      <th>xylitol</th>\n",
       "    </tr>\n",
       "  </thead>\n",
       "  <tbody>\n",
       "    <tr>\n",
       "      <th>asparagus_cooked</th>\n",
       "      <td>268.20</td>\n",
       "      <td>268.20</td>\n",
       "      <td>2.70</td>\n",
       "      <td>2.70</td>\n",
       "      <td>0.0</td>\n",
       "      <td>0.0</td>\n",
       "      <td>0.0</td>\n",
       "    </tr>\n",
       "    <tr>\n",
       "      <th>avocado_cubed_raw</th>\n",
       "      <td>121.50</td>\n",
       "      <td>121.50</td>\n",
       "      <td>3.11</td>\n",
       "      <td>3.11</td>\n",
       "      <td>0.0</td>\n",
       "      <td>0.0</td>\n",
       "      <td>0.0</td>\n",
       "    </tr>\n",
       "    <tr>\n",
       "      <th>beet_greens_boiled</th>\n",
       "      <td>20.16</td>\n",
       "      <td>20.16</td>\n",
       "      <td>2.61</td>\n",
       "      <td>2.61</td>\n",
       "      <td>0.0</td>\n",
       "      <td>0.0</td>\n",
       "      <td>0.0</td>\n",
       "    </tr>\n",
       "  </tbody>\n",
       "</table>\n",
       "</div>"
      ],
      "text/plain": [
       "                    folate  folate_food  \\\n",
       "asparagus_cooked    268.20       268.20   \n",
       "avocado_cubed_raw   121.50       121.50   \n",
       "beet_greens_boiled   20.16        20.16   \n",
       "\n",
       "                    vitamin_e_mg_alpha_tocopherol_equivalents_ate  \\\n",
       "asparagus_cooked                                             2.70   \n",
       "avocado_cubed_raw                                            3.11   \n",
       "beet_greens_boiled                                           2.61   \n",
       "\n",
       "                    vitamin_e_mg  acetic_acid  sugar_alcohols_total  xylitol  \n",
       "asparagus_cooked            2.70          0.0                   0.0      0.0  \n",
       "avocado_cubed_raw           3.11          0.0                   0.0      0.0  \n",
       "beet_greens_boiled          2.61          0.0                   0.0      0.0  "
      ]
     },
     "execution_count": 574,
     "metadata": {},
     "output_type": "execute_result"
    }
   ],
   "source": [
    "nv_df[dup_cols_nv].head()"
   ]
  },
  {
   "cell_type": "markdown",
   "id": "48ff3410-abcd-4fc6-92a9-031ddf3fcd33",
   "metadata": {},
   "source": [
    "I'll drop ['vitamin_e_mg',\n",
    " 'acetic_acid',\n",
    " 'sugar_alcohols_total',\n",
    " 'xylitol'] from nv_df since the first of these is a duplicate and the others have no informative values."
   ]
  },
  {
   "cell_type": "code",
   "execution_count": 575,
   "id": "6c05928b-158f-4e20-a2af-4384077503a1",
   "metadata": {
    "tags": []
   },
   "outputs": [],
   "source": [
    "nv_df = nv_df.drop(['folate_food', 'vitamin_e_mg', 'acetic_acid', \n",
    "                    'sugar_alcohols_total', 'xylitol'],axis=1)"
   ]
  },
  {
   "cell_type": "code",
   "execution_count": 576,
   "id": "61fc0bcb-331e-4cef-8a45-484a19229b0d",
   "metadata": {},
   "outputs": [
    {
     "data": {
      "text/plain": [
       "(117, 124)"
      ]
     },
     "execution_count": 576,
     "metadata": {},
     "output_type": "execute_result"
    }
   ],
   "source": [
    "nv_df.shape # there are now 125 nutrients in nv_df"
   ]
  },
  {
   "cell_type": "markdown",
   "id": "46ae9b02-53f6-45bb-848c-33a3de154fef",
   "metadata": {},
   "source": [
    "###### Vitamin D"
   ]
  },
  {
   "cell_type": "code",
   "execution_count": 577,
   "id": "7bdf5979-47b7-47a3-b47e-991de0073f55",
   "metadata": {},
   "outputs": [
    {
     "data": {
      "text/plain": [
       "mushrooms_crimini_raw                       30.857143\n",
       "mushrooms_shiitake_cooked                   39.803922\n",
       "chicken_pasture-raised_breast_roasted       51.545455\n",
       "lamb_grass-fed_lean_loin_roasted            20.636364\n",
       "turkey_pasture-raised_light_meat_roasted    33.352941\n",
       "cheese_grass_fed_cheddar_whole_milk         40.000000\n",
       "cow's_milk_grass-fed                        39.132075\n",
       "eggs_pasture-raised_large_hard_boiled       39.545455\n",
       "yogurt_grass_fed_whole_milk                 19.600000\n",
       "cod_pacific_fillet_baked                    40.029412\n",
       "salmon_wild_coho_broiled                    39.924278\n",
       "sardines_atlantic_canned                    40.250575\n",
       "scallops_steamed                                  inf\n",
       "shrimp_large_steamed                        41.272727\n",
       "tuna_yellowfin_fillet_baked                 40.964758\n",
       "Name: vitamin_d_mcg, dtype: float64"
      ]
     },
     "execution_count": 577,
     "metadata": {},
     "output_type": "execute_result"
    }
   ],
   "source": [
    "nv_df[~(nv_df.filter(regex='vitamin_d',axis=1) == 0).all(axis=1)].filter(\n",
    "    regex='vitamin_d',axis=1)['vitamin_d_international_units_iu'].values/\\\n",
    "nv_df[~(nv_df.filter(regex='vitamin_d',axis=1) == 0).all(axis=1)].filter(\n",
    "    regex='vitamin_d',axis=1)['vitamin_d_mcg']"
   ]
  },
  {
   "cell_type": "markdown",
   "id": "c76cf116-2b82-476f-8e3e-f6a761c310a8",
   "metadata": {
    "tags": []
   },
   "source": [
    "###### Folate"
   ]
  },
  {
   "cell_type": "code",
   "execution_count": 578,
   "id": "612340dd-4607-4c37-85e3-6526f973c5e3",
   "metadata": {},
   "outputs": [
    {
     "data": {
      "text/plain": [
       "['folate', 'folate_dfe']"
      ]
     },
     "execution_count": 578,
     "metadata": {},
     "output_type": "execute_result"
    }
   ],
   "source": [
    "folate_cols = [col for col in nv_df.columns if 'folate' in col]\n",
    "folate_cols"
   ]
  },
  {
   "cell_type": "markdown",
   "id": "ee805ff7-ca87-48b6-a645-4065010cd54d",
   "metadata": {},
   "source": [
    "folate_cols"
   ]
  },
  {
   "cell_type": "code",
   "execution_count": 579,
   "id": "2c5da911-0bd1-4f85-83cf-cd0f530b7987",
   "metadata": {
    "tags": []
   },
   "outputs": [
    {
     "data": {
      "text/plain": [
       "116"
      ]
     },
     "execution_count": 579,
     "metadata": {},
     "output_type": "execute_result"
    }
   ],
   "source": [
    "nv_df[folate_cols].apply(lambda x: x.nunique() == 1,axis = 1).sum()"
   ]
  },
  {
   "cell_type": "markdown",
   "id": "f68f9138-c541-47db-9e1c-20a7d8ed33e9",
   "metadata": {},
   "source": [
    "One food does not have the same values for each folate category. "
   ]
  },
  {
   "cell_type": "code",
   "execution_count": 580,
   "id": "7d048432-4138-4551-9927-d12b7f20952d",
   "metadata": {
    "tags": []
   },
   "outputs": [
    {
     "data": {
      "text/html": [
       "<div>\n",
       "<style scoped>\n",
       "    .dataframe tbody tr th:only-of-type {\n",
       "        vertical-align: middle;\n",
       "    }\n",
       "\n",
       "    .dataframe tbody tr th {\n",
       "        vertical-align: top;\n",
       "    }\n",
       "\n",
       "    .dataframe thead th {\n",
       "        text-align: right;\n",
       "    }\n",
       "</style>\n",
       "<table border=\"1\" class=\"dataframe\">\n",
       "  <thead>\n",
       "    <tr style=\"text-align: right;\">\n",
       "      <th></th>\n",
       "      <th>folate</th>\n",
       "      <th>folate_dfe</th>\n",
       "    </tr>\n",
       "  </thead>\n",
       "  <tbody>\n",
       "    <tr>\n",
       "      <th>sea_vegetables_dulse_dried</th>\n",
       "      <td>0.0</td>\n",
       "      <td>45.6</td>\n",
       "    </tr>\n",
       "  </tbody>\n",
       "</table>\n",
       "</div>"
      ],
      "text/plain": [
       "                            folate  folate_dfe\n",
       "sea_vegetables_dulse_dried     0.0        45.6"
      ]
     },
     "execution_count": 580,
     "metadata": {},
     "output_type": "execute_result"
    }
   ],
   "source": [
    "nv_df[nv_df[folate_cols].\\\n",
    "                 apply(lambda x: x.nunique() != 1,axis = 1).values][folate_cols]"
   ]
  },
  {
   "cell_type": "markdown",
   "id": "425d9248-7a28-4513-bea8-cda29c4764ae",
   "metadata": {},
   "source": [
    "I'll drop ['Folate', 'Folate (food)'] columns and keep the descriptive 'Folate (DFE)' but rename it to the more concise 'folate'"
   ]
  },
  {
   "cell_type": "code",
   "execution_count": 581,
   "id": "7993c336-7014-47a9-84e5-258a930d0d0c",
   "metadata": {},
   "outputs": [],
   "source": [
    "nv_df = nv_df.drop(columns = ['folate'])"
   ]
  },
  {
   "cell_type": "code",
   "execution_count": 582,
   "id": "f66ac237-3a40-41be-8bb0-0a2d63635153",
   "metadata": {},
   "outputs": [],
   "source": [
    "nv_df.rename({'folate_dfe':'folate'},axis=1,inplace=True)"
   ]
  },
  {
   "cell_type": "code",
   "execution_count": null,
   "id": "69a13318-47b3-40cc-b797-bf6867bd2e92",
   "metadata": {},
   "outputs": [],
   "source": []
  },
  {
   "cell_type": "markdown",
   "id": "ad718c57-2e38-43fc-925e-37f24f5489f5",
   "metadata": {
    "tags": []
   },
   "source": [
    "###### Vitamin E"
   ]
  },
  {
   "cell_type": "code",
   "execution_count": 583,
   "id": "67ed212f-70ee-4e56-8b7a-85f717ac1a56",
   "metadata": {},
   "outputs": [
    {
     "data": {
      "text/plain": [
       "['vitamin_e_mg_alpha_tocopherol_equivalents_ate',\n",
       " 'vitamin_e_international_units_iu']"
      ]
     },
     "execution_count": 583,
     "metadata": {},
     "output_type": "execute_result"
    }
   ],
   "source": [
    "ve_cols = [col for col in nv_df.columns if 'vitamin_e' in col]\n",
    "ve_cols"
   ]
  },
  {
   "cell_type": "code",
   "execution_count": 584,
   "id": "67d498a9-8f22-43f1-a189-c8e7dc590ffd",
   "metadata": {
    "tags": []
   },
   "outputs": [
    {
     "data": {
      "text/html": [
       "<div>\n",
       "<style scoped>\n",
       "    .dataframe tbody tr th:only-of-type {\n",
       "        vertical-align: middle;\n",
       "    }\n",
       "\n",
       "    .dataframe tbody tr th {\n",
       "        vertical-align: top;\n",
       "    }\n",
       "\n",
       "    .dataframe thead th {\n",
       "        text-align: right;\n",
       "    }\n",
       "</style>\n",
       "<table border=\"1\" class=\"dataframe\">\n",
       "  <thead>\n",
       "    <tr style=\"text-align: right;\">\n",
       "      <th></th>\n",
       "      <th>vitamin_e_mg_alpha_tocopherol_equivalents_ate</th>\n",
       "      <th>vitamin_e_international_units_iu</th>\n",
       "    </tr>\n",
       "  </thead>\n",
       "  <tbody>\n",
       "    <tr>\n",
       "      <th>asparagus_cooked</th>\n",
       "      <td>2.70</td>\n",
       "      <td>4.02</td>\n",
       "    </tr>\n",
       "    <tr>\n",
       "      <th>avocado_cubed_raw</th>\n",
       "      <td>3.11</td>\n",
       "      <td>4.63</td>\n",
       "    </tr>\n",
       "    <tr>\n",
       "      <th>beet_greens_boiled</th>\n",
       "      <td>2.61</td>\n",
       "      <td>3.88</td>\n",
       "    </tr>\n",
       "    <tr>\n",
       "      <th>beets_sliced_cooked</th>\n",
       "      <td>0.07</td>\n",
       "      <td>0.10</td>\n",
       "    </tr>\n",
       "    <tr>\n",
       "      <th>bell_peppers_sliced_red_raw</th>\n",
       "      <td>1.45</td>\n",
       "      <td>2.17</td>\n",
       "    </tr>\n",
       "    <tr>\n",
       "      <th>...</th>\n",
       "      <td>...</td>\n",
       "      <td>...</td>\n",
       "    </tr>\n",
       "    <tr>\n",
       "      <th>peppermint_leaves_fresh</th>\n",
       "      <td>0.00</td>\n",
       "      <td>0.00</td>\n",
       "    </tr>\n",
       "    <tr>\n",
       "      <th>rosemary_fresh</th>\n",
       "      <td>0.00</td>\n",
       "      <td>0.00</td>\n",
       "    </tr>\n",
       "    <tr>\n",
       "      <th>sage_dried</th>\n",
       "      <td>0.10</td>\n",
       "      <td>0.16</td>\n",
       "    </tr>\n",
       "    <tr>\n",
       "      <th>thyme_fresh</th>\n",
       "      <td>0.00</td>\n",
       "      <td>0.00</td>\n",
       "    </tr>\n",
       "    <tr>\n",
       "      <th>turmeric_ground</th>\n",
       "      <td>0.14</td>\n",
       "      <td>0.20</td>\n",
       "    </tr>\n",
       "  </tbody>\n",
       "</table>\n",
       "<p>117 rows × 2 columns</p>\n",
       "</div>"
      ],
      "text/plain": [
       "                             vitamin_e_mg_alpha_tocopherol_equivalents_ate  \\\n",
       "asparagus_cooked                                                      2.70   \n",
       "avocado_cubed_raw                                                     3.11   \n",
       "beet_greens_boiled                                                    2.61   \n",
       "beets_sliced_cooked                                                   0.07   \n",
       "bell_peppers_sliced_red_raw                                           1.45   \n",
       "...                                                                    ...   \n",
       "peppermint_leaves_fresh                                               0.00   \n",
       "rosemary_fresh                                                        0.00   \n",
       "sage_dried                                                            0.10   \n",
       "thyme_fresh                                                           0.00   \n",
       "turmeric_ground                                                       0.14   \n",
       "\n",
       "                             vitamin_e_international_units_iu  \n",
       "asparagus_cooked                                         4.02  \n",
       "avocado_cubed_raw                                        4.63  \n",
       "beet_greens_boiled                                       3.88  \n",
       "beets_sliced_cooked                                      0.10  \n",
       "bell_peppers_sliced_red_raw                              2.17  \n",
       "...                                                       ...  \n",
       "peppermint_leaves_fresh                                  0.00  \n",
       "rosemary_fresh                                           0.00  \n",
       "sage_dried                                               0.16  \n",
       "thyme_fresh                                              0.00  \n",
       "turmeric_ground                                          0.20  \n",
       "\n",
       "[117 rows x 2 columns]"
      ]
     },
     "execution_count": 584,
     "metadata": {},
     "output_type": "execute_result"
    }
   ],
   "source": [
    "nv_df[ve_cols]"
   ]
  },
  {
   "cell_type": "markdown",
   "id": "ccba82a8-15ca-4ccd-95b3-2d36ef9a239b",
   "metadata": {},
   "source": [
    "I'll get rid of vitamin_e_international_units_iu and keep only the more modern alpha tocopherol equivalent and simplify the name to vitamin_e."
   ]
  },
  {
   "cell_type": "code",
   "execution_count": 585,
   "id": "1573e91b-8ec2-45ef-81d0-54e0b89ae377",
   "metadata": {},
   "outputs": [],
   "source": [
    "nv_df = nv_df.drop(columns=['vitamin_e_international_units_iu']).rename({'vitamin_e_mg_alpha_tocopherol_equivalents_ate':'vitamin_e'},axis=1)"
   ]
  },
  {
   "cell_type": "code",
   "execution_count": 586,
   "id": "7e2a1dd8-dbae-4c47-b52a-b490aa909c8b",
   "metadata": {},
   "outputs": [
    {
     "data": {
      "text/plain": [
       "array(['protein', 'carbohydrates', 'fat_total', 'dietary_fiber',\n",
       "       'calories', 'starch', 'total_sugars', 'monosaccharides',\n",
       "       'fructose', 'glucose', 'galactose', 'disaccharides', 'lactose',\n",
       "       'maltose', 'sucrose', 'soluble_fiber', 'insoluble_fiber',\n",
       "       'other_carbohydrates', 'monounsaturated_fat',\n",
       "       'polyunsaturated_fat', 'saturated_fat', 'trans_fat',\n",
       "       'calories_from_fat', 'calories_from_saturated_fat',\n",
       "       'calories_from_trans_fat', 'cholesterol', 'water', 'vitamin_b1',\n",
       "       'vitamin_b2', 'vitamin_b3', 'vitamin_b3_niacin_equivalents',\n",
       "       'vitamin_b6', 'vitamin_b12', 'biotin', 'choline', 'folate',\n",
       "       'pantothenic_acid', 'vitamin_c',\n",
       "       'vitamin_a_international_units_iu',\n",
       "       'vitamin_a_mcg_retinol_activity_equivalents_rae',\n",
       "       'vitamin_a_mcg_retinol_equivalents_re',\n",
       "       'retinol_mcg_retinol_equivalents_re',\n",
       "       'carotenoid_mcg_retinol_equivalents_re', 'alpha_carotene',\n",
       "       'beta_carotene', 'beta_carotene_equivalents', 'cryptoxanthin',\n",
       "       'lutein_and_zeaxanthin', 'lycopene',\n",
       "       'vitamin_d_international_units_iu', 'vitamin_d_mcg', 'vitamin_e',\n",
       "       'vitamin_k', 'boron', 'calcium', 'chloride', 'chromium', 'copper',\n",
       "       'fluoride', 'iodine', 'iron', 'magnesium', 'manganese',\n",
       "       'molybdenum', 'phosphorus', 'potassium', 'selenium', 'sodium',\n",
       "       'zinc', 'omega_3_fatty_acids', 'omega_6_fatty_acids',\n",
       "       '14_1_myristoleic', '16_1_palmitol', '17_1_heptadecenoic',\n",
       "       '18_1_oleic', '20_1_eicosenoic', '22_1_erucic', '24_1_nervonic',\n",
       "       '18_2_linoleic', '18_2_conjugated_linoleic_cla', '18_3_linolenic',\n",
       "       '18_4_stearidonic', '20_3_eicosatrienoic', '20_4_arachidonic',\n",
       "       '20_5_eicosapentaenoic_epa', '22_5_docosapentaenoic_dpa',\n",
       "       '22_6_docosahexaenoic_dha', '4_0_butyric', '6_0_caproic',\n",
       "       '8_0_caprylic', '10_0_capric', '12_0_lauric', '14_0_myristic',\n",
       "       '15_0_pentadecanoic', '16_0_palmitic', '17_0_margaric',\n",
       "       '18_0_stearic', '20_0_arachidic', '22_0_behenate',\n",
       "       '24_0_lignoceric', 'alanine', 'arginine', 'aspartic_acid',\n",
       "       'cysteine', 'glutamic_acid', 'glycine', 'histidine', 'isoleucine',\n",
       "       'leucine', 'lysine', 'methionine', 'phenylalanine', 'proline',\n",
       "       'serine', 'threonine', 'tryptophan', 'tyrosine', 'valine', 'ash',\n",
       "       'organic_acids_total', 'citric_acid', 'malic_acid'], dtype=object)"
      ]
     },
     "execution_count": 586,
     "metadata": {},
     "output_type": "execute_result"
    }
   ],
   "source": [
    "nv_df.columns.values"
   ]
  },
  {
   "cell_type": "markdown",
   "id": "6a92cb51-98e9-481f-8442-fffa1c15c121",
   "metadata": {
    "tags": []
   },
   "source": [
    "###### Vitamin A"
   ]
  },
  {
   "cell_type": "code",
   "execution_count": 587,
   "id": "9caf4bfa-e958-47fb-a6de-1897844447ac",
   "metadata": {},
   "outputs": [
    {
     "data": {
      "text/plain": [
       "Index(['vitamin_a_international_units_iu',\n",
       "       'vitamin_a_mcg_retinol_activity_equivalents_rae',\n",
       "       'vitamin_a_mcg_retinol_equivalents_re',\n",
       "       'retinol_mcg_retinol_equivalents_re',\n",
       "       'carotenoid_mcg_retinol_equivalents_re'],\n",
       "      dtype='object')"
      ]
     },
     "execution_count": 587,
     "metadata": {},
     "output_type": "execute_result"
    }
   ],
   "source": [
    "va_cols =  nv_df.filter(regex='vitamin_a|carotenoid|retinol').columns\n",
    "va_cols"
   ]
  },
  {
   "cell_type": "code",
   "execution_count": 588,
   "id": "a837eac8-9772-4d34-8f3a-40b369149927",
   "metadata": {},
   "outputs": [],
   "source": [
    "va_df = nv_df[nv_df[va_cols].\\\n",
    "                 apply(lambda x: x.nunique() != 1,axis = 1).values][\n",
    "            va_cols]"
   ]
  },
  {
   "cell_type": "markdown",
   "id": "b917ef3d-33b5-471f-af94-53e07d883b02",
   "metadata": {
    "tags": []
   },
   "source": [
    "To compare, I'll extract the floating point numbers from the data."
   ]
  },
  {
   "cell_type": "code",
   "execution_count": 589,
   "id": "c655e024-65f6-4e05-9890-983e5284b4f1",
   "metadata": {
    "tags": []
   },
   "outputs": [
    {
     "data": {
      "text/html": [
       "<div>\n",
       "<style scoped>\n",
       "    .dataframe tbody tr th:only-of-type {\n",
       "        vertical-align: middle;\n",
       "    }\n",
       "\n",
       "    .dataframe tbody tr th {\n",
       "        vertical-align: top;\n",
       "    }\n",
       "\n",
       "    .dataframe thead th {\n",
       "        text-align: right;\n",
       "    }\n",
       "</style>\n",
       "<table border=\"1\" class=\"dataframe\">\n",
       "  <thead>\n",
       "    <tr style=\"text-align: right;\">\n",
       "      <th></th>\n",
       "      <th>vitamin_a_mcg_retinol_equivalents_re</th>\n",
       "      <th>carotenoid_mcg_retinol_equivalents_re</th>\n",
       "    </tr>\n",
       "  </thead>\n",
       "  <tbody>\n",
       "    <tr>\n",
       "      <th>chicken_pasture-raised_breast_roasted</th>\n",
       "      <td>0.00</td>\n",
       "      <td>6.80</td>\n",
       "    </tr>\n",
       "    <tr>\n",
       "      <th>lamb_grass-fed_lean_loin_roasted</th>\n",
       "      <td>0.00</td>\n",
       "      <td>34.23</td>\n",
       "    </tr>\n",
       "    <tr>\n",
       "      <th>turkey_pasture-raised_light_meat_roasted</th>\n",
       "      <td>3.40</td>\n",
       "      <td>0.00</td>\n",
       "    </tr>\n",
       "    <tr>\n",
       "      <th>cheese_grass_fed_cheddar_whole_milk</th>\n",
       "      <td>77.11</td>\n",
       "      <td>3.37</td>\n",
       "    </tr>\n",
       "    <tr>\n",
       "      <th>cow's_milk_grass-fed</th>\n",
       "      <td>2.44</td>\n",
       "      <td>57.34</td>\n",
       "    </tr>\n",
       "    <tr>\n",
       "      <th>eggs_pasture-raised_large_hard_boiled</th>\n",
       "      <td>1.00</td>\n",
       "      <td>75.00</td>\n",
       "    </tr>\n",
       "    <tr>\n",
       "      <th>yogurt_grass_fed_whole_milk</th>\n",
       "      <td>2.04</td>\n",
       "      <td>68.19</td>\n",
       "    </tr>\n",
       "    <tr>\n",
       "      <th>cod_pacific_fillet_baked</th>\n",
       "      <td>0.00</td>\n",
       "      <td>2.27</td>\n",
       "    </tr>\n",
       "    <tr>\n",
       "      <th>salmon_wild_coho_broiled</th>\n",
       "      <td>0.00</td>\n",
       "      <td>57.83</td>\n",
       "    </tr>\n",
       "    <tr>\n",
       "      <th>sardines_atlantic_canned</th>\n",
       "      <td>0.00</td>\n",
       "      <td>29.03</td>\n",
       "    </tr>\n",
       "    <tr>\n",
       "      <th>scallops_steamed</th>\n",
       "      <td>0.00</td>\n",
       "      <td>2.27</td>\n",
       "    </tr>\n",
       "    <tr>\n",
       "      <th>shrimp_large_steamed</th>\n",
       "      <td>0.00</td>\n",
       "      <td>102.06</td>\n",
       "    </tr>\n",
       "    <tr>\n",
       "      <th>tuna_yellowfin_fillet_baked</th>\n",
       "      <td>0.00</td>\n",
       "      <td>24.95</td>\n",
       "    </tr>\n",
       "  </tbody>\n",
       "</table>\n",
       "</div>"
      ],
      "text/plain": [
       "                                          vitamin_a_mcg_retinol_equivalents_re  \\\n",
       "chicken_pasture-raised_breast_roasted                                     0.00   \n",
       "lamb_grass-fed_lean_loin_roasted                                          0.00   \n",
       "turkey_pasture-raised_light_meat_roasted                                  3.40   \n",
       "cheese_grass_fed_cheddar_whole_milk                                      77.11   \n",
       "cow's_milk_grass-fed                                                      2.44   \n",
       "eggs_pasture-raised_large_hard_boiled                                     1.00   \n",
       "yogurt_grass_fed_whole_milk                                               2.04   \n",
       "cod_pacific_fillet_baked                                                  0.00   \n",
       "salmon_wild_coho_broiled                                                  0.00   \n",
       "sardines_atlantic_canned                                                  0.00   \n",
       "scallops_steamed                                                          0.00   \n",
       "shrimp_large_steamed                                                      0.00   \n",
       "tuna_yellowfin_fillet_baked                                               0.00   \n",
       "\n",
       "                                          carotenoid_mcg_retinol_equivalents_re  \n",
       "chicken_pasture-raised_breast_roasted                                      6.80  \n",
       "lamb_grass-fed_lean_loin_roasted                                          34.23  \n",
       "turkey_pasture-raised_light_meat_roasted                                   0.00  \n",
       "cheese_grass_fed_cheddar_whole_milk                                        3.37  \n",
       "cow's_milk_grass-fed                                                      57.34  \n",
       "eggs_pasture-raised_large_hard_boiled                                     75.00  \n",
       "yogurt_grass_fed_whole_milk                                               68.19  \n",
       "cod_pacific_fillet_baked                                                   2.27  \n",
       "salmon_wild_coho_broiled                                                  57.83  \n",
       "sardines_atlantic_canned                                                  29.03  \n",
       "scallops_steamed                                                           2.27  \n",
       "shrimp_large_steamed                                                     102.06  \n",
       "tuna_yellowfin_fillet_baked                                               24.95  "
      ]
     },
     "execution_count": 589,
     "metadata": {},
     "output_type": "execute_result"
    }
   ],
   "source": [
    "sum(va_df[va_cols[2]] == va_df[va_cols[4]])\n",
    "# 104 foods are the same for 'Vitamin A mcg Retinol Equivalents (RE)' and 'Carotenoid mcg Retinol Equivalents (RE)'\n",
    "\n",
    "va_df[va_df[va_cols[2]] != va_df[va_cols[4]]][[va_cols[2],va_cols[4]]]"
   ]
  },
  {
   "cell_type": "code",
   "execution_count": 590,
   "id": "86dfaae1-66d9-4dee-bcdb-cd21872d7ca2",
   "metadata": {},
   "outputs": [
    {
     "data": {
      "text/html": [
       "<div>\n",
       "<style scoped>\n",
       "    .dataframe tbody tr th:only-of-type {\n",
       "        vertical-align: middle;\n",
       "    }\n",
       "\n",
       "    .dataframe tbody tr th {\n",
       "        vertical-align: top;\n",
       "    }\n",
       "\n",
       "    .dataframe thead th {\n",
       "        text-align: right;\n",
       "    }\n",
       "</style>\n",
       "<table border=\"1\" class=\"dataframe\">\n",
       "  <thead>\n",
       "    <tr style=\"text-align: right;\">\n",
       "      <th></th>\n",
       "      <th>vitamin_a_international_units_iu</th>\n",
       "      <th>vitamin_a_mcg_retinol_activity_equivalents_rae</th>\n",
       "      <th>vitamin_a_mcg_retinol_equivalents_re</th>\n",
       "      <th>retinol_mcg_retinol_equivalents_re</th>\n",
       "      <th>carotenoid_mcg_retinol_equivalents_re</th>\n",
       "    </tr>\n",
       "  </thead>\n",
       "  <tbody>\n",
       "    <tr>\n",
       "      <th>asparagus_cooked</th>\n",
       "      <td>1810.80</td>\n",
       "      <td>90.54</td>\n",
       "      <td>181.08</td>\n",
       "      <td>0.0</td>\n",
       "      <td>181.08</td>\n",
       "    </tr>\n",
       "    <tr>\n",
       "      <th>avocado_cubed_raw</th>\n",
       "      <td>219.00</td>\n",
       "      <td>10.95</td>\n",
       "      <td>21.90</td>\n",
       "      <td>0.0</td>\n",
       "      <td>21.90</td>\n",
       "    </tr>\n",
       "    <tr>\n",
       "      <th>beet_greens_boiled</th>\n",
       "      <td>11021.76</td>\n",
       "      <td>551.09</td>\n",
       "      <td>1102.18</td>\n",
       "      <td>0.0</td>\n",
       "      <td>1102.18</td>\n",
       "    </tr>\n",
       "    <tr>\n",
       "      <th>beets_sliced_cooked</th>\n",
       "      <td>59.50</td>\n",
       "      <td>2.98</td>\n",
       "      <td>5.95</td>\n",
       "      <td>0.0</td>\n",
       "      <td>5.95</td>\n",
       "    </tr>\n",
       "    <tr>\n",
       "      <th>bell_peppers_sliced_red_raw</th>\n",
       "      <td>2880.52</td>\n",
       "      <td>144.03</td>\n",
       "      <td>288.05</td>\n",
       "      <td>0.0</td>\n",
       "      <td>288.05</td>\n",
       "    </tr>\n",
       "    <tr>\n",
       "      <th>...</th>\n",
       "      <td>...</td>\n",
       "      <td>...</td>\n",
       "      <td>...</td>\n",
       "      <td>...</td>\n",
       "      <td>...</td>\n",
       "    </tr>\n",
       "    <tr>\n",
       "      <th>parsley_chopped_fresh</th>\n",
       "      <td>2560.89</td>\n",
       "      <td>128.04</td>\n",
       "      <td>256.09</td>\n",
       "      <td>0.0</td>\n",
       "      <td>256.09</td>\n",
       "    </tr>\n",
       "    <tr>\n",
       "      <th>peppermint_leaves_fresh</th>\n",
       "      <td>322.85</td>\n",
       "      <td>16.14</td>\n",
       "      <td>32.28</td>\n",
       "      <td>0.0</td>\n",
       "      <td>32.28</td>\n",
       "    </tr>\n",
       "    <tr>\n",
       "      <th>rosemary_fresh</th>\n",
       "      <td>122.81</td>\n",
       "      <td>6.14</td>\n",
       "      <td>12.28</td>\n",
       "      <td>0.0</td>\n",
       "      <td>12.28</td>\n",
       "    </tr>\n",
       "    <tr>\n",
       "      <th>sage_dried</th>\n",
       "      <td>82.60</td>\n",
       "      <td>4.13</td>\n",
       "      <td>8.26</td>\n",
       "      <td>0.0</td>\n",
       "      <td>8.26</td>\n",
       "    </tr>\n",
       "    <tr>\n",
       "      <th>thyme_fresh</th>\n",
       "      <td>228.05</td>\n",
       "      <td>11.40</td>\n",
       "      <td>22.80</td>\n",
       "      <td>0.0</td>\n",
       "      <td>22.80</td>\n",
       "    </tr>\n",
       "  </tbody>\n",
       "</table>\n",
       "<p>100 rows × 5 columns</p>\n",
       "</div>"
      ],
      "text/plain": [
       "                             vitamin_a_international_units_iu  \\\n",
       "asparagus_cooked                                      1810.80   \n",
       "avocado_cubed_raw                                      219.00   \n",
       "beet_greens_boiled                                   11021.76   \n",
       "beets_sliced_cooked                                     59.50   \n",
       "bell_peppers_sliced_red_raw                           2880.52   \n",
       "...                                                       ...   \n",
       "parsley_chopped_fresh                                 2560.89   \n",
       "peppermint_leaves_fresh                                322.85   \n",
       "rosemary_fresh                                         122.81   \n",
       "sage_dried                                              82.60   \n",
       "thyme_fresh                                            228.05   \n",
       "\n",
       "                             vitamin_a_mcg_retinol_activity_equivalents_rae  \\\n",
       "asparagus_cooked                                                      90.54   \n",
       "avocado_cubed_raw                                                     10.95   \n",
       "beet_greens_boiled                                                   551.09   \n",
       "beets_sliced_cooked                                                    2.98   \n",
       "bell_peppers_sliced_red_raw                                          144.03   \n",
       "...                                                                     ...   \n",
       "parsley_chopped_fresh                                                128.04   \n",
       "peppermint_leaves_fresh                                               16.14   \n",
       "rosemary_fresh                                                         6.14   \n",
       "sage_dried                                                             4.13   \n",
       "thyme_fresh                                                           11.40   \n",
       "\n",
       "                             vitamin_a_mcg_retinol_equivalents_re  \\\n",
       "asparagus_cooked                                           181.08   \n",
       "avocado_cubed_raw                                           21.90   \n",
       "beet_greens_boiled                                        1102.18   \n",
       "beets_sliced_cooked                                          5.95   \n",
       "bell_peppers_sliced_red_raw                                288.05   \n",
       "...                                                           ...   \n",
       "parsley_chopped_fresh                                      256.09   \n",
       "peppermint_leaves_fresh                                     32.28   \n",
       "rosemary_fresh                                              12.28   \n",
       "sage_dried                                                   8.26   \n",
       "thyme_fresh                                                 22.80   \n",
       "\n",
       "                             retinol_mcg_retinol_equivalents_re  \\\n",
       "asparagus_cooked                                            0.0   \n",
       "avocado_cubed_raw                                           0.0   \n",
       "beet_greens_boiled                                          0.0   \n",
       "beets_sliced_cooked                                         0.0   \n",
       "bell_peppers_sliced_red_raw                                 0.0   \n",
       "...                                                         ...   \n",
       "parsley_chopped_fresh                                       0.0   \n",
       "peppermint_leaves_fresh                                     0.0   \n",
       "rosemary_fresh                                              0.0   \n",
       "sage_dried                                                  0.0   \n",
       "thyme_fresh                                                 0.0   \n",
       "\n",
       "                             carotenoid_mcg_retinol_equivalents_re  \n",
       "asparagus_cooked                                            181.08  \n",
       "avocado_cubed_raw                                            21.90  \n",
       "beet_greens_boiled                                         1102.18  \n",
       "beets_sliced_cooked                                           5.95  \n",
       "bell_peppers_sliced_red_raw                                 288.05  \n",
       "...                                                            ...  \n",
       "parsley_chopped_fresh                                       256.09  \n",
       "peppermint_leaves_fresh                                      32.28  \n",
       "rosemary_fresh                                               12.28  \n",
       "sage_dried                                                    8.26  \n",
       "thyme_fresh                                                  22.80  \n",
       "\n",
       "[100 rows x 5 columns]"
      ]
     },
     "execution_count": 590,
     "metadata": {},
     "output_type": "execute_result"
    }
   ],
   "source": [
    "va_df"
   ]
  },
  {
   "cell_type": "markdown",
   "id": "fd7ee475-9fdd-43b7-b5ac-8cc53fbb0ca6",
   "metadata": {},
   "source": [
    "No two columns are the same, so for now I'll keep all columns that pertain to Vitamin A"
   ]
  },
  {
   "cell_type": "markdown",
   "id": "dae01706-e01a-4201-93a5-efad55f76234",
   "metadata": {
    "tags": []
   },
   "source": [
    "Background:\n",
    "\n",
    "Retinol Equivalents or RE is used by the World Health Organization and Food and Agriculture Organization while Retinol Activity Equivalents or RAE is used by the FDA.  They are based on different conversion rates of carotenoids into vitamin A while having the same conversion for the animal based retinol, with the RE being more optimistic for conversion rates while also corresponding to a lower recommended minimum intake for mcg RE than the FDA's recommendation for mcg RAE.  \\\n",
    "\\\n",
    "Provitamin A, or Carotenoids, are found only in plants while preformed vitamin A or retinol is found only in animals.  Carotenoids are not toxic at high doses while retinol is.\\\n",
    "\\\n",
    "Constraining the vitamin A contributed by animal products while counting plant sources of carotenoid precursors (Beta- Carotene and Cryptoxanthin) to vitamin A towards minimum requirements looks like a promising potential solution.  "
   ]
  },
  {
   "cell_type": "code",
   "execution_count": 591,
   "id": "71b70c3c-de6f-4273-8995-ae4b480a548f",
   "metadata": {},
   "outputs": [],
   "source": [
    "carotenoid_cols = nv_df.filter(regex='carotene|cryptoxanthin').columns.values"
   ]
  },
  {
   "cell_type": "code",
   "execution_count": 592,
   "id": "ace6236e-60f9-46ee-b48c-7a6a54aa5e74",
   "metadata": {},
   "outputs": [],
   "source": [
    "va_df[carotenoid_cols] = nv_df[carotenoid_cols]"
   ]
  },
  {
   "cell_type": "markdown",
   "id": "d2e0b8ce-c823-44c1-b7a0-c1612f63f5f8",
   "metadata": {},
   "source": [
    "To avoid deleting useful information, I'll simply create a new column 'vitamin_a' which will be a duplicate of 'vitamin_a_mcg_retinol_activity_equivalents_rae' since this is the new FDA standard."
   ]
  },
  {
   "cell_type": "code",
   "execution_count": 593,
   "id": "0b4712ab-6994-40c1-9e46-d4398805ae55",
   "metadata": {
    "tags": []
   },
   "outputs": [],
   "source": [
    "nv_df['vitamin_a'] = nv_df['vitamin_a_mcg_retinol_activity_equivalents_rae']"
   ]
  },
  {
   "cell_type": "markdown",
   "id": "3afb5714-daba-4d6d-8acc-508b6d7c587a",
   "metadata": {
    "tags": []
   },
   "source": [
    "###### Vitamin B3"
   ]
  },
  {
   "cell_type": "code",
   "execution_count": 594,
   "id": "57a8a0a2-6f13-4e14-ac1d-517dc115d91f",
   "metadata": {},
   "outputs": [
    {
     "data": {
      "text/plain": [
       "array(['vitamin_b3', 'vitamin_b3_niacin_equivalents'], dtype=object)"
      ]
     },
     "execution_count": 594,
     "metadata": {},
     "output_type": "execute_result"
    }
   ],
   "source": [
    "vb3_cols = nv_df.filter(regex='vitamin_b3').columns.values\n",
    "vb3_cols"
   ]
  },
  {
   "cell_type": "code",
   "execution_count": 595,
   "id": "dfb6c95e-e0a0-40d4-8a2c-b2d56431dcc9",
   "metadata": {},
   "outputs": [],
   "source": [
    "unique_rows = nv_df[nv_df[vb3_cols].\\\n",
    "                 apply(lambda x: x.nunique() != 1,axis = 1).values][vb3_cols]\n"
   ]
  },
  {
   "cell_type": "code",
   "execution_count": 596,
   "id": "d20870f1-09dc-4a7e-a714-26f3e3987497",
   "metadata": {},
   "outputs": [
    {
     "data": {
      "text/html": [
       "<div>\n",
       "<style scoped>\n",
       "    .dataframe tbody tr th:only-of-type {\n",
       "        vertical-align: middle;\n",
       "    }\n",
       "\n",
       "    .dataframe tbody tr th {\n",
       "        vertical-align: top;\n",
       "    }\n",
       "\n",
       "    .dataframe thead th {\n",
       "        text-align: right;\n",
       "    }\n",
       "</style>\n",
       "<table border=\"1\" class=\"dataframe\">\n",
       "  <thead>\n",
       "    <tr style=\"text-align: right;\">\n",
       "      <th></th>\n",
       "      <th>vitamin_b3</th>\n",
       "      <th>vitamin_b3_niacin_equivalents</th>\n",
       "    </tr>\n",
       "  </thead>\n",
       "  <tbody>\n",
       "    <tr>\n",
       "      <th>asparagus_cooked</th>\n",
       "      <td>1.95</td>\n",
       "      <td>2.82</td>\n",
       "    </tr>\n",
       "    <tr>\n",
       "      <th>avocado_cubed_raw</th>\n",
       "      <td>2.61</td>\n",
       "      <td>3.23</td>\n",
       "    </tr>\n",
       "    <tr>\n",
       "      <th>beet_greens_boiled</th>\n",
       "      <td>0.72</td>\n",
       "      <td>1.68</td>\n",
       "    </tr>\n",
       "    <tr>\n",
       "      <th>beets_sliced_cooked</th>\n",
       "      <td>0.56</td>\n",
       "      <td>1.13</td>\n",
       "    </tr>\n",
       "    <tr>\n",
       "      <th>bell_peppers_sliced_red_raw</th>\n",
       "      <td>0.90</td>\n",
       "      <td>1.08</td>\n",
       "    </tr>\n",
       "    <tr>\n",
       "      <th>...</th>\n",
       "      <td>...</td>\n",
       "      <td>...</td>\n",
       "    </tr>\n",
       "    <tr>\n",
       "      <th>oregano_leaf_dried</th>\n",
       "      <td>0.09</td>\n",
       "      <td>0.16</td>\n",
       "    </tr>\n",
       "    <tr>\n",
       "      <th>parsley_chopped_fresh</th>\n",
       "      <td>0.40</td>\n",
       "      <td>0.63</td>\n",
       "    </tr>\n",
       "    <tr>\n",
       "      <th>peppermint_leaves_fresh</th>\n",
       "      <td>0.13</td>\n",
       "      <td>0.20</td>\n",
       "    </tr>\n",
       "    <tr>\n",
       "      <th>rosemary_fresh</th>\n",
       "      <td>0.04</td>\n",
       "      <td>0.07</td>\n",
       "    </tr>\n",
       "    <tr>\n",
       "      <th>thyme_fresh</th>\n",
       "      <td>0.09</td>\n",
       "      <td>0.18</td>\n",
       "    </tr>\n",
       "  </tbody>\n",
       "</table>\n",
       "<p>105 rows × 2 columns</p>\n",
       "</div>"
      ],
      "text/plain": [
       "                             vitamin_b3  vitamin_b3_niacin_equivalents\n",
       "asparagus_cooked                   1.95                           2.82\n",
       "avocado_cubed_raw                  2.61                           3.23\n",
       "beet_greens_boiled                 0.72                           1.68\n",
       "beets_sliced_cooked                0.56                           1.13\n",
       "bell_peppers_sliced_red_raw        0.90                           1.08\n",
       "...                                 ...                            ...\n",
       "oregano_leaf_dried                 0.09                           0.16\n",
       "parsley_chopped_fresh              0.40                           0.63\n",
       "peppermint_leaves_fresh            0.13                           0.20\n",
       "rosemary_fresh                     0.04                           0.07\n",
       "thyme_fresh                        0.09                           0.18\n",
       "\n",
       "[105 rows x 2 columns]"
      ]
     },
     "execution_count": 596,
     "metadata": {},
     "output_type": "execute_result"
    }
   ],
   "source": [
    "unique_rows"
   ]
  },
  {
   "cell_type": "markdown",
   "id": "c551d898-5fce-44fd-ae7d-b474818a8758",
   "metadata": {},
   "source": [
    "Vitamin_b3 and vitamin_b3_niacin_equivalents are largely different.  60 mg tryptophan contributes 1 mg of niacin according to [Niacin - Harvard Health](https://www.hsph.harvard.edu/nutritionsource/niacin-vitamin-b3/#:~:text=RDA%3A%20Niacin%20is%20measured%20in,mg%20NE%20for%20lactating%20women.)    "
   ]
  },
  {
   "cell_type": "code",
   "execution_count": 597,
   "id": "0c7f9e62-d634-45aa-bf39-e9745d156bef",
   "metadata": {},
   "outputs": [],
   "source": [
    "nv_df.rename(columns = {'vitamin_b3_niacin_equivalents':'niacin'}, \n",
    "             inplace = True)"
   ]
  },
  {
   "cell_type": "code",
   "execution_count": 598,
   "id": "d1abeb80-d998-4d9a-baf8-c7a10855bbfe",
   "metadata": {},
   "outputs": [
    {
     "data": {
      "text/html": [
       "<div>\n",
       "<style scoped>\n",
       "    .dataframe tbody tr th:only-of-type {\n",
       "        vertical-align: middle;\n",
       "    }\n",
       "\n",
       "    .dataframe tbody tr th {\n",
       "        vertical-align: top;\n",
       "    }\n",
       "\n",
       "    .dataframe thead th {\n",
       "        text-align: right;\n",
       "    }\n",
       "</style>\n",
       "<table border=\"1\" class=\"dataframe\">\n",
       "  <thead>\n",
       "    <tr style=\"text-align: right;\">\n",
       "      <th></th>\n",
       "      <th>protein</th>\n",
       "      <th>carbohydrates</th>\n",
       "      <th>fat_total</th>\n",
       "      <th>dietary_fiber</th>\n",
       "      <th>calories</th>\n",
       "      <th>starch</th>\n",
       "      <th>total_sugars</th>\n",
       "      <th>monosaccharides</th>\n",
       "      <th>fructose</th>\n",
       "      <th>glucose</th>\n",
       "      <th>...</th>\n",
       "      <th>serine</th>\n",
       "      <th>threonine</th>\n",
       "      <th>tryptophan</th>\n",
       "      <th>tyrosine</th>\n",
       "      <th>valine</th>\n",
       "      <th>ash</th>\n",
       "      <th>organic_acids_total</th>\n",
       "      <th>citric_acid</th>\n",
       "      <th>malic_acid</th>\n",
       "      <th>vitamin_a</th>\n",
       "    </tr>\n",
       "  </thead>\n",
       "  <tbody>\n",
       "    <tr>\n",
       "      <th>asparagus_cooked</th>\n",
       "      <td>4.32</td>\n",
       "      <td>7.40</td>\n",
       "      <td>0.40</td>\n",
       "      <td>3.60</td>\n",
       "      <td>39.60</td>\n",
       "      <td>0.0</td>\n",
       "      <td>2.34</td>\n",
       "      <td>2.18</td>\n",
       "      <td>1.42</td>\n",
       "      <td>0.76</td>\n",
       "      <td>...</td>\n",
       "      <td>0.21</td>\n",
       "      <td>0.17</td>\n",
       "      <td>0.05</td>\n",
       "      <td>0.10</td>\n",
       "      <td>0.22</td>\n",
       "      <td>1.13</td>\n",
       "      <td>0.0</td>\n",
       "      <td>0.0</td>\n",
       "      <td>0.0</td>\n",
       "      <td>90.54</td>\n",
       "    </tr>\n",
       "    <tr>\n",
       "      <th>avocado_cubed_raw</th>\n",
       "      <td>3.00</td>\n",
       "      <td>12.80</td>\n",
       "      <td>21.99</td>\n",
       "      <td>10.05</td>\n",
       "      <td>240.00</td>\n",
       "      <td>0.0</td>\n",
       "      <td>0.99</td>\n",
       "      <td>0.89</td>\n",
       "      <td>0.18</td>\n",
       "      <td>0.56</td>\n",
       "      <td>...</td>\n",
       "      <td>0.17</td>\n",
       "      <td>0.11</td>\n",
       "      <td>0.04</td>\n",
       "      <td>0.07</td>\n",
       "      <td>0.16</td>\n",
       "      <td>2.37</td>\n",
       "      <td>0.0</td>\n",
       "      <td>0.0</td>\n",
       "      <td>0.0</td>\n",
       "      <td>10.95</td>\n",
       "    </tr>\n",
       "    <tr>\n",
       "      <th>beet_greens_boiled</th>\n",
       "      <td>3.70</td>\n",
       "      <td>7.86</td>\n",
       "      <td>0.29</td>\n",
       "      <td>4.18</td>\n",
       "      <td>38.88</td>\n",
       "      <td>0.0</td>\n",
       "      <td>0.86</td>\n",
       "      <td>0.00</td>\n",
       "      <td>0.00</td>\n",
       "      <td>0.00</td>\n",
       "      <td>...</td>\n",
       "      <td>0.12</td>\n",
       "      <td>0.11</td>\n",
       "      <td>0.06</td>\n",
       "      <td>0.09</td>\n",
       "      <td>0.11</td>\n",
       "      <td>3.80</td>\n",
       "      <td>0.0</td>\n",
       "      <td>0.0</td>\n",
       "      <td>0.0</td>\n",
       "      <td>551.09</td>\n",
       "    </tr>\n",
       "  </tbody>\n",
       "</table>\n",
       "<p>3 rows × 123 columns</p>\n",
       "</div>"
      ],
      "text/plain": [
       "                    protein  carbohydrates  fat_total  dietary_fiber  \\\n",
       "asparagus_cooked       4.32           7.40       0.40           3.60   \n",
       "avocado_cubed_raw      3.00          12.80      21.99          10.05   \n",
       "beet_greens_boiled     3.70           7.86       0.29           4.18   \n",
       "\n",
       "                    calories  starch  total_sugars  monosaccharides  fructose  \\\n",
       "asparagus_cooked       39.60     0.0          2.34             2.18      1.42   \n",
       "avocado_cubed_raw     240.00     0.0          0.99             0.89      0.18   \n",
       "beet_greens_boiled     38.88     0.0          0.86             0.00      0.00   \n",
       "\n",
       "                    glucose  ...  serine  threonine  tryptophan  tyrosine  \\\n",
       "asparagus_cooked       0.76  ...    0.21       0.17        0.05      0.10   \n",
       "avocado_cubed_raw      0.56  ...    0.17       0.11        0.04      0.07   \n",
       "beet_greens_boiled     0.00  ...    0.12       0.11        0.06      0.09   \n",
       "\n",
       "                    valine   ash  organic_acids_total  citric_acid  \\\n",
       "asparagus_cooked      0.22  1.13                  0.0          0.0   \n",
       "avocado_cubed_raw     0.16  2.37                  0.0          0.0   \n",
       "beet_greens_boiled    0.11  3.80                  0.0          0.0   \n",
       "\n",
       "                    malic_acid  vitamin_a  \n",
       "asparagus_cooked           0.0      90.54  \n",
       "avocado_cubed_raw          0.0      10.95  \n",
       "beet_greens_boiled         0.0     551.09  \n",
       "\n",
       "[3 rows x 123 columns]"
      ]
     },
     "execution_count": 598,
     "metadata": {},
     "output_type": "execute_result"
    }
   ],
   "source": [
    "nv_df.head()"
   ]
  },
  {
   "cell_type": "markdown",
   "id": "05a09a51-daae-4b27-8044-2555814172f8",
   "metadata": {
    "tags": []
   },
   "source": [
    "###### Export nv_df and drv_df to csv"
   ]
  },
  {
   "cell_type": "code",
   "execution_count": 599,
   "id": "4bf875e2-a1ca-48d5-bf24-e98a7c92eaf6",
   "metadata": {},
   "outputs": [],
   "source": [
    "nv_df.to_csv('./Data/whfoods_nv.csv')\n",
    "drv_df.to_csv('./Data/whfoods_drv.csv')"
   ]
  },
  {
   "cell_type": "markdown",
   "id": "e7569e91-cf57-46a6-9dbc-58ae93205c38",
   "metadata": {},
   "source": [
    "Note: can relate nv_df to drv_df for deriving drv in mass units"
   ]
  },
  {
   "cell_type": "markdown",
   "id": "2d32834a-04ba-422b-b059-f1fbe1a27300",
   "metadata": {},
   "source": [
    "###### Merge constraints"
   ]
  },
  {
   "cell_type": "code",
   "execution_count": 600,
   "id": "70a7ae94-a407-4025-a9ba-91058960773a",
   "metadata": {},
   "outputs": [],
   "source": [
    "constraints = pd.read_csv('constraints.csv')\n",
    "aa_constraints = pd.read_csv('AminoAcids.csv')"
   ]
  },
  {
   "cell_type": "code",
   "execution_count": 601,
   "id": "101f647e-cebb-4c55-9279-5fddf9455c69",
   "metadata": {},
   "outputs": [
    {
     "data": {
      "text/plain": [
       "(Index(['nutrient', 'Min', 'Max', 'notes:'], dtype='object'),\n",
       " Index(['AminoAcid', 'Min'], dtype='object'))"
      ]
     },
     "execution_count": 601,
     "metadata": {},
     "output_type": "execute_result"
    }
   ],
   "source": [
    "constraints.columns, aa_constraints.columns"
   ]
  },
  {
   "cell_type": "code",
   "execution_count": 602,
   "id": "65cf84dd-1a83-4fbf-be28-ad6f2013ae6d",
   "metadata": {
    "tags": []
   },
   "outputs": [],
   "source": [
    "# format, make compatible, and merge amino acid constraints with the rest.\n",
    "constraints.rename(columns = lambda x: x.lower(), inplace = True)\n",
    "aa_constraints.rename(columns = lambda x: x.lower(), inplace = True)\n",
    "\n",
    "constraints.set_index('nutrient',inplace=True)\n",
    "constraints.drop(columns = ['notes:'],inplace = True)\n",
    "constraints.dropna(how = 'all', inplace = True)\n",
    "aa_constraints.rename(columns = {'aminoacid':'nutrient'}, inplace = True)\n",
    "aa_constraints.set_index('nutrient', inplace = True)\n",
    "aa_constraints.index.name = None\n",
    "all_constraints = pd.concat([constraints,aa_constraints],axis = 0)"
   ]
  },
  {
   "cell_type": "markdown",
   "id": "84593e3b-1352-4406-a13e-179ad7004c3f",
   "metadata": {},
   "source": [
    "###### Make constraints and nutrients compatible"
   ]
  },
  {
   "cell_type": "code",
   "execution_count": 603,
   "id": "031bf948-e300-4900-a581-e139b9fde500",
   "metadata": {},
   "outputs": [],
   "source": [
    "nv_df['phenylalanine_tyrosine'] = nv_df['phenylalanine'] + nv_df['tyrosine']\n",
    "nv_df['cysteine_methionine'] = nv_df['cysteine'] + nv_df['methionine']"
   ]
  },
  {
   "cell_type": "code",
   "execution_count": 604,
   "id": "e7309be6-0370-4808-b0c0-47daae49b691",
   "metadata": {
    "tags": []
   },
   "outputs": [],
   "source": [
    "constraints.loc['soluble_fiber'] = {'min':'6 g', 'max': np.nan}"
   ]
  },
  {
   "cell_type": "code",
   "execution_count": null,
   "id": "dfff85b3-4297-49bc-bbc9-1ca3bbee4e9d",
   "metadata": {},
   "outputs": [],
   "source": []
  },
  {
   "cell_type": "code",
   "execution_count": 605,
   "id": "f7c40c1c-7486-4b31-8649-173b44e37ff2",
   "metadata": {},
   "outputs": [],
   "source": [
    "nv_df.rename({'dietary_fiber':'fiber'}, axis=1, inplace=True)"
   ]
  },
  {
   "cell_type": "code",
   "execution_count": 606,
   "id": "1b900823-9966-4929-8481-3b4350cfd282",
   "metadata": {},
   "outputs": [],
   "source": [
    "all_constraints.rename({'zink':'zinc', 'total_fat':'fat_total',}, \n",
    "                       axis=0, inplace=True)"
   ]
  },
  {
   "cell_type": "code",
   "execution_count": 607,
   "id": "fef96a3e-5942-4461-bb7d-5f15cba81772",
   "metadata": {},
   "outputs": [],
   "source": [
    "# Credit: Chat-gpt\n",
    "def find_exact_matches(array1, array2):\n",
    "    exact_matches = []\n",
    "    for element1 in array1:\n",
    "        match_found = any(element1 == element2 for element2 in array2)\n",
    "        exact_matches.append(match_found)\n",
    "    return exact_matches\n"
   ]
  },
  {
   "cell_type": "code",
   "execution_count": 608,
   "id": "eedbcbc6-85ca-4b0d-837d-67a347c31ecb",
   "metadata": {},
   "outputs": [
    {
     "data": {
      "text/plain": [
       "array(['riboflavin', 'thiamin', 'vitamin_a_rae', 'vitamin_d', 'irom',\n",
       "       'phosphorous', 'carbohydrate', 'fat', 'saturated_fatty_acids',\n",
       "       'cystine + methionine', 'phenylalanine + tyrosine'], dtype=object)"
      ]
     },
     "execution_count": 608,
     "metadata": {},
     "output_type": "execute_result"
    }
   ],
   "source": [
    "# Credit: Chat-gpt\n",
    "all_constraints.index.values[[bool(val) for val in 1- np.array(\n",
    "    find_exact_matches(all_constraints.index.values, nv_df.columns.values))]]"
   ]
  },
  {
   "cell_type": "code",
   "execution_count": 609,
   "id": "ff5d794c-bcbe-4358-95d7-984e8e6deb19",
   "metadata": {
    "tags": []
   },
   "outputs": [],
   "source": [
    "all_constraints.rename(index={\n",
    "    'total_fat': 'fat_total',\n",
    "    'riboflavin':'vitamin_b2',\n",
    "    'thiamin':'vitamin_b1',\n",
    "    'vitamin_d':'vitamin_d_mcg',\n",
    "    'vitamin_e':'vitamin_e_mg_alpha_tocopherol_equivalents_ate',\n",
    "    'irom':'iron',\n",
    "    'phosphorous':'phosphorus',\n",
    "    'carbohydrate':'carbohydrates',\n",
    "    'fat':'fat_total',\n",
    "    'saturated_fatty_acids':'saturated_fat',\n",
    "    'cystine + methionine':'cysteine_methionine',\n",
    "    'phenylalanine + tyrosine':'phenylalanine_tyrosine',\n",
    "    'zink':'zinc'\n",
    "}, inplace=True)"
   ]
  },
  {
   "cell_type": "code",
   "execution_count": 610,
   "id": "1186175e-66c3-431b-8825-bbdb232b034d",
   "metadata": {},
   "outputs": [
    {
     "data": {
      "text/plain": [
       "array(['vitamin_a_rae', 'vitamin_e_mg_alpha_tocopherol_equivalents_ate'],\n",
       "      dtype=object)"
      ]
     },
     "execution_count": 610,
     "metadata": {},
     "output_type": "execute_result"
    }
   ],
   "source": [
    "# Credit: Chat-gpt\n",
    "all_constraints.index.values[[bool(val) for val in 1- np.array(\n",
    "    find_exact_matches(all_constraints.index.values, nv_df.columns.values))]]"
   ]
  },
  {
   "cell_type": "code",
   "execution_count": 611,
   "id": "7e02edeb-8b5d-4848-910c-dca253d885e3",
   "metadata": {
    "tags": []
   },
   "outputs": [],
   "source": [
    "all_constraints.drop(index=['vitamin_a_rae', 'vitamin_e_mg_alpha_tocopherol_equivalents_ate'], inplace = True)"
   ]
  },
  {
   "cell_type": "code",
   "execution_count": 612,
   "id": "8e5d3c5f-01b8-424e-94a1-33c4ddaadf7d",
   "metadata": {},
   "outputs": [
    {
     "data": {
      "text/plain": [
       "nan"
      ]
     },
     "execution_count": 612,
     "metadata": {},
     "output_type": "execute_result"
    }
   ],
   "source": [
    "np.nan"
   ]
  },
  {
   "cell_type": "code",
   "execution_count": 613,
   "id": "44ff1250-0624-49ae-9a99-0729b0ee6423",
   "metadata": {},
   "outputs": [],
   "source": [
    "constraints = all_constraints.copy()\n",
    "constraints_units_dict = {}\n",
    "def getUnit(vals):\n",
    "    '''Take tuple of strings being min and max vals with units or NaN values and \n",
    "    return a unit'''\n",
    "    for val in vals:\n",
    "        try:\n",
    "            return val.split(' ')[1]\n",
    "        except: \n",
    "            pass\n",
    "    return None\n",
    "\n",
    "def getNumber(val):\n",
    "    try:\n",
    "        return val.split(' ')[0]\n",
    "    except:\n",
    "        return val\n",
    "    pass\n",
    "\n",
    "constraints_units_dict = \\\n",
    "{index:getUnit((constraints.loc[index,'min'], constraints.loc[index,'max'])) \n",
    " for index in constraints.index}\n",
    "constraints['min'] = [getNumber(val) for val in constraints['min'].values ]\n",
    "constraints['max'] = [getNumber(val) for val in constraints['max'].values ]"
   ]
  },
  {
   "cell_type": "code",
   "execution_count": 616,
   "id": "050e67bd-45d0-42f3-8e18-ea4e8dca645d",
   "metadata": {},
   "outputs": [
    {
     "data": {
      "text/plain": [
       "{'calories': None,\n",
       " 'protein': 'g',\n",
       " 'fat_total': None,\n",
       " 'saturated_fat': None,\n",
       " 'cholesterol': 'g',\n",
       " 'sodium': 'mg',\n",
       " 'choline': 'mg',\n",
       " 'folate': 'mcg',\n",
       " 'niacin': 'mg',\n",
       " 'pantothenic_acid': 'mg',\n",
       " 'vitamin_b2': 'mg',\n",
       " 'vitamin_b1': 'mg',\n",
       " 'vitamin_a': 'mcg',\n",
       " 'vitamin_b12': 'mcg',\n",
       " 'vitamin_b6': 'mg',\n",
       " 'vitamin_c': 'mg',\n",
       " 'vitamin_d_mcg': 'mcg',\n",
       " 'vitamin_k': 'mcg',\n",
       " 'calcium': 'mg',\n",
       " 'copper': 'mcg',\n",
       " 'iron': 'mg',\n",
       " 'magnesium': 'mg',\n",
       " 'manganese': 'mg',\n",
       " 'phosphorus': 'mg',\n",
       " 'potassium': 'g',\n",
       " 'selenium': 'mcg',\n",
       " 'zinc': 'mg',\n",
       " 'carbohydrates': 'g',\n",
       " 'fiber': 'g',\n",
       " 'molybdenum': 'mcg',\n",
       " 'chloride': 'g',\n",
       " 'biotin': 'mcg',\n",
       " 'chromium': 'mcg',\n",
       " 'cysteine_methionine': 'mg/kg/d',\n",
       " 'histidine': 'mg/kg/d',\n",
       " 'isoleucine': 'mg/kg/d',\n",
       " 'leucine': 'mg/kg/d',\n",
       " 'lysine': 'mg/kg/d',\n",
       " 'methionine': 'mg/kg/d',\n",
       " 'phenylalanine_tyrosine': 'mg/kg/d',\n",
       " 'phenylalanine': 'mg/kg/d',\n",
       " 'threonine': 'mg/kg/d',\n",
       " 'tryptophan': 'mg/kg/d',\n",
       " 'valine': 'mg/kg/d'}"
      ]
     },
     "execution_count": 616,
     "metadata": {},
     "output_type": "execute_result"
    }
   ],
   "source": [
    "constraints_units_dict"
   ]
  },
  {
   "cell_type": "code",
   "execution_count": 617,
   "id": "551920c8-f828-45e6-bf6d-8cb76b8e9409",
   "metadata": {},
   "outputs": [
    {
     "data": {
      "text/html": [
       "<div>\n",
       "<style scoped>\n",
       "    .dataframe tbody tr th:only-of-type {\n",
       "        vertical-align: middle;\n",
       "    }\n",
       "\n",
       "    .dataframe tbody tr th {\n",
       "        vertical-align: top;\n",
       "    }\n",
       "\n",
       "    .dataframe thead th {\n",
       "        text-align: right;\n",
       "    }\n",
       "</style>\n",
       "<table border=\"1\" class=\"dataframe\">\n",
       "  <thead>\n",
       "    <tr style=\"text-align: right;\">\n",
       "      <th></th>\n",
       "      <th>min</th>\n",
       "      <th>max</th>\n",
       "    </tr>\n",
       "  </thead>\n",
       "  <tbody>\n",
       "    <tr>\n",
       "      <th>calories</th>\n",
       "      <td>2000</td>\n",
       "      <td>2000</td>\n",
       "    </tr>\n",
       "    <tr>\n",
       "      <th>protein</th>\n",
       "      <td>56</td>\n",
       "      <td>160</td>\n",
       "    </tr>\n",
       "    <tr>\n",
       "      <th>fat_total</th>\n",
       "      <td>22.2</td>\n",
       "      <td>78</td>\n",
       "    </tr>\n",
       "    <tr>\n",
       "      <th>saturated_fat</th>\n",
       "      <td>0</td>\n",
       "      <td>12</td>\n",
       "    </tr>\n",
       "    <tr>\n",
       "      <th>cholesterol</th>\n",
       "      <td>0</td>\n",
       "      <td>NaN</td>\n",
       "    </tr>\n",
       "    <tr>\n",
       "      <th>sodium</th>\n",
       "      <td>1500</td>\n",
       "      <td>2300</td>\n",
       "    </tr>\n",
       "    <tr>\n",
       "      <th>choline</th>\n",
       "      <td>550</td>\n",
       "      <td>3500</td>\n",
       "    </tr>\n",
       "    <tr>\n",
       "      <th>folate</th>\n",
       "      <td>400</td>\n",
       "      <td>1000</td>\n",
       "    </tr>\n",
       "    <tr>\n",
       "      <th>niacin</th>\n",
       "      <td>16</td>\n",
       "      <td>35</td>\n",
       "    </tr>\n",
       "    <tr>\n",
       "      <th>pantothenic_acid</th>\n",
       "      <td>5</td>\n",
       "      <td>NaN</td>\n",
       "    </tr>\n",
       "    <tr>\n",
       "      <th>vitamin_b2</th>\n",
       "      <td>1.1</td>\n",
       "      <td>NaN</td>\n",
       "    </tr>\n",
       "    <tr>\n",
       "      <th>vitamin_b1</th>\n",
       "      <td>1.2</td>\n",
       "      <td>NaN</td>\n",
       "    </tr>\n",
       "    <tr>\n",
       "      <th>vitamin_a</th>\n",
       "      <td>900</td>\n",
       "      <td>3000</td>\n",
       "    </tr>\n",
       "    <tr>\n",
       "      <th>vitamin_b12</th>\n",
       "      <td>2.4</td>\n",
       "      <td>NaN</td>\n",
       "    </tr>\n",
       "    <tr>\n",
       "      <th>vitamin_b6</th>\n",
       "      <td>1.3</td>\n",
       "      <td>100</td>\n",
       "    </tr>\n",
       "    <tr>\n",
       "      <th>vitamin_c</th>\n",
       "      <td>90</td>\n",
       "      <td>NaN</td>\n",
       "    </tr>\n",
       "    <tr>\n",
       "      <th>vitamin_d_mcg</th>\n",
       "      <td>5</td>\n",
       "      <td>50</td>\n",
       "    </tr>\n",
       "    <tr>\n",
       "      <th>vitamin_k</th>\n",
       "      <td>120</td>\n",
       "      <td>NaN</td>\n",
       "    </tr>\n",
       "    <tr>\n",
       "      <th>calcium</th>\n",
       "      <td>1000</td>\n",
       "      <td>2500</td>\n",
       "    </tr>\n",
       "    <tr>\n",
       "      <th>copper</th>\n",
       "      <td>900</td>\n",
       "      <td>10000</td>\n",
       "    </tr>\n",
       "    <tr>\n",
       "      <th>iron</th>\n",
       "      <td>8</td>\n",
       "      <td>40</td>\n",
       "    </tr>\n",
       "    <tr>\n",
       "      <th>magnesium</th>\n",
       "      <td>320</td>\n",
       "      <td>NaN</td>\n",
       "    </tr>\n",
       "    <tr>\n",
       "      <th>manganese</th>\n",
       "      <td>2.3</td>\n",
       "      <td>11</td>\n",
       "    </tr>\n",
       "    <tr>\n",
       "      <th>phosphorus</th>\n",
       "      <td>700</td>\n",
       "      <td>4000</td>\n",
       "    </tr>\n",
       "    <tr>\n",
       "      <th>potassium</th>\n",
       "      <td>4.7</td>\n",
       "      <td>NaN</td>\n",
       "    </tr>\n",
       "    <tr>\n",
       "      <th>selenium</th>\n",
       "      <td>55</td>\n",
       "      <td>400</td>\n",
       "    </tr>\n",
       "    <tr>\n",
       "      <th>zinc</th>\n",
       "      <td>11</td>\n",
       "      <td>40</td>\n",
       "    </tr>\n",
       "    <tr>\n",
       "      <th>carbohydrates</th>\n",
       "      <td>225</td>\n",
       "      <td>400</td>\n",
       "    </tr>\n",
       "    <tr>\n",
       "      <th>fiber</th>\n",
       "      <td>28</td>\n",
       "      <td>NaN</td>\n",
       "    </tr>\n",
       "    <tr>\n",
       "      <th>fat_total</th>\n",
       "      <td>22.2</td>\n",
       "      <td>78</td>\n",
       "    </tr>\n",
       "    <tr>\n",
       "      <th>saturated_fat</th>\n",
       "      <td>0</td>\n",
       "      <td>12</td>\n",
       "    </tr>\n",
       "    <tr>\n",
       "      <th>molybdenum</th>\n",
       "      <td>34</td>\n",
       "      <td>2000</td>\n",
       "    </tr>\n",
       "    <tr>\n",
       "      <th>chloride</th>\n",
       "      <td>2.3</td>\n",
       "      <td>3.6</td>\n",
       "    </tr>\n",
       "    <tr>\n",
       "      <th>biotin</th>\n",
       "      <td>30</td>\n",
       "      <td>NaN</td>\n",
       "    </tr>\n",
       "    <tr>\n",
       "      <th>chromium</th>\n",
       "      <td>35</td>\n",
       "      <td>NaN</td>\n",
       "    </tr>\n",
       "    <tr>\n",
       "      <th>cysteine_methionine</th>\n",
       "      <td>19</td>\n",
       "      <td>NaN</td>\n",
       "    </tr>\n",
       "    <tr>\n",
       "      <th>histidine</th>\n",
       "      <td>14</td>\n",
       "      <td>NaN</td>\n",
       "    </tr>\n",
       "    <tr>\n",
       "      <th>isoleucine</th>\n",
       "      <td>19</td>\n",
       "      <td>NaN</td>\n",
       "    </tr>\n",
       "    <tr>\n",
       "      <th>leucine</th>\n",
       "      <td>42</td>\n",
       "      <td>NaN</td>\n",
       "    </tr>\n",
       "    <tr>\n",
       "      <th>lysine</th>\n",
       "      <td>38</td>\n",
       "      <td>NaN</td>\n",
       "    </tr>\n",
       "    <tr>\n",
       "      <th>methionine</th>\n",
       "      <td>13</td>\n",
       "      <td>NaN</td>\n",
       "    </tr>\n",
       "    <tr>\n",
       "      <th>phenylalanine_tyrosine</th>\n",
       "      <td>33</td>\n",
       "      <td>NaN</td>\n",
       "    </tr>\n",
       "    <tr>\n",
       "      <th>phenylalanine</th>\n",
       "      <td>14</td>\n",
       "      <td>NaN</td>\n",
       "    </tr>\n",
       "    <tr>\n",
       "      <th>threonine</th>\n",
       "      <td>20</td>\n",
       "      <td>NaN</td>\n",
       "    </tr>\n",
       "    <tr>\n",
       "      <th>tryptophan</th>\n",
       "      <td>5</td>\n",
       "      <td>NaN</td>\n",
       "    </tr>\n",
       "    <tr>\n",
       "      <th>valine</th>\n",
       "      <td>24</td>\n",
       "      <td>NaN</td>\n",
       "    </tr>\n",
       "  </tbody>\n",
       "</table>\n",
       "</div>"
      ],
      "text/plain": [
       "                         min    max\n",
       "calories                2000   2000\n",
       "protein                   56    160\n",
       "fat_total               22.2     78\n",
       "saturated_fat              0     12\n",
       "cholesterol                0    NaN\n",
       "sodium                  1500   2300\n",
       "choline                  550   3500\n",
       "folate                   400   1000\n",
       "niacin                    16     35\n",
       "pantothenic_acid           5    NaN\n",
       "vitamin_b2               1.1    NaN\n",
       "vitamin_b1               1.2    NaN\n",
       "vitamin_a                900   3000\n",
       "vitamin_b12              2.4    NaN\n",
       "vitamin_b6               1.3    100\n",
       "vitamin_c                 90    NaN\n",
       "vitamin_d_mcg              5     50\n",
       "vitamin_k                120    NaN\n",
       "calcium                 1000   2500\n",
       "copper                   900  10000\n",
       "iron                       8     40\n",
       "magnesium                320    NaN\n",
       "manganese                2.3     11\n",
       "phosphorus               700   4000\n",
       "potassium                4.7    NaN\n",
       "selenium                  55    400\n",
       "zinc                      11     40\n",
       "carbohydrates            225    400\n",
       "fiber                     28    NaN\n",
       "fat_total               22.2     78\n",
       "saturated_fat              0     12\n",
       "molybdenum                34   2000\n",
       "chloride                 2.3    3.6\n",
       "biotin                    30    NaN\n",
       "chromium                  35    NaN\n",
       "cysteine_methionine       19    NaN\n",
       "histidine                 14    NaN\n",
       "isoleucine                19    NaN\n",
       "leucine                   42    NaN\n",
       "lysine                    38    NaN\n",
       "methionine                13    NaN\n",
       "phenylalanine_tyrosine    33    NaN\n",
       "phenylalanine             14    NaN\n",
       "threonine                 20    NaN\n",
       "tryptophan                 5    NaN\n",
       "valine                    24    NaN"
      ]
     },
     "execution_count": 617,
     "metadata": {},
     "output_type": "execute_result"
    }
   ],
   "source": [
    "constraints"
   ]
  },
  {
   "cell_type": "code",
   "execution_count": 622,
   "id": "eaf539c4-cb6d-4e10-81fd-da67990d00a6",
   "metadata": {},
   "outputs": [],
   "source": [
    "nv_df_cnstr = nv_df[constraints.index.values]"
   ]
  },
  {
   "cell_type": "code",
   "execution_count": 630,
   "id": "b0094359-a003-4ab9-8025-52947a5bfd51",
   "metadata": {},
   "outputs": [],
   "source": [
    "nv_df_cnstr.to_csv('./Data_formatted/nv_df.csv')\n",
    "constants.to_csv('')"
   ]
  },
  {
   "cell_type": "code",
   "execution_count": null,
   "id": "b4746f30-4298-424e-bd77-73c41cf7dc3c",
   "metadata": {},
   "outputs": [],
   "source": []
  }
 ],
 "metadata": {
  "kernelspec": {
   "display_name": "Python 3 (ipykernel)",
   "language": "python",
   "name": "python3"
  },
  "language_info": {
   "codemirror_mode": {
    "name": "ipython",
    "version": 3
   },
   "file_extension": ".py",
   "mimetype": "text/x-python",
   "name": "python",
   "nbconvert_exporter": "python",
   "pygments_lexer": "ipython3",
   "version": "3.9.13"
  }
 },
 "nbformat": 4,
 "nbformat_minor": 5
}
