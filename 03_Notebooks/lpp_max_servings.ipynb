{
 "cells": [
  {
   "cell_type": "code",
   "execution_count": 1,
   "id": "ff4e59cb-430e-41a5-b55a-eb28c9d21a7c",
   "metadata": {},
   "outputs": [],
   "source": [
    "import pandas as pd\n",
    "from pulp import LpProblem, LpVariable, lpSum, LpMinimize, LpAffineExpression, \\\n",
    "LpConstraint, PULP_CBC_CMD\n",
    "import numpy as np\n",
    "import pulp as plp"
   ]
  },
  {
   "cell_type": "code",
   "execution_count": 2,
   "id": "734ed7c7-436d-4c21-b54d-82192ad744aa",
   "metadata": {},
   "outputs": [
    {
     "ename": "FileNotFoundError",
     "evalue": "[Errno 2] No such file or directory: './Data_formatted/nv_df.csv'",
     "output_type": "error",
     "traceback": [
      "\u001b[0;31m---------------------------------------------------------------------------\u001b[0m",
      "\u001b[0;31mFileNotFoundError\u001b[0m                         Traceback (most recent call last)",
      "Cell \u001b[0;32mIn[2], line 1\u001b[0m\n\u001b[0;32m----> 1\u001b[0m foods \u001b[38;5;241m=\u001b[39m \u001b[43mpd\u001b[49m\u001b[38;5;241;43m.\u001b[39;49m\u001b[43mread_csv\u001b[49m\u001b[43m(\u001b[49m\u001b[38;5;124;43m'\u001b[39;49m\u001b[38;5;124;43m./Data_formatted/nv_df.csv\u001b[39;49m\u001b[38;5;124;43m'\u001b[39;49m\u001b[43m,\u001b[49m\u001b[43m \u001b[49m\u001b[43mindex_col\u001b[49m\u001b[38;5;241;43m=\u001b[39;49m\u001b[38;5;124;43m'\u001b[39;49m\u001b[38;5;124;43mUnnamed: 0\u001b[39;49m\u001b[38;5;124;43m'\u001b[39;49m\u001b[43m)\u001b[49m\n\u001b[1;32m      2\u001b[0m foods\u001b[38;5;241m.\u001b[39mindex \u001b[38;5;241m=\u001b[39m [food\u001b[38;5;241m.\u001b[39mreplace(\u001b[38;5;124m'\u001b[39m\u001b[38;5;124m-\u001b[39m\u001b[38;5;124m'\u001b[39m,\u001b[38;5;124m'\u001b[39m\u001b[38;5;124m_\u001b[39m\u001b[38;5;124m'\u001b[39m) \u001b[38;5;28;01mfor\u001b[39;00m food \u001b[38;5;129;01min\u001b[39;00m foods\u001b[38;5;241m.\u001b[39mindex]\n\u001b[1;32m      3\u001b[0m constraints \u001b[38;5;241m=\u001b[39m pd\u001b[38;5;241m.\u001b[39mread_csv(\u001b[38;5;124m'\u001b[39m\u001b[38;5;124m./Data_formatted/constraints.csv\u001b[39m\u001b[38;5;124m'\u001b[39m, index_col \u001b[38;5;241m=\u001b[39m \u001b[38;5;124m'\u001b[39m\u001b[38;5;124mUnnamed: 0\u001b[39m\u001b[38;5;124m'\u001b[39m)\n",
      "File \u001b[0;32m~/opt/anaconda3/lib/python3.9/site-packages/pandas/io/parsers/readers.py:912\u001b[0m, in \u001b[0;36mread_csv\u001b[0;34m(filepath_or_buffer, sep, delimiter, header, names, index_col, usecols, dtype, engine, converters, true_values, false_values, skipinitialspace, skiprows, skipfooter, nrows, na_values, keep_default_na, na_filter, verbose, skip_blank_lines, parse_dates, infer_datetime_format, keep_date_col, date_parser, date_format, dayfirst, cache_dates, iterator, chunksize, compression, thousands, decimal, lineterminator, quotechar, quoting, doublequote, escapechar, comment, encoding, encoding_errors, dialect, on_bad_lines, delim_whitespace, low_memory, memory_map, float_precision, storage_options, dtype_backend)\u001b[0m\n\u001b[1;32m    899\u001b[0m kwds_defaults \u001b[38;5;241m=\u001b[39m _refine_defaults_read(\n\u001b[1;32m    900\u001b[0m     dialect,\n\u001b[1;32m    901\u001b[0m     delimiter,\n\u001b[0;32m   (...)\u001b[0m\n\u001b[1;32m    908\u001b[0m     dtype_backend\u001b[38;5;241m=\u001b[39mdtype_backend,\n\u001b[1;32m    909\u001b[0m )\n\u001b[1;32m    910\u001b[0m kwds\u001b[38;5;241m.\u001b[39mupdate(kwds_defaults)\n\u001b[0;32m--> 912\u001b[0m \u001b[38;5;28;01mreturn\u001b[39;00m \u001b[43m_read\u001b[49m\u001b[43m(\u001b[49m\u001b[43mfilepath_or_buffer\u001b[49m\u001b[43m,\u001b[49m\u001b[43m \u001b[49m\u001b[43mkwds\u001b[49m\u001b[43m)\u001b[49m\n",
      "File \u001b[0;32m~/opt/anaconda3/lib/python3.9/site-packages/pandas/io/parsers/readers.py:577\u001b[0m, in \u001b[0;36m_read\u001b[0;34m(filepath_or_buffer, kwds)\u001b[0m\n\u001b[1;32m    574\u001b[0m _validate_names(kwds\u001b[38;5;241m.\u001b[39mget(\u001b[38;5;124m\"\u001b[39m\u001b[38;5;124mnames\u001b[39m\u001b[38;5;124m\"\u001b[39m, \u001b[38;5;28;01mNone\u001b[39;00m))\n\u001b[1;32m    576\u001b[0m \u001b[38;5;66;03m# Create the parser.\u001b[39;00m\n\u001b[0;32m--> 577\u001b[0m parser \u001b[38;5;241m=\u001b[39m \u001b[43mTextFileReader\u001b[49m\u001b[43m(\u001b[49m\u001b[43mfilepath_or_buffer\u001b[49m\u001b[43m,\u001b[49m\u001b[43m \u001b[49m\u001b[38;5;241;43m*\u001b[39;49m\u001b[38;5;241;43m*\u001b[39;49m\u001b[43mkwds\u001b[49m\u001b[43m)\u001b[49m\n\u001b[1;32m    579\u001b[0m \u001b[38;5;28;01mif\u001b[39;00m chunksize \u001b[38;5;129;01mor\u001b[39;00m iterator:\n\u001b[1;32m    580\u001b[0m     \u001b[38;5;28;01mreturn\u001b[39;00m parser\n",
      "File \u001b[0;32m~/opt/anaconda3/lib/python3.9/site-packages/pandas/io/parsers/readers.py:1407\u001b[0m, in \u001b[0;36mTextFileReader.__init__\u001b[0;34m(self, f, engine, **kwds)\u001b[0m\n\u001b[1;32m   1404\u001b[0m     \u001b[38;5;28mself\u001b[39m\u001b[38;5;241m.\u001b[39moptions[\u001b[38;5;124m\"\u001b[39m\u001b[38;5;124mhas_index_names\u001b[39m\u001b[38;5;124m\"\u001b[39m] \u001b[38;5;241m=\u001b[39m kwds[\u001b[38;5;124m\"\u001b[39m\u001b[38;5;124mhas_index_names\u001b[39m\u001b[38;5;124m\"\u001b[39m]\n\u001b[1;32m   1406\u001b[0m \u001b[38;5;28mself\u001b[39m\u001b[38;5;241m.\u001b[39mhandles: IOHandles \u001b[38;5;241m|\u001b[39m \u001b[38;5;28;01mNone\u001b[39;00m \u001b[38;5;241m=\u001b[39m \u001b[38;5;28;01mNone\u001b[39;00m\n\u001b[0;32m-> 1407\u001b[0m \u001b[38;5;28mself\u001b[39m\u001b[38;5;241m.\u001b[39m_engine \u001b[38;5;241m=\u001b[39m \u001b[38;5;28;43mself\u001b[39;49m\u001b[38;5;241;43m.\u001b[39;49m\u001b[43m_make_engine\u001b[49m\u001b[43m(\u001b[49m\u001b[43mf\u001b[49m\u001b[43m,\u001b[49m\u001b[43m \u001b[49m\u001b[38;5;28;43mself\u001b[39;49m\u001b[38;5;241;43m.\u001b[39;49m\u001b[43mengine\u001b[49m\u001b[43m)\u001b[49m\n",
      "File \u001b[0;32m~/opt/anaconda3/lib/python3.9/site-packages/pandas/io/parsers/readers.py:1661\u001b[0m, in \u001b[0;36mTextFileReader._make_engine\u001b[0;34m(self, f, engine)\u001b[0m\n\u001b[1;32m   1659\u001b[0m     \u001b[38;5;28;01mif\u001b[39;00m \u001b[38;5;124m\"\u001b[39m\u001b[38;5;124mb\u001b[39m\u001b[38;5;124m\"\u001b[39m \u001b[38;5;129;01mnot\u001b[39;00m \u001b[38;5;129;01min\u001b[39;00m mode:\n\u001b[1;32m   1660\u001b[0m         mode \u001b[38;5;241m+\u001b[39m\u001b[38;5;241m=\u001b[39m \u001b[38;5;124m\"\u001b[39m\u001b[38;5;124mb\u001b[39m\u001b[38;5;124m\"\u001b[39m\n\u001b[0;32m-> 1661\u001b[0m \u001b[38;5;28mself\u001b[39m\u001b[38;5;241m.\u001b[39mhandles \u001b[38;5;241m=\u001b[39m \u001b[43mget_handle\u001b[49m\u001b[43m(\u001b[49m\n\u001b[1;32m   1662\u001b[0m \u001b[43m    \u001b[49m\u001b[43mf\u001b[49m\u001b[43m,\u001b[49m\n\u001b[1;32m   1663\u001b[0m \u001b[43m    \u001b[49m\u001b[43mmode\u001b[49m\u001b[43m,\u001b[49m\n\u001b[1;32m   1664\u001b[0m \u001b[43m    \u001b[49m\u001b[43mencoding\u001b[49m\u001b[38;5;241;43m=\u001b[39;49m\u001b[38;5;28;43mself\u001b[39;49m\u001b[38;5;241;43m.\u001b[39;49m\u001b[43moptions\u001b[49m\u001b[38;5;241;43m.\u001b[39;49m\u001b[43mget\u001b[49m\u001b[43m(\u001b[49m\u001b[38;5;124;43m\"\u001b[39;49m\u001b[38;5;124;43mencoding\u001b[39;49m\u001b[38;5;124;43m\"\u001b[39;49m\u001b[43m,\u001b[49m\u001b[43m \u001b[49m\u001b[38;5;28;43;01mNone\u001b[39;49;00m\u001b[43m)\u001b[49m\u001b[43m,\u001b[49m\n\u001b[1;32m   1665\u001b[0m \u001b[43m    \u001b[49m\u001b[43mcompression\u001b[49m\u001b[38;5;241;43m=\u001b[39;49m\u001b[38;5;28;43mself\u001b[39;49m\u001b[38;5;241;43m.\u001b[39;49m\u001b[43moptions\u001b[49m\u001b[38;5;241;43m.\u001b[39;49m\u001b[43mget\u001b[49m\u001b[43m(\u001b[49m\u001b[38;5;124;43m\"\u001b[39;49m\u001b[38;5;124;43mcompression\u001b[39;49m\u001b[38;5;124;43m\"\u001b[39;49m\u001b[43m,\u001b[49m\u001b[43m \u001b[49m\u001b[38;5;28;43;01mNone\u001b[39;49;00m\u001b[43m)\u001b[49m\u001b[43m,\u001b[49m\n\u001b[1;32m   1666\u001b[0m \u001b[43m    \u001b[49m\u001b[43mmemory_map\u001b[49m\u001b[38;5;241;43m=\u001b[39;49m\u001b[38;5;28;43mself\u001b[39;49m\u001b[38;5;241;43m.\u001b[39;49m\u001b[43moptions\u001b[49m\u001b[38;5;241;43m.\u001b[39;49m\u001b[43mget\u001b[49m\u001b[43m(\u001b[49m\u001b[38;5;124;43m\"\u001b[39;49m\u001b[38;5;124;43mmemory_map\u001b[39;49m\u001b[38;5;124;43m\"\u001b[39;49m\u001b[43m,\u001b[49m\u001b[43m \u001b[49m\u001b[38;5;28;43;01mFalse\u001b[39;49;00m\u001b[43m)\u001b[49m\u001b[43m,\u001b[49m\n\u001b[1;32m   1667\u001b[0m \u001b[43m    \u001b[49m\u001b[43mis_text\u001b[49m\u001b[38;5;241;43m=\u001b[39;49m\u001b[43mis_text\u001b[49m\u001b[43m,\u001b[49m\n\u001b[1;32m   1668\u001b[0m \u001b[43m    \u001b[49m\u001b[43merrors\u001b[49m\u001b[38;5;241;43m=\u001b[39;49m\u001b[38;5;28;43mself\u001b[39;49m\u001b[38;5;241;43m.\u001b[39;49m\u001b[43moptions\u001b[49m\u001b[38;5;241;43m.\u001b[39;49m\u001b[43mget\u001b[49m\u001b[43m(\u001b[49m\u001b[38;5;124;43m\"\u001b[39;49m\u001b[38;5;124;43mencoding_errors\u001b[39;49m\u001b[38;5;124;43m\"\u001b[39;49m\u001b[43m,\u001b[49m\u001b[43m \u001b[49m\u001b[38;5;124;43m\"\u001b[39;49m\u001b[38;5;124;43mstrict\u001b[39;49m\u001b[38;5;124;43m\"\u001b[39;49m\u001b[43m)\u001b[49m\u001b[43m,\u001b[49m\n\u001b[1;32m   1669\u001b[0m \u001b[43m    \u001b[49m\u001b[43mstorage_options\u001b[49m\u001b[38;5;241;43m=\u001b[39;49m\u001b[38;5;28;43mself\u001b[39;49m\u001b[38;5;241;43m.\u001b[39;49m\u001b[43moptions\u001b[49m\u001b[38;5;241;43m.\u001b[39;49m\u001b[43mget\u001b[49m\u001b[43m(\u001b[49m\u001b[38;5;124;43m\"\u001b[39;49m\u001b[38;5;124;43mstorage_options\u001b[39;49m\u001b[38;5;124;43m\"\u001b[39;49m\u001b[43m,\u001b[49m\u001b[43m \u001b[49m\u001b[38;5;28;43;01mNone\u001b[39;49;00m\u001b[43m)\u001b[49m\u001b[43m,\u001b[49m\n\u001b[1;32m   1670\u001b[0m \u001b[43m\u001b[49m\u001b[43m)\u001b[49m\n\u001b[1;32m   1671\u001b[0m \u001b[38;5;28;01massert\u001b[39;00m \u001b[38;5;28mself\u001b[39m\u001b[38;5;241m.\u001b[39mhandles \u001b[38;5;129;01mis\u001b[39;00m \u001b[38;5;129;01mnot\u001b[39;00m \u001b[38;5;28;01mNone\u001b[39;00m\n\u001b[1;32m   1672\u001b[0m f \u001b[38;5;241m=\u001b[39m \u001b[38;5;28mself\u001b[39m\u001b[38;5;241m.\u001b[39mhandles\u001b[38;5;241m.\u001b[39mhandle\n",
      "File \u001b[0;32m~/opt/anaconda3/lib/python3.9/site-packages/pandas/io/common.py:859\u001b[0m, in \u001b[0;36mget_handle\u001b[0;34m(path_or_buf, mode, encoding, compression, memory_map, is_text, errors, storage_options)\u001b[0m\n\u001b[1;32m    854\u001b[0m \u001b[38;5;28;01melif\u001b[39;00m \u001b[38;5;28misinstance\u001b[39m(handle, \u001b[38;5;28mstr\u001b[39m):\n\u001b[1;32m    855\u001b[0m     \u001b[38;5;66;03m# Check whether the filename is to be opened in binary mode.\u001b[39;00m\n\u001b[1;32m    856\u001b[0m     \u001b[38;5;66;03m# Binary mode does not support 'encoding' and 'newline'.\u001b[39;00m\n\u001b[1;32m    857\u001b[0m     \u001b[38;5;28;01mif\u001b[39;00m ioargs\u001b[38;5;241m.\u001b[39mencoding \u001b[38;5;129;01mand\u001b[39;00m \u001b[38;5;124m\"\u001b[39m\u001b[38;5;124mb\u001b[39m\u001b[38;5;124m\"\u001b[39m \u001b[38;5;129;01mnot\u001b[39;00m \u001b[38;5;129;01min\u001b[39;00m ioargs\u001b[38;5;241m.\u001b[39mmode:\n\u001b[1;32m    858\u001b[0m         \u001b[38;5;66;03m# Encoding\u001b[39;00m\n\u001b[0;32m--> 859\u001b[0m         handle \u001b[38;5;241m=\u001b[39m \u001b[38;5;28;43mopen\u001b[39;49m\u001b[43m(\u001b[49m\n\u001b[1;32m    860\u001b[0m \u001b[43m            \u001b[49m\u001b[43mhandle\u001b[49m\u001b[43m,\u001b[49m\n\u001b[1;32m    861\u001b[0m \u001b[43m            \u001b[49m\u001b[43mioargs\u001b[49m\u001b[38;5;241;43m.\u001b[39;49m\u001b[43mmode\u001b[49m\u001b[43m,\u001b[49m\n\u001b[1;32m    862\u001b[0m \u001b[43m            \u001b[49m\u001b[43mencoding\u001b[49m\u001b[38;5;241;43m=\u001b[39;49m\u001b[43mioargs\u001b[49m\u001b[38;5;241;43m.\u001b[39;49m\u001b[43mencoding\u001b[49m\u001b[43m,\u001b[49m\n\u001b[1;32m    863\u001b[0m \u001b[43m            \u001b[49m\u001b[43merrors\u001b[49m\u001b[38;5;241;43m=\u001b[39;49m\u001b[43merrors\u001b[49m\u001b[43m,\u001b[49m\n\u001b[1;32m    864\u001b[0m \u001b[43m            \u001b[49m\u001b[43mnewline\u001b[49m\u001b[38;5;241;43m=\u001b[39;49m\u001b[38;5;124;43m\"\u001b[39;49m\u001b[38;5;124;43m\"\u001b[39;49m\u001b[43m,\u001b[49m\n\u001b[1;32m    865\u001b[0m \u001b[43m        \u001b[49m\u001b[43m)\u001b[49m\n\u001b[1;32m    866\u001b[0m     \u001b[38;5;28;01melse\u001b[39;00m:\n\u001b[1;32m    867\u001b[0m         \u001b[38;5;66;03m# Binary mode\u001b[39;00m\n\u001b[1;32m    868\u001b[0m         handle \u001b[38;5;241m=\u001b[39m \u001b[38;5;28mopen\u001b[39m(handle, ioargs\u001b[38;5;241m.\u001b[39mmode)\n",
      "\u001b[0;31mFileNotFoundError\u001b[0m: [Errno 2] No such file or directory: './Data_formatted/nv_df.csv'"
     ]
    }
   ],
   "source": [
    "foods = pd.read_csv('./Data_formatted/nv_df.csv', index_col = 'Unnamed: 0')\n",
    "foods.index = [food.replace('-','_') for food in foods.index]\n",
    "constraints = pd.read_csv('./Data_formatted/constraints.csv', \n",
    "                          index_col = 'Unnamed: 0')\n",
    "constraints = constraints[1:] # remove calories\n",
    "# Adjust amino acid requirements for bodyweight\n",
    "usr_mass = input(\"How many kilos do you weigh?\")\n",
    "usr_mass = int(usr_mass)\n",
    "constraints.iloc[-11:,0] *= usr_mass"
   ]
  },
  {
   "cell_type": "code",
   "execution_count": null,
   "id": "25de4f90-bc37-4479-af12-388494aaa4d8",
   "metadata": {},
   "outputs": [],
   "source": [
    "def formulateMP(foods, constraints):\n",
    "    '''This function will take two dataframes, one foods*nutrients, the\n",
    "    other constraints*bounds and return the PuLP lp formulation for minimizing\n",
    "    calories. '''\n",
    "    \n",
    "    # Decision Variables\n",
    "    food_vars  = {food:\n",
    "    plp.LpVariable(cat=plp.LpContinuous, \n",
    "                   lowBound=0,\n",
    "                   upBound=5,\n",
    "                   name=f\"{food}\") \n",
    "    for food in foods.index.values}\n",
    "\n",
    "    # Objective Function\n",
    "    min_cals = plp.LpProblem(\"Min_Calories\",plp.LpMinimize)\n",
    "    min_cals += lpSum([foods.calories[food]*food_vars[food] \n",
    "                        for food in foods.index.values])\n",
    "    # Add constraints\n",
    "    for c in constraints.index:\n",
    "        if not np.isnan(constraints.loc[c][0]):\n",
    "            min_cals += LpConstraint(e=lpSum([foods.loc[food,c]*food_vars[food] \n",
    "                                              for food in foods.index]),\n",
    "                                 sense=plp.LpConstraintGE, \n",
    "                                 rhs=constraints.loc[c][0],\n",
    "                                 name=f'min_{c}'\n",
    "                                )\n",
    "        if not np.isnan(constraints.loc[c][1]):\n",
    "            min_cals += LpConstraint(e=lpSum([foods.loc[food,c]*food_vars[food] \n",
    "                                              for food in foods.index]),\n",
    "                                 sense=plp.LpConstraintLE, \n",
    "                                 rhs=constraints.loc[c][1],\n",
    "                                 name=f'max_{c}'\n",
    "                                )\n",
    "    \n",
    "    return min_cals"
   ]
  },
  {
   "cell_type": "code",
   "execution_count": null,
   "id": "e3d85a95-8b6e-41ef-9118-b8a1cb846d90",
   "metadata": {},
   "outputs": [],
   "source": [
    "lp_formulation = formulateMP(foods,constraints)"
   ]
  },
  {
   "cell_type": "code",
   "execution_count": null,
   "id": "985ac44e-7589-4414-92ff-1d46c5584330",
   "metadata": {
    "tags": []
   },
   "outputs": [],
   "source": [
    "lp_formulation.solve()"
   ]
  },
  {
   "cell_type": "code",
   "execution_count": null,
   "id": "27ee66a0-b047-4aa2-9f66-938473d03079",
   "metadata": {},
   "outputs": [],
   "source": [
    "def checkFeasibility(foods, constraints):\n",
    "    '''Formulate lp problem and return status and optimal coefficients if \n",
    "    feasible as 2-tuple'''\n",
    "    \n",
    "    min_cals = formulateMP(foods,constraints)\n",
    "    min_cals.solve(PULP_CBC_CMD(msg=0))\n",
    "    return min_cals.status, min_cals.coefficients"
   ]
  },
  {
   "cell_type": "code",
   "execution_count": null,
   "id": "62337b98-c7e7-40d2-8ffb-c82a529017e8",
   "metadata": {
    "tags": []
   },
   "outputs": [],
   "source": [
    "def infeasibilitySearch(foods, constraints):\n",
    "    '''return 2d array with indices of constraints that constitute a solvable model\n",
    "    and second the indices which cause an insolvable model when included.'''\n",
    "    \n",
    "    solvable = []\n",
    "    brk_pts = []\n",
    "    for i in range(0,constraints.shape[0]):\n",
    "        candidates = [i for i in range(0,i+1) if i not in brk_pts]\n",
    "        status = checkFeasibility(foods,constraints.iloc[candidates,:])[0]\n",
    "        if (status == -1):\n",
    "            brk_pts.append(i)\n",
    "        else:\n",
    "            solvable.append(i)\n",
    "    return [solvable,brk_pts]"
   ]
  },
  {
   "cell_type": "code",
   "execution_count": null,
   "id": "7f842eec-11a8-443b-8aa5-b9b72620f421",
   "metadata": {
    "tags": []
   },
   "outputs": [],
   "source": [
    "infeasibilitySearch(foods,constraints)"
   ]
  },
  {
   "cell_type": "code",
   "execution_count": null,
   "id": "9ba97cd0-9ba3-42b9-bce0-694ba76897d0",
   "metadata": {
    "tags": []
   },
   "outputs": [],
   "source": [
    "constraints.iloc[[18, 29, 30, 31, 32, 33, 34, 35, 36, 37, 38, 39]]"
   ]
  },
  {
   "cell_type": "markdown",
   "id": "629b88af-22b0-42f5-b26a-019f3315e430",
   "metadata": {},
   "source": [
    "Constraints with indices [18, 29, 30, 31, 32, 33, 34, 35, 36, 37, 38, 39] are not solvable when added to the formulation.  These constraints are: \\\n",
    "'copper', 'chloride', 'biotin', 'chromium', 'cysteine_methionine',\n",
    "       'histidine', 'leucine', 'lysine', 'methionine',\n",
    "       'phenylalanine_tyrosine', 'threonine', 'valine' \\\n",
    "\\\n",
    "It is interesting that many of these are amino acids.  \n",
    "\n"
   ]
  },
  {
   "cell_type": "markdown",
   "id": "29cb823c-ad09-4500-99dc-8eac300f7e54",
   "metadata": {},
   "source": [
    "###### What do the loadings look like for the solution with the infeasible constraints removed?"
   ]
  },
  {
   "cell_type": "code",
   "execution_count": null,
   "id": "cfd2e049-f8a2-4eb3-ac87-d782bf18c413",
   "metadata": {
    "tags": []
   },
   "outputs": [],
   "source": [
    "i_c = [18, 29, 30, 31, 32, 33, 34, 35, 36, 37, 38, 39]\n",
    "feasible = [i for i in range(constraints.shape[0]) if i not in i_c]\n",
    "f_c = constraints.iloc[feasible]"
   ]
  },
  {
   "cell_type": "code",
   "execution_count": null,
   "id": "fc0da422-f468-4082-829a-5c9706f56d26",
   "metadata": {},
   "outputs": [],
   "source": [
    "model = formulateMP(foods,f_c)"
   ]
  },
  {
   "cell_type": "code",
   "execution_count": null,
   "id": "5f9e8685-f637-4781-a747-cad7d012ae51",
   "metadata": {
    "tags": []
   },
   "outputs": [],
   "source": [
    "model.solve()"
   ]
  },
  {
   "cell_type": "code",
   "execution_count": null,
   "id": "6ebf0c5c-e532-462c-829a-fd55068fea43",
   "metadata": {
    "tags": []
   },
   "outputs": [],
   "source": [
    "model.coefficients()"
   ]
  },
  {
   "cell_type": "code",
   "execution_count": null,
   "id": "9e7c9abd-d164-4406-b420-3fc696ae5ff1",
   "metadata": {
    "tags": []
   },
   "outputs": [],
   "source": [
    "total_cals = 0\n",
    "food_servings = {}\n",
    "for v in model.variables():\n",
    "    total_cals += v.varValue*foods.at[v.name,'calories']\n",
    "    food_servings[v.name] = v.varValue"
   ]
  },
  {
   "cell_type": "code",
   "execution_count": null,
   "id": "bb95c81c-ebc9-4809-a439-285d8ca502fe",
   "metadata": {},
   "outputs": [],
   "source": [
    "food_servings[v.name] = v.varValue"
   ]
  },
  {
   "cell_type": "code",
   "execution_count": null,
   "id": "e5106e54-1b4a-436a-8f4f-fa38b31eab14",
   "metadata": {},
   "outputs": [],
   "source": [
    "{food:srv for food, srv in food_servings.items() if srv != 0}"
   ]
  },
  {
   "cell_type": "code",
   "execution_count": null,
   "id": "ae27f735-ea2f-4516-88f5-88f7af7636b2",
   "metadata": {
    "tags": []
   },
   "outputs": [],
   "source": [
    "{food:srv for food, srv in food_servings if srv != 0}"
   ]
  },
  {
   "cell_type": "code",
   "execution_count": null,
   "id": "a970bf58-806d-47fa-86bf-7551d660b8a9",
   "metadata": {},
   "outputs": [],
   "source": [
    "total_cals"
   ]
  },
  {
   "cell_type": "code",
   "execution_count": null,
   "id": "189e7acd-abbb-4633-8f0b-17ef5f72c67a",
   "metadata": {},
   "outputs": [],
   "source": []
  },
  {
   "cell_type": "code",
   "execution_count": null,
   "id": "8dbc210b-826f-4f2a-9d0d-73c03d16ed70",
   "metadata": {},
   "outputs": [],
   "source": [
    "sorted(foods.index.values)"
   ]
  },
  {
   "cell_type": "code",
   "execution_count": null,
   "id": "72571831-9a8c-43c6-b31d-3b46bf73100c",
   "metadata": {
    "tags": []
   },
   "outputs": [],
   "source": [
    "servings = [food[2] for food in model.coefficients()][0:foods.shape[0]]"
   ]
  },
  {
   "cell_type": "code",
   "execution_count": null,
   "id": "66ef6770-9e41-4f69-82ab-43b74b49f812",
   "metadata": {},
   "outputs": [],
   "source": [
    "# 109,835 calories under constraints -- this result requires investigation.  \n",
    "sum(servings*foods.calories)"
   ]
  },
  {
   "cell_type": "code",
   "execution_count": null,
   "id": "e028d89d-6a21-4b1b-94c4-074f5494f9a4",
   "metadata": {},
   "outputs": [],
   "source": []
  },
  {
   "cell_type": "code",
   "execution_count": null,
   "id": "a3d8c9e4-ba46-4a62-a71c-21db3d31dead",
   "metadata": {},
   "outputs": [],
   "source": [
    "[c for c in range(0,40) if c not in candidates ]"
   ]
  },
  {
   "cell_type": "code",
   "execution_count": null,
   "id": "e2a7742c-3cae-4794-87f3-fbddeeb8204b",
   "metadata": {},
   "outputs": [],
   "source": [
    "constraints.index.values[[c for c in range(0,40) if c not in candidates ]]"
   ]
  },
  {
   "cell_type": "code",
   "execution_count": null,
   "id": "52f7f5f5-7940-4f3b-8062-dae685af147b",
   "metadata": {},
   "outputs": [],
   "source": [
    "# narrowing the constraints to non-macros, which may have been setting a floor on\n",
    "# the total number of calories that limits optimization\n",
    "\n",
    "macros = ['protein', 'fat_total', 'saturated_fat', 'carbohydrates']\n",
    "constraints_micros_aa = constraints.loc[[c for c in constraints.index.values if \n",
    "                                         c not in macros]]"
   ]
  },
  {
   "cell_type": "markdown",
   "id": "edb4030a-2a8b-4809-9936-056e35ab4b30",
   "metadata": {},
   "source": [
    "'copper', 'chloride', 'biotin', 'chromium', 'cysteine_methionine', 'histidine', 'leucine', 'lysine', 'methionine', 'phenylalanine_tyrosine', and 'threonine' are not solvable when all constraints are used in search."
   ]
  },
  {
   "cell_type": "code",
   "execution_count": null,
   "id": "ae752dd8-8086-40ed-bf84-c36794a3aa38",
   "metadata": {},
   "outputs": [],
   "source": []
  },
  {
   "cell_type": "code",
   "execution_count": null,
   "id": "5ff61ece-3d6c-469b-ba46-3e0e141fe6d3",
   "metadata": {
    "tags": []
   },
   "outputs": [],
   "source": [
    "vitamins = ['choline', 'folate', 'niacin', 'pantothenic_acid', 'vitamin_b2',\n",
    "       'vitamin_b1', 'vitamin_a', 'vitamin_b12', 'vitamin_b6', 'vitamin_c',\n",
    "       'vitamin_d_mcg', 'vitamin_k', 'calcium', 'copper', 'iron', 'magnesium',\n",
    "       'manganese', 'phosphorus', 'potassium', 'selenium', 'zinc']\n",
    "\n",
    "for v in vitamins[0:5]:\n",
    "    if not np.isnan(constraints.loc[v][0]):\n",
    "        min_cals += LpConstraint(e=lpSum([foods.loc[food,v]*food_vars[food] \n",
    "                                          for food in foods.index]),\n",
    "                             sense=plp.LpConstraintGE, \n",
    "                             rhs=constraints.loc[v][0],\n",
    "                             name=f'min_{v}'\n",
    "                            )\n",
    "    if not np.isnan(constraints.loc[v][1]):\n",
    "        min_cals += LpConstraint(e=lpSum([foods.loc[food,v]*food_vars[food] \n",
    "                                          for food in foods.index]),\n",
    "                             sense=plp.LpConstraintLE, \n",
    "                             rhs=constraints.loc[v][1],\n",
    "                             name=f'max_{v}'\n",
    "                            )"
   ]
  },
  {
   "cell_type": "code",
   "execution_count": null,
   "id": "db375161-dff9-459c-b895-9b83f5d65f0a",
   "metadata": {},
   "outputs": [],
   "source": []
  },
  {
   "cell_type": "code",
   "execution_count": null,
   "id": "14f970f7-432b-4c3a-8905-92a69c1270e4",
   "metadata": {},
   "outputs": [],
   "source": [
    "min_cals.solve()\n",
    "min_cals.objective.value()"
   ]
  },
  {
   "cell_type": "code",
   "execution_count": null,
   "id": "7bc62414-47ee-4d20-8e95-f7dd7d7731b8",
   "metadata": {
    "tags": []
   },
   "outputs": [],
   "source": [
    "for c in constraints.index[]:\n",
    "    if not np.isnan(constraints.loc[c][0]):\n",
    "        min_cals += LpConstraint(e=lpSum([foods.loc[food,c]*food_vars[food] \n",
    "                                          for food in foods.index]),\n",
    "                             sense=plp.LpConstraintGE, \n",
    "                             rhs=constraints.loc[c][0],\n",
    "                             name=f'min_{c}'\n",
    "                            )\n",
    "    if not np.isnan(constraints.loc[c][1]):\n",
    "        min_cals += LpConstraint(e=lpSum([foods.loc[food,c]*food_vars[food] \n",
    "                                          for food in foods.index]),\n",
    "                             sense=plp.LpConstraintLE, \n",
    "                             rhs=constraints.loc[c][1],\n",
    "                             name=f'max_{c}'\n",
    "                            )"
   ]
  },
  {
   "cell_type": "code",
   "execution_count": null,
   "id": "bcf1e98d-d399-4157-8398-cb697841a8b2",
   "metadata": {},
   "outputs": [],
   "source": []
  },
  {
   "cell_type": "code",
   "execution_count": null,
   "id": "99d970f0-c15a-42c3-8c62-00107a29a310",
   "metadata": {},
   "outputs": [],
   "source": [
    "core_constraints = ['protein', 'cysteine_methionine', 'histidine', 'leucine', 'lysine',\n",
    "       'methionine', 'phenylalanine_tyrosine', 'threonine', 'valine']"
   ]
  },
  {
   "cell_type": "code",
   "execution_count": null,
   "id": "42d61a28-1213-4b3a-ba42-af924309f87c",
   "metadata": {},
   "outputs": [],
   "source": [
    "constraints.index"
   ]
  },
  {
   "cell_type": "code",
   "execution_count": null,
   "id": "927b699f-d80b-4d9b-ae4a-07ee87ff09e1",
   "metadata": {
    "tags": []
   },
   "outputs": [],
   "source": [
    "min_cals.solve()"
   ]
  },
  {
   "cell_type": "code",
   "execution_count": null,
   "id": "11ac8993-12ae-46a3-81b1-21a6356cf8f6",
   "metadata": {},
   "outputs": [],
   "source": []
  },
  {
   "cell_type": "code",
   "execution_count": null,
   "id": "51edbbb3-6744-464c-9693-aef22f3be0c8",
   "metadata": {
    "tags": []
   },
   "outputs": [],
   "source": [
    "dir(plp);"
   ]
  },
  {
   "cell_type": "code",
   "execution_count": null,
   "id": "a8210978-1200-4b71-aab3-ff8d8b4da4c4",
   "metadata": {},
   "outputs": [],
   "source": [
    "# Constraints\n",
    "\n",
    "plp.Lp"
   ]
  },
  {
   "cell_type": "code",
   "execution_count": null,
   "id": "3a17aa4e-dc7c-4874-ba14-6bce7aae663a",
   "metadata": {},
   "outputs": [],
   "source": [
    "pulp.lpSum"
   ]
  },
  {
   "cell_type": "code",
   "execution_count": null,
   "id": "3a729308-8484-411d-90be-3edef671d830",
   "metadata": {},
   "outputs": [],
   "source": [
    "protein_calories = foods['protein']/foods['calories'].sort_values(ascending=False).copy()"
   ]
  },
  {
   "cell_type": "code",
   "execution_count": null,
   "id": "bfc96a78-c2d1-46bd-8663-aef19c739dc4",
   "metadata": {},
   "outputs": [],
   "source": [
    "protein_calories.sort_values(ascending=False)"
   ]
  },
  {
   "cell_type": "code",
   "execution_count": null,
   "id": "ab13aa78-fe6d-4fb0-bdb3-6273ffa8ecbd",
   "metadata": {},
   "outputs": [],
   "source": [
    "# selecting high protein to calorie ratio foods\n",
    "protein_foods = foods.loc[protein_calories.sort_values(ascending=False)[0:40].index,:]\\\n",
    ".query(\"calories > 50\")"
   ]
  },
  {
   "cell_type": "code",
   "execution_count": null,
   "id": "50d9b9de-1b9e-42bd-b3ec-3df76e54b4f9",
   "metadata": {
    "tags": []
   },
   "outputs": [],
   "source": [
    "constraints.drop(['saturated_fat','cholesterol'])"
   ]
  },
  {
   "cell_type": "code",
   "execution_count": null,
   "id": "15d1c12c-763b-4824-acf9-186095f8d3bc",
   "metadata": {
    "tags": []
   },
   "outputs": [],
   "source": [
    "necessary_nutrients = [c for c in constraints.index if c not in ['saturated_fat','cholesterol']]"
   ]
  },
  {
   "cell_type": "code",
   "execution_count": null,
   "id": "79d63cd5-5e3d-4d16-8904-175694fa72c6",
   "metadata": {
    "tags": []
   },
   "outputs": [],
   "source": [
    "constraints.loc[~constraints.index.isin(['saturated_fat','cholesterol']),:].index.values"
   ]
  },
  {
   "cell_type": "code",
   "execution_count": null,
   "id": "3bee24fe-521e-4a72-9092-d09fbf5ae654",
   "metadata": {
    "tags": []
   },
   "outputs": [],
   "source": [
    "foods[necessary_nutrients].idxmax()"
   ]
  },
  {
   "cell_type": "code",
   "execution_count": null,
   "id": "520706c7-d9cc-4950-865e-e6ef0eedb606",
   "metadata": {},
   "outputs": [],
   "source": [
    "max_foods = foods.loc[list(set(foods[necessary_nutrients].idxmax().values)),:]"
   ]
  },
  {
   "cell_type": "code",
   "execution_count": null,
   "id": "1f5d904b-49a9-43e9-a022-f35aae4bc1fc",
   "metadata": {},
   "outputs": [],
   "source": [
    "\n",
    "# Sample data for foods and nutrients\n",
    "data_foods = {\n",
    "    'Food': [food for food in max_foods.index],\n",
    "}\n",
    "\n",
    "data_foods.update({col: protein_foods[col] for col in protein_foods.columns})\n",
    "\n",
    "df_foods = pd.DataFrame(data_foods)\n",
    "\n",
    "# Sample data for constraints\n",
    "data_constraints = {\n",
    "    'Nutrient': [nutrient for nutrient in constraints.index],\n",
    "    'MinValue': [val for val in constraints['min']],\n",
    "    'MaxValue': [val for val in constraints['max']],\n",
    "}\n",
    "\n",
    "df_constraints = pd.DataFrame(data_constraints)\n",
    "\n",
    "# Create the LP Minimization problem\n",
    "problem = LpProblem(\"Nutritionally_Complete_Foods\", LpMinimize)\n",
    "\n",
    "# Define decision variables\n",
    "food_vars = LpVariable.dicts(\"Servings\", df_foods['Food'], lowBound=0, cat='Integer')\n",
    "\n",
    "# Define the objective function to minimize the total number of servings\n",
    "problem += lpSum(food_vars[food] for food in df_foods['Food'])\n",
    "\n",
    "# Add constraints based on nutrient requirements\n",
    "for nutrient in df_constraints['Nutrient']:\n",
    "    min_value = df_constraints.loc[df_constraints['Nutrient'] == nutrient, 'MinValue'].values[0]\n",
    "    max_value = df_constraints.loc[df_constraints['Nutrient'] == nutrient, 'MaxValue'].values[0]\n",
    "    \n",
    "    if not pd.isna(min_value):\n",
    "        problem += lpSum(food_vars[food] * df_foods.loc[df_foods['Food'] == \n",
    "                    food, nutrient].values[0] for food in df_foods['Food']) \\\n",
    "                    >= min_value\n",
    "    if not pd.isna(max_value):\n",
    "        problem += lpSum(food_vars[food] * df_foods.loc[df_foods['Food'] == \n",
    "                    food, nutrient].values[0] for food in df_foods['Food']) \\\n",
    "                    <= max_value\n",
    "\n",
    "# # Add constraint for nutritional completeness\n",
    "# for nutrient in df_constraints['Nutrient']:\n",
    "#     min_value = df_constraints.loc[df_constraints['Nutrient'] == nutrient, \n",
    "#                             'MinValue'].values[0]\n",
    "#     problem += lpSum(food_vars[food] * df_foods.loc[df_foods['Food'] == \n",
    "#                 food, nutrient].values[0] for food in df_foods['Food']) \n",
    "#                 >= min_value\n",
    "\n",
    "# Solve the problem\n",
    "problem.solve()\n",
    "\n",
    "# Print the results\n",
    "print(\"Status:\", problem.status)\n",
    "\n",
    "if problem.status == 1:  # If the problem was solved successfully\n",
    "    for food in df_foods['Food']:\n",
    "        servings = food_vars[food].value()\n",
    "        if servings > 0:\n",
    "            print(f\"{food}: {servings} servings\")\n",
    "else:\n",
    "    print(\"No solution found.\")"
   ]
  },
  {
   "cell_type": "markdown",
   "id": "8ac0d2bd-640f-4f94-9e12-5128f83783b7",
   "metadata": {},
   "source": [
    "Next I will solve to minimize calories since minimizing for serving size has no solution."
   ]
  },
  {
   "cell_type": "code",
   "execution_count": null,
   "id": "706de942-4081-4d11-a499-91a7e6ecdb63",
   "metadata": {},
   "outputs": [],
   "source": [
    "\n",
    "# Sample data for foods and nutrients\n",
    "data_foods = {\n",
    "    'Food': [food for food in foods.index],\n",
    "}\n",
    "\n",
    "data_foods.update({col: foods[col] for col in foods.columns})\n",
    "\n",
    "df_foods = pd.DataFrame(data_foods)\n",
    "\n",
    "# Sample data for constraints\n",
    "data_constraints = {\n",
    "    'Nutrient': [nutrient for nutrient in constraints.index],\n",
    "    'MinValue': [val for val in constraints['min']],\n",
    "    'MaxValue': [val for val in constraints['max']],\n",
    "}\n",
    "\n",
    "df_constraints = pd.DataFrame(data_constraints)\n",
    "\n",
    "# Create the LP Minimization problem\n",
    "problem = LpProblem(\"Nutritionally_Complete_Foods\", LpMinimize)\n",
    "\n",
    "# Define decision variables\n",
    "food_vars = LpVariable.dicts(\"Servings\", df_foods['Food'], lowBound=0, cat='Continuous')\n",
    "\n",
    "# Define the objective function to minimize the total number of servings\n",
    "problem += lpSum(food_vars[food] for food in df_foods['Food'])\n",
    "\n",
    "# Add constraints based on nutrient requirements\n",
    "for nutrient in df_constraints['Nutrient']:\n",
    "    min_value = df_constraints.loc[df_constraints['Nutrient'] == nutrient, 'MinValue'].values[0]\n",
    "    max_value = df_constraints.loc[df_constraints['Nutrient'] == nutrient, 'MaxValue'].values[0]\n",
    "    \n",
    "    if not pd.isna(min_value):\n",
    "        problem += lpSum(food_vars[food] * df_foods.loc[df_foods['Food'] == \n",
    "                    food, nutrient].values[0] for food in df_foods['Food']) \\\n",
    "                    >= min_value\n",
    "    if not pd.isna(max_value):\n",
    "        problem += lpSum(food_vars[food] * df_foods.loc[df_foods['Food'] == \n",
    "                    food, nutrient].values[0] for food in df_foods['Food']) \\\n",
    "                    <= max_value\n",
    "\n",
    "# # Add constraint for nutritional completeness\n",
    "# for nutrient in df_constraints['Nutrient']:\n",
    "#     min_value = df_constraints.loc[df_constraints['Nutrient'] == nutrient, \n",
    "#                             'MinValue'].values[0]\n",
    "#     problem += lpSum(food_vars[food] * df_foods.loc[df_foods['Food'] == \n",
    "#                 food, nutrient].values[0] for food in df_foods['Food']) \n",
    "#                 >= min_value\n",
    "\n",
    "# Solve the problem\n",
    "problem.solve()\n",
    "\n",
    "# Print the results\n",
    "print(\"Status:\", problem.status)\n",
    "\n",
    "if problem.status == 1:  # If the problem was solved successfully\n",
    "    for food in df_foods['Food']:\n",
    "        servings = food_vars[food].value()\n",
    "        if servings > 0:\n",
    "            print(f\"{food}: {servings} servings\")\n",
    "else:\n",
    "    print(\"No solution found.\")"
   ]
  },
  {
   "cell_type": "markdown",
   "id": "4d598ce7-e9d3-41df-a466-1098cc67905e",
   "metadata": {},
   "source": [
    "Looking to minimize calories:"
   ]
  },
  {
   "cell_type": "code",
   "execution_count": null,
   "id": "19e6ebcf-aab8-43c3-be0e-07d5965806d0",
   "metadata": {
    "tags": []
   },
   "outputs": [],
   "source": [
    "\n",
    "# Sample data for foods and nutrients\n",
    "data_foods = {\n",
    "    'Food': [food for food in foods.index],\n",
    "}\n",
    "\n",
    "data_foods.update({col: foods[col] for col in foods.columns})\n",
    "\n",
    "df_foods = pd.DataFrame(data_foods)\n",
    "\n",
    "# Sample data for constraints\n",
    "data_constraints = {\n",
    "    'Nutrient': [nutrient for nutrient in constraints.index],\n",
    "    'MinValue': [val for val in constraints['min']],\n",
    "    'MaxValue': [val for val in constraints['max']],\n",
    "}\n",
    "\n",
    "df_constraints = pd.DataFrame(data_constraints)\n",
    "\n",
    "# Create the LP Minimization problem\n",
    "problem = LpProblem(\"Nutritionally_Complete_Foods\", LpMinimize)\n",
    "\n",
    "# Define decision variables\n",
    "food_vars = LpVariable.dicts(\"Servings\", df_foods['Food'], lowBound=0, cat='Continuous')\n",
    "\n",
    "# Define the objective function to minimize the total number of servings\n",
    "ae_calories = LpAffineExpression([(food_vars[food],df_foods.loc[food,'calories']) for food in df_foods['Food']])\n",
    "problem += ae_calories\n",
    "# Add constraints based on nutrient requirements\n",
    "for nutrient in df_constraints['Nutrient']:\n",
    "    min_value = df_constraints.loc[df_constraints['Nutrient'] == nutrient, 'MinValue'].values[0]\n",
    "    max_value = df_constraints.loc[df_constraints['Nutrient'] == nutrient, 'MaxValue'].values[0]\n",
    "    \n",
    "    if not pd.isna(min_value):\n",
    "        problem += lpSum(food_vars[food] * df_foods.loc[df_foods['Food'] == \n",
    "                    food, nutrient].values[0] for food in df_foods['Food']) \\\n",
    "                    >= min_value\n",
    "    if not pd.isna(max_value):\n",
    "        problem += lpSum(food_vars[food] * df_foods.loc[df_foods['Food'] == \n",
    "                    food, nutrient].values[0] for food in df_foods['Food']) \\\n",
    "                    <= max_value\n",
    "\n",
    "# # Add constraint for nutritional completeness\n",
    "# for nutrient in df_constraints['Nutrient']:\n",
    "#     min_value = df_constraints.loc[df_constraints['Nutrient'] == nutrient, \n",
    "#                             'MinValue'].values[0]\n",
    "#     problem += lpSum(food_vars[food] * df_foods.loc[df_foods['Food'] == \n",
    "#                 food, nutrient].values[0] for food in df_foods['Food']) \n",
    "#                 >= min_value\n",
    "\n",
    "# Solve the problem\n",
    "problem.solve()\n",
    "\n",
    "# Print the results\n",
    "print(\"Status:\", problem.status)\n",
    "\n",
    "if problem.status == 1:  # If the problem was solved successfully\n",
    "    for food in df_foods['Food']:\n",
    "        servings = food_vars[food].value()\n",
    "        if servings > 0:\n",
    "            print(f\"{food}: {servings} servings\")\n",
    "else:\n",
    "    print(\"No solution found.\")"
   ]
  },
  {
   "cell_type": "code",
   "execution_count": null,
   "id": "7f2eca8d-52c5-4a9a-a3c2-ee1be1490e8e",
   "metadata": {},
   "outputs": [],
   "source": []
  },
  {
   "cell_type": "code",
   "execution_count": null,
   "id": "444faa56-440f-4715-b2b1-7a3446cb0693",
   "metadata": {},
   "outputs": [],
   "source": [
    "constraints.drop(index=['calories'],inplace=True)\n",
    "# Sample data for foods and nutrients\n",
    "data_foods = {\n",
    "    'Food': [food for food in foods.index],\n",
    "}\n",
    "\n",
    "data_foods.update({col: foods[col] for col in foods.columns})\n",
    "\n",
    "df_foods = pd.DataFrame(data_foods)\n",
    "\n",
    "# Sample data for constraints\n",
    "data_constraints = {\n",
    "    'Nutrient': [nutrient for nutrient in constraints.index],\n",
    "    'MinValue': [val for val in constraints['min']],\n",
    "    'MaxValue': [val for val in constraints['max']],\n",
    "}\n",
    "\n",
    "df_constraints = pd.DataFrame(data_constraints)\n",
    "\n",
    "# Create the LP Minimization problem\n",
    "problem = LpProblem(\"Nutritionally_Complete_Foods\", LpMinimize)\n",
    "\n",
    "# Define decision variables\n",
    "food_vars = LpVariable.dicts(\"Servings\", df_foods['Food'], lowBound=0, cat='Continuous')\n",
    "\n",
    "# Define the objective function to minimize the total number of servings\n",
    "ae_calories = LpAffineExpression([(food_vars[food],df_foods.loc[food,'calories']) for food in df_foods['Food']])\n",
    "problem += ae_calories\n",
    "# Add constraints based on nutrient requirements\n",
    "for nutrient in df_constraints['Nutrient']:\n",
    "    min_value = df_constraints.loc[df_constraints['Nutrient'] == nutrient, 'MinValue'].values[0]\n",
    "    max_value = df_constraints.loc[df_constraints['Nutrient'] == nutrient, 'MaxValue'].values[0]\n",
    "    \n",
    "    if not pd.isna(min_value):\n",
    "        problem += lpSum(food_vars[food] * df_foods.loc[df_foods['Food'] == \n",
    "                    food, nutrient].values[0] for food in df_foods['Food']) \\\n",
    "                    >= min_value\n",
    "    if not pd.isna(max_value):\n",
    "        problem += lpSum(food_vars[food] * df_foods.loc[df_foods['Food'] == \n",
    "                    food, nutrient].values[0] for food in df_foods['Food']) \\\n",
    "                    <= max_value\n",
    "\n",
    "# # Add constraint for nutritional completeness\n",
    "# for nutrient in df_constraints['Nutrient']:\n",
    "#     min_value = df_constraints.loc[df_constraints['Nutrient'] == nutrient, \n",
    "#                             'MinValue'].values[0]\n",
    "#     problem += lpSum(food_vars[food] * df_foods.loc[df_foods['Food'] == \n",
    "#                 food, nutrient].values[0] for food in df_foods['Food']) \n",
    "#                 >= min_value\n",
    "\n",
    "# Solve the problem\n",
    "problem.solve()\n",
    "\n",
    "# Print the results\n",
    "print(\"Status:\", problem.status)\n",
    "\n",
    "if problem.status == 1:  # If the problem was solved successfully\n",
    "    for food in df_foods['Food']:\n",
    "        servings = food_vars[food].value()\n",
    "        if servings > 0:\n",
    "            print(f\"{food}: {servings} servings\")\n",
    "else:\n",
    "    print(\"No solution found.\")"
   ]
  },
  {
   "cell_type": "code",
   "execution_count": null,
   "id": "95c6f38c-5ca9-4f6f-a807-55e8c70bdf0c",
   "metadata": {},
   "outputs": [],
   "source": []
  }
 ],
 "metadata": {
  "kernelspec": {
   "display_name": "Python 3 (ipykernel)",
   "language": "python",
   "name": "python3"
  },
  "language_info": {
   "codemirror_mode": {
    "name": "ipython",
    "version": 3
   },
   "file_extension": ".py",
   "mimetype": "text/x-python",
   "name": "python",
   "nbconvert_exporter": "python",
   "pygments_lexer": "ipython3",
   "version": "3.9.18"
  }
 },
 "nbformat": 4,
 "nbformat_minor": 5
}
