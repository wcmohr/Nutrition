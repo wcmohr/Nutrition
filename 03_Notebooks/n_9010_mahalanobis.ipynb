{
 "cells": [
  {
   "cell_type": "code",
   "execution_count": 2,
   "id": "befcb2f2-9e09-4a28-b383-e39ff08df3e1",
   "metadata": {},
   "outputs": [
    {
     "name": "stdout",
     "output_type": "stream",
     "text": [
      "    Price  Distance  Emission  Performance  Mileage  calculateMahalanobis\n",
      "0  100000     16000       300           60       76          5.672971e+08\n",
      "1  800000     60000       400           88       89          5.672690e+08\n",
      "2  650000    300000      1230           90       89          5.672207e+08\n",
      "3  700000     10000       300           87       57          5.672431e+08\n",
      "4  860000    252000       400           83       79          5.672957e+08\n",
      "5  730000    350000       104           81       84          5.672566e+08\n",
      "6  400000    260000       632           72       78          5.672690e+08\n",
      "7  870000    510000       221           91       99          5.672086e+08\n",
      "8  780000      2000       142           90       97          5.672484e+08\n",
      "9  400000      5000       267           93       99          5.671358e+08\n"
     ]
    }
   ],
   "source": [
    "import numpy as np \n",
    "import pandas as pd \n",
    "import scipy as stats \n",
    "  \n",
    "# calculateMahalanobis function to calculate \n",
    "# the Mahalanobis distance \n",
    "def calculateMahalanobis(y=None, data=None, cov=None):\n",
    "    y_mu = y - np.mean(data) \n",
    "    if not cov: \n",
    "        cov = np.cov(data.values.T)\n",
    "    inv_covmat = np.linalg.inv(cov)\n",
    "    left = np.dot(y_mu, inv_covmat)\n",
    "    mahal = np.dot(left, y_mu.T)\n",
    "    return mahal.diagonal()\n",
    "\n",
    "data\n",
    "\n",
    "data = { 'Price': [100000, 800000, 650000, 700000,  \n",
    "                   860000, 730000, 400000, 870000, \n",
    "                   780000, 400000], \n",
    "         'Distance': [16000, 60000, 300000, 10000,  \n",
    "                      252000, 350000, 260000, 510000,  \n",
    "                      2000, 5000], \n",
    "         'Emission': [300, 400, 1230, 300, 400, 104, \n",
    "                      632, 221, 142, 267], \n",
    "         'Performance': [60, 88, 90, 87, 83, 81, 72,  \n",
    "                         91, 90, 93], \n",
    "         'Mileage': [76, 89, 89, 57, 79, 84, 78, 99,  \n",
    "                     97, 99] \n",
    "        } \n",
    "  \n",
    "# Creating dataset \n",
    "df = pd.DataFrame(data,columns=['Price', 'Distance', \n",
    "                                'Emission','Performance',  \n",
    "                                'Mileage']) \n",
    "  \n",
    "# Creating a new column in the dataframe that holds \n",
    "# the Mahalanobis distance for each row \n",
    "df['calculateMahalanobis'] = calculateMahalanobis(y=df, data=df[[ \n",
    "  'Price', 'Distance', 'Emission','Performance', 'Mileage']]) \n",
    "  \n",
    "# Display the dataframe \n",
    "print(df) "
   ]
  },
  {
   "cell_type": "code",
   "execution_count": 14,
   "id": "1e512713-5210-43cb-9370-630e0667765d",
   "metadata": {},
   "outputs": [
    {
     "data": {
      "text/plain": [
       "161213.56"
      ]
     },
     "execution_count": 14,
     "metadata": {},
     "output_type": "execute_result"
    }
   ],
   "source": [
    " np.mean(pd.DataFrame(data).values.T)"
   ]
  }
 ],
 "metadata": {
  "kernelspec": {
   "display_name": "Python 3 (ipykernel)",
   "language": "python",
   "name": "python3"
  },
  "language_info": {
   "codemirror_mode": {
    "name": "ipython",
    "version": 3
   },
   "file_extension": ".py",
   "mimetype": "text/x-python",
   "name": "python",
   "nbconvert_exporter": "python",
   "pygments_lexer": "ipython3",
   "version": "3.9.18"
  }
 },
 "nbformat": 4,
 "nbformat_minor": 5
}
