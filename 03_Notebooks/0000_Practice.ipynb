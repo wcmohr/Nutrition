{
 "cells": [
  {
   "cell_type": "code",
   "execution_count": 1,
   "id": "201e6ec0-fe92-4ec6-86e8-49f21c92d483",
   "metadata": {},
   "outputs": [],
   "source": [
    "matrix = [\n",
    "    [1, 2, 3, 4],\n",
    "    [5, 6, 7, 8],\n",
    "    [9, 10, 11, 12],\n",
    "]"
   ]
  },
  {
   "cell_type": "code",
   "execution_count": 2,
   "id": "7cc6e4ee-7183-4fc3-bd98-5da3fc764ca6",
   "metadata": {},
   "outputs": [
    {
     "data": {
      "text/plain": [
       "[[1, 5, 9], [2, 6, 10], [3, 7, 11], [4, 8, 12]]"
      ]
     },
     "execution_count": 2,
     "metadata": {},
     "output_type": "execute_result"
    }
   ],
   "source": [
    "[[row[i] for row in matrix] for i in range(4)]"
   ]
  },
  {
   "cell_type": "code",
   "execution_count": 3,
   "id": "6e77a9e7-c8de-4890-84e8-ce3d72c33234",
   "metadata": {},
   "outputs": [],
   "source": [
    "a = [1,2,3,4,5,2,3,4,5,2]"
   ]
  },
  {
   "cell_type": "code",
   "execution_count": 5,
   "id": "6c11a080-3d96-4f91-b625-5ce427017e01",
   "metadata": {},
   "outputs": [],
   "source": [
    "a.remove(2)"
   ]
  },
  {
   "cell_type": "code",
   "execution_count": 8,
   "id": "87b049f5-0dce-4882-8a76-5fb7b4b1dc91",
   "metadata": {},
   "outputs": [
    {
     "name": "stdout",
     "output_type": "stream",
     "text": [
      "true\n"
     ]
    }
   ],
   "source": [
    "string1, string2, string3 = '', 'Trondheim', 'Hammer Dance'\n",
    "if string1 or string2 and string3:\n",
    "    print('true')\n"
   ]
  },
  {
   "cell_type": "code",
   "execution_count": 18,
   "id": "20a60668-703a-46fc-ba36-caf486c67765",
   "metadata": {},
   "outputs": [
    {
     "data": {
      "text/plain": [
       "3"
      ]
     },
     "execution_count": 18,
     "metadata": {},
     "output_type": "execute_result"
    }
   ],
   "source": [
    "(a := bool(1 or 2)) and 3"
   ]
  },
  {
   "cell_type": "code",
   "execution_count": 26,
   "id": "41892b0a-0fd4-488e-beef-3f91d182ef60",
   "metadata": {},
   "outputs": [
    {
     "data": {
      "text/plain": [
       "1.4545454545454546"
      ]
     },
     "execution_count": 26,
     "metadata": {},
     "output_type": "execute_result"
    }
   ],
   "source": []
  }
 ],
 "metadata": {
  "kernelspec": {
   "display_name": "Python 3 (ipykernel)",
   "language": "python",
   "name": "python3"
  },
  "language_info": {
   "codemirror_mode": {
    "name": "ipython",
    "version": 3
   },
   "file_extension": ".py",
   "mimetype": "text/x-python",
   "name": "python",
   "nbconvert_exporter": "python",
   "pygments_lexer": "ipython3",
   "version": "3.9.18"
  }
 },
 "nbformat": 4,
 "nbformat_minor": 5
}
