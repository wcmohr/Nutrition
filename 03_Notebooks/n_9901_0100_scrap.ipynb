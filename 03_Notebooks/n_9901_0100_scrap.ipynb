{
 "cells": [
  {
   "cell_type": "code",
   "execution_count": null,
   "id": "1cbf1922-9c19-43b8-9e9e-166550357d98",
   "metadata": {
    "tags": []
   },
   "outputs": [],
   "source": [
    "f_i = infeasibilitySearch(foods,constraints)\n",
    "i_c = f_i[1]\n",
    "feasible = f_i[0]\n",
    "f_c = constraints.iloc[feasible]\n",
    "model = formulateMP(foods,f_c)\n",
    "model.solve(solver=PULP_CBC_CMD(msg=False))\n",
    "plp.listSolvers(onlyAvailable=True)\n"
   ]
  }
 ],
 "metadata": {
  "kernelspec": {
   "display_name": "Python 3 (ipykernel)",
   "language": "python",
   "name": "python3"
  },
  "language_info": {
   "codemirror_mode": {
    "name": "ipython",
    "version": 3
   },
   "file_extension": ".py",
   "mimetype": "text/x-python",
   "name": "python",
   "nbconvert_exporter": "python",
   "pygments_lexer": "ipython3",
   "version": "3.9.18"
  }
 },
 "nbformat": 4,
 "nbformat_minor": 5
}
