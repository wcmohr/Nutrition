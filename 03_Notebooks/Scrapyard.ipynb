{
 "cells": [
  {
   "cell_type": "markdown",
   "id": "e61050ac-8ce0-42d3-83a8-01d2e2b1ab42",
   "metadata": {},
   "source": [
    "###### An approach to determining correspondence between constraints and nutrients dataframes"
   ]
  },
  {
   "cell_type": "code",
   "execution_count": 1,
   "id": "314d3e87-1403-4988-95d5-40d3f22157db",
   "metadata": {},
   "outputs": [],
   "source": [
    "import difflib"
   ]
  },
  {
   "cell_type": "markdown",
   "id": "ebd6074d-8462-471f-b41a-39b210b6bab5",
   "metadata": {},
   "source": [
    "Algo:\n",
    "\n",
    "1) Find constraint closest to each nutrient\n",
    "2) Find nutrient closest to each constraint\n",
    "3) Find which constraints have an identical match and which do not.\n",
    "4) Rename either the relevant nutrient or constraint, or create a new nutrient column, so that an identical match exists.\n"
   ]
  },
  {
   "cell_type": "markdown",
   "id": "4ecb525a-ca30-470e-ad53-12722f16fa7f",
   "metadata": {},
   "source": [
    "Using difflib to find 'close' matches is too fiddly and so I'll instead use regex to find exact matches."
   ]
  },
  {
   "cell_type": "code",
   "execution_count": null,
   "id": "4b07f2ca-7f24-4547-a535-3dc29fa8ab0c",
   "metadata": {
    "tags": []
   },
   "outputs": [],
   "source": [
    "def find_closest_string(source_list, target_list):\n",
    "    closest_strings = {}\n",
    "    for source_string in source_list: \n",
    "        closest_match = difflib.get_close_matches(source_string, target_list, n=1)\n",
    "        if closest_match:\n",
    "            closest_strings[source_string] = closest_match[0]\n",
    "        else:\n",
    "            closest_strings[source_string] = None\n",
    "    return closest_strings\n",
    "\n",
    "comp_nvdf_cnstr = find_closest_string(nv_df.columns, all_constraints.index)"
   ]
  },
  {
   "cell_type": "code",
   "execution_count": 188,
   "id": "c8fc3382-46b6-433b-9c3e-32a052c90a41",
   "metadata": {},
   "outputs": [
    {
     "data": {
      "text/plain": [
       "['protein',\n",
       " 'calories',\n",
       " 'saturated_fat',\n",
       " 'cholesterol',\n",
       " 'vitamin_b6',\n",
       " 'vitamin_b12',\n",
       " 'biotin',\n",
       " 'choline',\n",
       " 'folate',\n",
       " 'pantothenic_acid',\n",
       " 'vitamin_c',\n",
       " 'vitamin_k',\n",
       " 'calcium',\n",
       " 'chloride',\n",
       " 'chromium',\n",
       " 'copper',\n",
       " 'magnesium',\n",
       " 'manganese',\n",
       " 'molybdenum',\n",
       " 'potassium',\n",
       " 'selenium',\n",
       " 'sodium',\n",
       " 'histidine',\n",
       " 'isoleucine',\n",
       " 'leucine',\n",
       " 'lysine',\n",
       " 'methionine',\n",
       " 'phenylalanine',\n",
       " 'threonine',\n",
       " 'tryptophan',\n",
       " 'valine']"
      ]
     },
     "execution_count": 188,
     "metadata": {},
     "output_type": "execute_result"
    }
   ],
   "source": [
    "# these are the nutrients that are found by \n",
    "[comp_cnstr_nvdf[item] for item in comp_nvdf_cnstr if item in \n",
    " all_constraints.index]"
   ]
  },
  {
   "cell_type": "markdown",
   "id": "a6535686-b41e-41ed-8f82-74f65483b5c9",
   "metadata": {
    "tags": []
   },
   "source": [
    "Does the constraint's name exist as nutrient name\n",
    "\n",
    "```{python}\n",
    "all_constraints.index.values[[bool(val) for val in 1- np.array(find_exact_matches(all_constraints.index.values, nv_df.columns.values))]]\n",
    "```"
   ]
  },
  {
   "cell_type": "markdown",
   "id": "9fbe8906-d8a8-45a2-9cc9-346ed2a01b97",
   "metadata": {
    "tags": []
   },
   "source": [
    "###### From lpp_formulation_affine"
   ]
  },
  {
   "cell_type": "code",
   "execution_count": null,
   "id": "cafdb001-bc43-4c5e-8521-f2d0df62d6ca",
   "metadata": {},
   "outputs": [],
   "source": [
    "sorted(foods.index.values)"
   ]
  },
  {
   "cell_type": "code",
   "execution_count": null,
   "id": "3a4e8661-f0c4-4c45-9621-8f94a95e551f",
   "metadata": {
    "tags": []
   },
   "outputs": [],
   "source": [
    "servings = [food[2] for food in model.coefficients()][0:foods.shape[0]]"
   ]
  },
  {
   "cell_type": "code",
   "execution_count": null,
   "id": "30b867c2-5a11-4257-bed7-820d4c7d0656",
   "metadata": {},
   "outputs": [],
   "source": [
    "# 109,835 calories under constraints -- this result requires investigation.  \n",
    "sum(servings*foods.calories)"
   ]
  },
  {
   "cell_type": "code",
   "execution_count": null,
   "id": "17af30ee-25dc-4f89-bc84-74e1086049f1",
   "metadata": {},
   "outputs": [],
   "source": []
  },
  {
   "cell_type": "code",
   "execution_count": null,
   "id": "798edd3f-08fc-4b14-9406-962e38b73455",
   "metadata": {},
   "outputs": [],
   "source": [
    "[c for c in range(0,40) if c not in candidates ]"
   ]
  },
  {
   "cell_type": "code",
   "execution_count": null,
   "id": "1e77b688-dbc1-40ea-a327-0f7746014eea",
   "metadata": {},
   "outputs": [],
   "source": [
    "constraints.index.values[[c for c in range(0,40) if c not in candidates ]]"
   ]
  },
  {
   "cell_type": "code",
   "execution_count": null,
   "id": "8eab4826-b768-491b-8d79-c133a20b4cf7",
   "metadata": {},
   "outputs": [],
   "source": [
    "# narrowing the constraints to non-macros, which may have been setting a floor on\n",
    "# the total number of calories that limits optimization\n",
    "\n",
    "macros = ['protein', 'fat_total', 'saturated_fat', 'carbohydrates']\n",
    "constraints_micros_aa = constraints.loc[[c for c in constraints.index.values if \n",
    "                                         c not in macros]]"
   ]
  },
  {
   "cell_type": "markdown",
   "id": "43bb8d96-7750-4209-9bc6-99df552162ea",
   "metadata": {},
   "source": [
    "'copper', 'chloride', 'biotin', 'chromium', 'cysteine_methionine', 'histidine', 'leucine', 'lysine', 'methionine', 'phenylalanine_tyrosine', and 'threonine' are not solvable when all constraints are used in search."
   ]
  },
  {
   "cell_type": "code",
   "execution_count": null,
   "id": "0a2f5544-a675-4ea7-8dc2-50b228deea1f",
   "metadata": {},
   "outputs": [],
   "source": []
  },
  {
   "cell_type": "code",
   "execution_count": null,
   "id": "6b09349e-5100-4b25-92ea-e6d2bce1156b",
   "metadata": {
    "tags": []
   },
   "outputs": [],
   "source": [
    "vitamins = ['choline', 'folate', 'niacin', 'pantothenic_acid', 'vitamin_b2',\n",
    "       'vitamin_b1', 'vitamin_a', 'vitamin_b12', 'vitamin_b6', 'vitamin_c',\n",
    "       'vitamin_d_mcg', 'vitamin_k', 'calcium', 'copper', 'iron', 'magnesium',\n",
    "       'manganese', 'phosphorus', 'potassium', 'selenium', 'zinc']\n",
    "\n",
    "for v in vitamins[0:5]:\n",
    "    if not np.isnan(constraints.loc[v][0]):\n",
    "        min_cals += LpConstraint(e=lpSum([foods.loc[food,v]*food_vars[food] \n",
    "                                          for food in foods.index]),\n",
    "                             sense=plp.LpConstraintGE, \n",
    "                             rhs=constraints.loc[v][0],\n",
    "                             name=f'min_{v}'\n",
    "                            )\n",
    "    if not np.isnan(constraints.loc[v][1]):\n",
    "        min_cals += LpConstraint(e=lpSum([foods.loc[food,v]*food_vars[food] \n",
    "                                          for food in foods.index]),\n",
    "                             sense=plp.LpConstraintLE, \n",
    "                             rhs=constraints.loc[v][1],\n",
    "                             name=f'max_{v}'\n",
    "                            )"
   ]
  },
  {
   "cell_type": "code",
   "execution_count": null,
   "id": "739d8781-371d-4b0d-8263-4981ef396cd6",
   "metadata": {},
   "outputs": [],
   "source": []
  },
  {
   "cell_type": "code",
   "execution_count": null,
   "id": "6418cd81-687e-433c-9af3-656c8ce4028c",
   "metadata": {},
   "outputs": [],
   "source": [
    "min_cals.solve()\n",
    "min_cals.objective.value()"
   ]
  },
  {
   "cell_type": "code",
   "execution_count": null,
   "id": "5445ff99-daf9-4841-8a18-4d6db3164018",
   "metadata": {
    "tags": []
   },
   "outputs": [],
   "source": [
    "for c in constraints.index[]:\n",
    "    if not np.isnan(constraints.loc[c][0]):\n",
    "        min_cals += LpConstraint(e=lpSum([foods.loc[food,c]*food_vars[food] \n",
    "                                          for food in foods.index]),\n",
    "                             sense=plp.LpConstraintGE, \n",
    "                             rhs=constraints.loc[c][0],\n",
    "                             name=f'min_{c}'\n",
    "                            )\n",
    "    if not np.isnan(constraints.loc[c][1]):\n",
    "        min_cals += LpConstraint(e=lpSum([foods.loc[food,c]*food_vars[food] \n",
    "                                          for food in foods.index]),\n",
    "                             sense=plp.LpConstraintLE, \n",
    "                             rhs=constraints.loc[c][1],\n",
    "                             name=f'max_{c}'\n",
    "                            )"
   ]
  },
  {
   "cell_type": "code",
   "execution_count": null,
   "id": "e851d83f-11b4-4c4e-9fad-fee67c9fac8a",
   "metadata": {},
   "outputs": [],
   "source": []
  },
  {
   "cell_type": "code",
   "execution_count": null,
   "id": "8457cd11-f4a1-46cc-be5a-a3ca08eb2c32",
   "metadata": {},
   "outputs": [],
   "source": [
    "core_constraints = ['protein', 'cysteine_methionine', 'histidine', 'leucine', 'lysine',\n",
    "       'methionine', 'phenylalanine_tyrosine', 'threonine', 'valine']"
   ]
  },
  {
   "cell_type": "code",
   "execution_count": null,
   "id": "632cf547-c8a4-49cb-9139-89056e15011b",
   "metadata": {},
   "outputs": [],
   "source": [
    "constraints.index"
   ]
  },
  {
   "cell_type": "code",
   "execution_count": null,
   "id": "d70d3069-6b48-46a7-b14c-657cb0c7760e",
   "metadata": {
    "tags": []
   },
   "outputs": [],
   "source": [
    "min_cals.solve()"
   ]
  },
  {
   "cell_type": "code",
   "execution_count": null,
   "id": "0ad5c27d-7416-411a-8d70-ab970d06409d",
   "metadata": {},
   "outputs": [],
   "source": []
  },
  {
   "cell_type": "code",
   "execution_count": null,
   "id": "66c85615-01ec-4f0b-8156-6cdc57664749",
   "metadata": {
    "tags": []
   },
   "outputs": [],
   "source": [
    "dir(plp);"
   ]
  },
  {
   "cell_type": "code",
   "execution_count": null,
   "id": "0c4bb4c6-1f8c-482b-a20e-22fc3d61ee07",
   "metadata": {},
   "outputs": [],
   "source": [
    "# Constraints\n",
    "\n",
    "plp.Lp"
   ]
  },
  {
   "cell_type": "code",
   "execution_count": null,
   "id": "4277fb7f-df3b-4537-8b3a-e91b2e8c7dcf",
   "metadata": {},
   "outputs": [],
   "source": [
    "pulp.lpSum"
   ]
  },
  {
   "cell_type": "code",
   "execution_count": null,
   "id": "18222e7a-c153-477f-89e6-49923c58021a",
   "metadata": {},
   "outputs": [],
   "source": [
    "protein_calories = foods['protein']/foods['calories'].sort_values(ascending=False).copy()"
   ]
  },
  {
   "cell_type": "code",
   "execution_count": null,
   "id": "43154280-e31b-4f00-a7ba-288bfd310392",
   "metadata": {},
   "outputs": [],
   "source": [
    "protein_calories.sort_values(ascending=False)"
   ]
  },
  {
   "cell_type": "code",
   "execution_count": null,
   "id": "bee94c8c-84a8-4f08-bbfa-b2ce3a5f4cbf",
   "metadata": {},
   "outputs": [],
   "source": [
    "# selecting high protein to calorie ratio foods\n",
    "protein_foods = foods.loc[protein_calories.sort_values(ascending=False)[0:40].index,:]\\\n",
    ".query(\"calories > 50\")"
   ]
  },
  {
   "cell_type": "code",
   "execution_count": null,
   "id": "3ae7527c-7ad9-439c-83c7-5d17e69a49dd",
   "metadata": {
    "tags": []
   },
   "outputs": [],
   "source": [
    "constraints.drop(['saturated_fat','cholesterol'])"
   ]
  },
  {
   "cell_type": "code",
   "execution_count": null,
   "id": "03a21185-9c97-4ca1-9f59-88f05a958e96",
   "metadata": {
    "tags": []
   },
   "outputs": [],
   "source": [
    "necessary_nutrients = [c for c in constraints.index if c not in ['saturated_fat','cholesterol']]"
   ]
  },
  {
   "cell_type": "code",
   "execution_count": null,
   "id": "db47f419-7d76-4af6-95e4-ec51ce49dac4",
   "metadata": {
    "tags": []
   },
   "outputs": [],
   "source": [
    "constraints.loc[~constraints.index.isin(['saturated_fat','cholesterol']),:].index.values"
   ]
  },
  {
   "cell_type": "code",
   "execution_count": null,
   "id": "3d8d1f02-bef6-40c8-aa80-a5713ad094a1",
   "metadata": {
    "tags": []
   },
   "outputs": [],
   "source": [
    "foods[necessary_nutrients].idxmax()"
   ]
  },
  {
   "cell_type": "code",
   "execution_count": null,
   "id": "768dfd75-e2c6-48a2-b820-af13938c7b54",
   "metadata": {},
   "outputs": [],
   "source": [
    "max_foods = foods.loc[list(set(foods[necessary_nutrients].idxmax().values)),:]"
   ]
  },
  {
   "cell_type": "code",
   "execution_count": null,
   "id": "9189af31-c38f-43c5-8ef7-e5ea2bba21e9",
   "metadata": {},
   "outputs": [],
   "source": [
    "\n",
    "# Sample data for foods and nutrients\n",
    "data_foods = {\n",
    "    'Food': [food for food in max_foods.index],\n",
    "}\n",
    "\n",
    "data_foods.update({col: protein_foods[col] for col in protein_foods.columns})\n",
    "\n",
    "df_foods = pd.DataFrame(data_foods)\n",
    "\n",
    "# Sample data for constraints\n",
    "data_constraints = {\n",
    "    'Nutrient': [nutrient for nutrient in constraints.index],\n",
    "    'MinValue': [val for val in constraints['min']],\n",
    "    'MaxValue': [val for val in constraints['max']],\n",
    "}\n",
    "\n",
    "df_constraints = pd.DataFrame(data_constraints)\n",
    "\n",
    "# Create the LP Minimization problem\n",
    "problem = LpProblem(\"Nutritionally_Complete_Foods\", LpMinimize)\n",
    "\n",
    "# Define decision variables\n",
    "food_vars = LpVariable.dicts(\"Servings\", df_foods['Food'], lowBound=0, cat='Integer')\n",
    "\n",
    "# Define the objective function to minimize the total number of servings\n",
    "problem += lpSum(food_vars[food] for food in df_foods['Food'])\n",
    "\n",
    "# Add constraints based on nutrient requirements\n",
    "for nutrient in df_constraints['Nutrient']:\n",
    "    min_value = df_constraints.loc[df_constraints['Nutrient'] == nutrient, 'MinValue'].values[0]\n",
    "    max_value = df_constraints.loc[df_constraints['Nutrient'] == nutrient, 'MaxValue'].values[0]\n",
    "    \n",
    "    if not pd.isna(min_value):\n",
    "        problem += lpSum(food_vars[food] * df_foods.loc[df_foods['Food'] == \n",
    "                    food, nutrient].values[0] for food in df_foods['Food']) \\\n",
    "                    >= min_value\n",
    "    if not pd.isna(max_value):\n",
    "        problem += lpSum(food_vars[food] * df_foods.loc[df_foods['Food'] == \n",
    "                    food, nutrient].values[0] for food in df_foods['Food']) \\\n",
    "                    <= max_value\n",
    "\n",
    "# # Add constraint for nutritional completeness\n",
    "# for nutrient in df_constraints['Nutrient']:\n",
    "#     min_value = df_constraints.loc[df_constraints['Nutrient'] == nutrient, \n",
    "#                             'MinValue'].values[0]\n",
    "#     problem += lpSum(food_vars[food] * df_foods.loc[df_foods['Food'] == \n",
    "#                 food, nutrient].values[0] for food in df_foods['Food']) \n",
    "#                 >= min_value\n",
    "\n",
    "# Solve the problem\n",
    "problem.solve()\n",
    "\n",
    "# Print the results\n",
    "print(\"Status:\", problem.status)\n",
    "\n",
    "if problem.status == 1:  # If the problem was solved successfully\n",
    "    for food in df_foods['Food']:\n",
    "        servings = food_vars[food].value()\n",
    "        if servings > 0:\n",
    "            print(f\"{food}: {servings} servings\")\n",
    "else:\n",
    "    print(\"No solution found.\")"
   ]
  },
  {
   "cell_type": "markdown",
   "id": "6c95fb0b-be13-4edb-b186-2f920430e99f",
   "metadata": {},
   "source": [
    "Next I will solve to minimize calories since minimizing for serving size has no solution."
   ]
  },
  {
   "cell_type": "code",
   "execution_count": null,
   "id": "ae32338b-72f2-4239-8ad1-3a3a93a1347c",
   "metadata": {},
   "outputs": [],
   "source": [
    "\n",
    "# Sample data for foods and nutrients\n",
    "data_foods = {\n",
    "    'Food': [food for food in foods.index],\n",
    "}\n",
    "\n",
    "data_foods.update({col: foods[col] for col in foods.columns})\n",
    "\n",
    "df_foods = pd.DataFrame(data_foods)\n",
    "\n",
    "# Sample data for constraints\n",
    "data_constraints = {\n",
    "    'Nutrient': [nutrient for nutrient in constraints.index],\n",
    "    'MinValue': [val for val in constraints['min']],\n",
    "    'MaxValue': [val for val in constraints['max']],\n",
    "}\n",
    "\n",
    "df_constraints = pd.DataFrame(data_constraints)\n",
    "\n",
    "# Create the LP Minimization problem\n",
    "problem = LpProblem(\"Nutritionally_Complete_Foods\", LpMinimize)\n",
    "\n",
    "# Define decision variables\n",
    "food_vars = LpVariable.dicts(\"Servings\", df_foods['Food'], lowBound=0, cat='Continuous')\n",
    "\n",
    "# Define the objective function to minimize the total number of servings\n",
    "problem += lpSum(food_vars[food] for food in df_foods['Food'])\n",
    "\n",
    "# Add constraints based on nutrient requirements\n",
    "for nutrient in df_constraints['Nutrient']:\n",
    "    min_value = df_constraints.loc[df_constraints['Nutrient'] == nutrient, 'MinValue'].values[0]\n",
    "    max_value = df_constraints.loc[df_constraints['Nutrient'] == nutrient, 'MaxValue'].values[0]\n",
    "    \n",
    "    if not pd.isna(min_value):\n",
    "        problem += lpSum(food_vars[food] * df_foods.loc[df_foods['Food'] == \n",
    "                    food, nutrient].values[0] for food in df_foods['Food']) \\\n",
    "                    >= min_value\n",
    "    if not pd.isna(max_value):\n",
    "        problem += lpSum(food_vars[food] * df_foods.loc[df_foods['Food'] == \n",
    "                    food, nutrient].values[0] for food in df_foods['Food']) \\\n",
    "                    <= max_value\n",
    "\n",
    "# # Add constraint for nutritional completeness\n",
    "# for nutrient in df_constraints['Nutrient']:\n",
    "#     min_value = df_constraints.loc[df_constraints['Nutrient'] == nutrient, \n",
    "#                             'MinValue'].values[0]\n",
    "#     problem += lpSum(food_vars[food] * df_foods.loc[df_foods['Food'] == \n",
    "#                 food, nutrient].values[0] for food in df_foods['Food']) \n",
    "#                 >= min_value\n",
    "\n",
    "# Solve the problem\n",
    "problem.solve()\n",
    "\n",
    "# Print the results\n",
    "print(\"Status:\", problem.status)\n",
    "\n",
    "if problem.status == 1:  # If the problem was solved successfully\n",
    "    for food in df_foods['Food']:\n",
    "        servings = food_vars[food].value()\n",
    "        if servings > 0:\n",
    "            print(f\"{food}: {servings} servings\")\n",
    "else:\n",
    "    print(\"No solution found.\")"
   ]
  },
  {
   "cell_type": "markdown",
   "id": "599c4905-6d32-4319-8615-41d4d9a74145",
   "metadata": {},
   "source": [
    "Looking to minimize calories:"
   ]
  },
  {
   "cell_type": "code",
   "execution_count": null,
   "id": "c742c331-cb09-458e-86e0-747e0fd9aae7",
   "metadata": {
    "tags": []
   },
   "outputs": [],
   "source": [
    "\n",
    "# Sample data for foods and nutrients\n",
    "data_foods = {\n",
    "    'Food': [food for food in foods.index],\n",
    "}\n",
    "\n",
    "data_foods.update({col: foods[col] for col in foods.columns})\n",
    "\n",
    "df_foods = pd.DataFrame(data_foods)\n",
    "\n",
    "# Sample data for constraints\n",
    "data_constraints = {\n",
    "    'Nutrient': [nutrient for nutrient in constraints.index],\n",
    "    'MinValue': [val for val in constraints['min']],\n",
    "    'MaxValue': [val for val in constraints['max']],\n",
    "}\n",
    "\n",
    "df_constraints = pd.DataFrame(data_constraints)\n",
    "\n",
    "# Create the LP Minimization problem\n",
    "problem = LpProblem(\"Nutritionally_Complete_Foods\", LpMinimize)\n",
    "\n",
    "# Define decision variables\n",
    "food_vars = LpVariable.dicts(\"Servings\", df_foods['Food'], lowBound=0, cat='Continuous')\n",
    "\n",
    "# Define the objective function to minimize the total number of servings\n",
    "ae_calories = LpAffineExpression([(food_vars[food],df_foods.loc[food,'calories']) for food in df_foods['Food']])\n",
    "problem += ae_calories\n",
    "# Add constraints based on nutrient requirements\n",
    "for nutrient in df_constraints['Nutrient']:\n",
    "    min_value = df_constraints.loc[df_constraints['Nutrient'] == nutrient, 'MinValue'].values[0]\n",
    "    max_value = df_constraints.loc[df_constraints['Nutrient'] == nutrient, 'MaxValue'].values[0]\n",
    "    \n",
    "    if not pd.isna(min_value):\n",
    "        problem += lpSum(food_vars[food] * df_foods.loc[df_foods['Food'] == \n",
    "                    food, nutrient].values[0] for food in df_foods['Food']) \\\n",
    "                    >= min_value\n",
    "    if not pd.isna(max_value):\n",
    "        problem += lpSum(food_vars[food] * df_foods.loc[df_foods['Food'] == \n",
    "                    food, nutrient].values[0] for food in df_foods['Food']) \\\n",
    "                    <= max_value\n",
    "\n",
    "# # Add constraint for nutritional completeness\n",
    "# for nutrient in df_constraints['Nutrient']:\n",
    "#     min_value = df_constraints.loc[df_constraints['Nutrient'] == nutrient, \n",
    "#                             'MinValue'].values[0]\n",
    "#     problem += lpSum(food_vars[food] * df_foods.loc[df_foods['Food'] == \n",
    "#                 food, nutrient].values[0] for food in df_foods['Food']) \n",
    "#                 >= min_value\n",
    "\n",
    "# Solve the problem\n",
    "problem.solve()\n",
    "\n",
    "# Print the results\n",
    "print(\"Status:\", problem.status)\n",
    "\n",
    "if problem.status == 1:  # If the problem was solved successfully\n",
    "    for food in df_foods['Food']:\n",
    "        servings = food_vars[food].value()\n",
    "        if servings > 0:\n",
    "            print(f\"{food}: {servings} servings\")\n",
    "else:\n",
    "    print(\"No solution found.\")"
   ]
  },
  {
   "cell_type": "code",
   "execution_count": null,
   "id": "a236fa62-c536-4f0b-8ad8-7a4a098097e6",
   "metadata": {},
   "outputs": [],
   "source": []
  },
  {
   "cell_type": "code",
   "execution_count": null,
   "id": "ca82a63a-828b-4a6b-9b38-577721e25a55",
   "metadata": {},
   "outputs": [],
   "source": [
    "constraints.drop(index=['calories'],inplace=True)\n",
    "# Sample data for foods and nutrients\n",
    "data_foods = {\n",
    "    'Food': [food for food in foods.index],\n",
    "}\n",
    "\n",
    "data_foods.update({col: foods[col] for col in foods.columns})\n",
    "\n",
    "df_foods = pd.DataFrame(data_foods)\n",
    "\n",
    "# Sample data for constraints\n",
    "data_constraints = {\n",
    "    'Nutrient': [nutrient for nutrient in constraints.index],\n",
    "    'MinValue': [val for val in constraints['min']],\n",
    "    'MaxValue': [val for val in constraints['max']],\n",
    "}\n",
    "\n",
    "df_constraints = pd.DataFrame(data_constraints)\n",
    "\n",
    "# Create the LP Minimization problem\n",
    "problem = LpProblem(\"Nutritionally_Complete_Foods\", LpMinimize)\n",
    "\n",
    "# Define decision variables\n",
    "food_vars = LpVariable.dicts(\"Servings\", df_foods['Food'], lowBound=0, cat='Continuous')\n",
    "\n",
    "# Define the objective function to minimize the total number of servings\n",
    "ae_calories = LpAffineExpression([(food_vars[food],df_foods.loc[food,'calories']) for food in df_foods['Food']])\n",
    "problem += ae_calories\n",
    "# Add constraints based on nutrient requirements\n",
    "for nutrient in df_constraints['Nutrient']:\n",
    "    min_value = df_constraints.loc[df_constraints['Nutrient'] == nutrient, 'MinValue'].values[0]\n",
    "    max_value = df_constraints.loc[df_constraints['Nutrient'] == nutrient, 'MaxValue'].values[0]\n",
    "    \n",
    "    if not pd.isna(min_value):\n",
    "        problem += lpSum(food_vars[food] * df_foods.loc[df_foods['Food'] == \n",
    "                    food, nutrient].values[0] for food in df_foods['Food']) \\\n",
    "                    >= min_value\n",
    "    if not pd.isna(max_value):\n",
    "        problem += lpSum(food_vars[food] * df_foods.loc[df_foods['Food'] == \n",
    "                    food, nutrient].values[0] for food in df_foods['Food']) \\\n",
    "                    <= max_value\n",
    "\n",
    "# # Add constraint for nutritional completeness\n",
    "# for nutrient in df_constraints['Nutrient']:\n",
    "#     min_value = df_constraints.loc[df_constraints['Nutrient'] == nutrient, \n",
    "#                             'MinValue'].values[0]\n",
    "#     problem += lpSum(food_vars[food] * df_foods.loc[df_foods['Food'] == \n",
    "#                 food, nutrient].values[0] for food in df_foods['Food']) \n",
    "#                 >= min_value\n",
    "\n",
    "# Solve the problem\n",
    "problem.solve()\n",
    "\n",
    "# Print the results\n",
    "print(\"Status:\", problem.status)\n",
    "\n",
    "if problem.status == 1:  # If the problem was solved successfully\n",
    "    for food in df_foods['Food']:\n",
    "        servings = food_vars[food].value()\n",
    "        if servings > 0:\n",
    "            print(f\"{food}: {servings} servings\")\n",
    "else:\n",
    "    print(\"No solution found.\")"
   ]
  },
  {
   "cell_type": "code",
   "execution_count": null,
   "id": "c6b288b6-bec4-44fc-8f46-c4ff1f75df70",
   "metadata": {},
   "outputs": [],
   "source": []
  }
 ],
 "metadata": {
  "kernelspec": {
   "display_name": "Python 3 (ipykernel)",
   "language": "python",
   "name": "python3"
  },
  "language_info": {
   "codemirror_mode": {
    "name": "ipython",
    "version": 3
   },
   "file_extension": ".py",
   "mimetype": "text/x-python",
   "name": "python",
   "nbconvert_exporter": "python",
   "pygments_lexer": "ipython3",
   "version": "3.9.18"
  }
 },
 "nbformat": 4,
 "nbformat_minor": 5
}
