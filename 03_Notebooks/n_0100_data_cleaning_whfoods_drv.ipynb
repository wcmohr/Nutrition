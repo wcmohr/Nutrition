{
 "cells": [
  {
   "cell_type": "markdown",
   "id": "a1843c12-4eff-4faa-bed6-3d45424ae6d4",
   "metadata": {},
   "source": [
    "###### To-Do"
   ]
  },
  {
   "cell_type": "markdown",
   "id": "add06283-a264-4efb-828d-629a08f7e08c",
   "metadata": {},
   "source": [
    "Add palmitic acid, stearic-acid, EPA, DHA to cleaned food df and constraints"
   ]
  },
  {
   "cell_type": "markdown",
   "id": "0198ce98-424f-4310-8333-6ca64e4510e3",
   "metadata": {
    "tags": []
   },
   "source": [
    "###### attributions"
   ]
  },
  {
   "cell_type": "markdown",
   "id": "84ef36ae-d1d7-4e62-ac33-be4a8bf084b1",
   "metadata": {},
   "source": [
    "[1) Set default .head() to 3 rows -- Ted Petrou, Dunder Data](https://medium.com/dunder-data/pandas-trick-1-change-the-default-number-of-rows-returned-from-the-head-method-bc7c21ce0d53)"
   ]
  },
  {
   "cell_type": "markdown",
   "id": "3c25ec40-3d6e-4678-988b-23154a428f73",
   "metadata": {
    "tags": []
   },
   "source": [
    "###### imports"
   ]
  },
  {
   "cell_type": "code",
   "execution_count": 1,
   "id": "34ffe39a-f334-4a87-b85e-36af42d21553",
   "metadata": {},
   "outputs": [],
   "source": [
    "import pandas as pd # for dataframe analysis\n",
    "import numpy as np # for arrays functionality, i.e. .where()...\n",
    "import re\n",
    "from functools import partialmethod # for changing default of pandas .head()\n",
    "import difflib # compare naming of nutrients between constraints and foods DFs\n",
    "from notebooks_module.data_munging import format_cols, float_match, \\\n",
    "find_duplicate_columns, find_exact_matches, getUnit, getNumber"
   ]
  },
  {
   "cell_type": "markdown",
   "id": "a6cc1d12-86d9-4609-992b-ef009a6c7c70",
   "metadata": {},
   "source": [
    "###### set defaults"
   ]
  },
  {
   "cell_type": "code",
   "execution_count": 2,
   "id": "f0c77b77-6783-40fb-98e5-56f98093fa3e",
   "metadata": {},
   "outputs": [],
   "source": [
    "pd.DataFrame.head = partialmethod(pd.DataFrame.head, n=3)"
   ]
  },
  {
   "cell_type": "markdown",
   "id": "2fe3b1be-4f58-4d9d-9fcc-a1db9bc49437",
   "metadata": {
    "tags": []
   },
   "source": [
    "### Whfoods"
   ]
  },
  {
   "cell_type": "markdown",
   "id": "e58b929b-2c3f-4a1a-876e-e39c1d6850ff",
   "metadata": {},
   "source": [
    "###### data cleaning"
   ]
  },
  {
   "cell_type": "code",
   "execution_count": 3,
   "id": "fdaad38b-b3eb-47db-bab2-203ec31150df",
   "metadata": {
    "tags": []
   },
   "outputs": [
    {
     "data": {
      "text/html": [
       "<div>\n",
       "<style scoped>\n",
       "    .dataframe tbody tr th:only-of-type {\n",
       "        vertical-align: middle;\n",
       "    }\n",
       "\n",
       "    .dataframe tbody tr th {\n",
       "        vertical-align: top;\n",
       "    }\n",
       "\n",
       "    .dataframe thead th {\n",
       "        text-align: right;\n",
       "    }\n",
       "</style>\n",
       "<table border=\"1\" class=\"dataframe\">\n",
       "  <thead>\n",
       "    <tr style=\"text-align: right;\">\n",
       "      <th></th>\n",
       "      <th>Asparagus, Cooked</th>\n",
       "      <th>Unnamed: 1</th>\n",
       "      <th>Unnamed: 2</th>\n",
       "      <th>Avocado, cubed, raw</th>\n",
       "      <th>Unnamed: 4</th>\n",
       "      <th>Unnamed: 5</th>\n",
       "      <th>Beet Greens, boiled</th>\n",
       "      <th>Unnamed: 7</th>\n",
       "      <th>Unnamed: 8</th>\n",
       "      <th>Beets, sliced, cooked</th>\n",
       "      <th>...</th>\n",
       "      <th>Unnamed: 341</th>\n",
       "      <th>Sage, dried</th>\n",
       "      <th>Unnamed: 343</th>\n",
       "      <th>Unnamed: 344</th>\n",
       "      <th>Thyme, fresh</th>\n",
       "      <th>Unnamed: 346</th>\n",
       "      <th>Unnamed: 347</th>\n",
       "      <th>Turmeric, ground</th>\n",
       "      <th>Unnamed: 349</th>\n",
       "      <th>Unnamed: 350</th>\n",
       "    </tr>\n",
       "  </thead>\n",
       "  <tbody>\n",
       "    <tr>\n",
       "      <th>0</th>\n",
       "      <td>BASIC MACRONUTRIENTS AND CALORIES</td>\n",
       "      <td>NaN</td>\n",
       "      <td>NaN</td>\n",
       "      <td>BASIC MACRONUTRIENTS AND CALORIES</td>\n",
       "      <td>NaN</td>\n",
       "      <td>NaN</td>\n",
       "      <td>BASIC MACRONUTRIENTS AND CALORIES</td>\n",
       "      <td>NaN</td>\n",
       "      <td>NaN</td>\n",
       "      <td>BASIC MACRONUTRIENTS AND CALORIES</td>\n",
       "      <td>...</td>\n",
       "      <td>NaN</td>\n",
       "      <td>BASIC MACRONUTRIENTS AND CALORIES</td>\n",
       "      <td>NaN</td>\n",
       "      <td>NaN</td>\n",
       "      <td>BASIC MACRONUTRIENTS AND CALORIES</td>\n",
       "      <td>NaN</td>\n",
       "      <td>NaN</td>\n",
       "      <td>BASIC MACRONUTRIENTS AND CALORIES</td>\n",
       "      <td>NaN</td>\n",
       "      <td>NaN</td>\n",
       "    </tr>\n",
       "    <tr>\n",
       "      <th>1</th>\n",
       "      <td>nutrient</td>\n",
       "      <td>amount</td>\n",
       "      <td>DRI/DV</td>\n",
       "      <td>nutrient</td>\n",
       "      <td>amount</td>\n",
       "      <td>DRI/DV</td>\n",
       "      <td>nutrient</td>\n",
       "      <td>amount</td>\n",
       "      <td>DRI/DV</td>\n",
       "      <td>nutrient</td>\n",
       "      <td>...</td>\n",
       "      <td>DRI/DV</td>\n",
       "      <td>nutrient</td>\n",
       "      <td>amount</td>\n",
       "      <td>DRI/DV</td>\n",
       "      <td>nutrient</td>\n",
       "      <td>amount</td>\n",
       "      <td>DRI/DV</td>\n",
       "      <td>nutrient</td>\n",
       "      <td>amount</td>\n",
       "      <td>DRI/DV</td>\n",
       "    </tr>\n",
       "    <tr>\n",
       "      <th>2</th>\n",
       "      <td>NaN</td>\n",
       "      <td>NaN</td>\n",
       "      <td>(%)</td>\n",
       "      <td>NaN</td>\n",
       "      <td>NaN</td>\n",
       "      <td>(%)</td>\n",
       "      <td>NaN</td>\n",
       "      <td>NaN</td>\n",
       "      <td>(%)</td>\n",
       "      <td>NaN</td>\n",
       "      <td>...</td>\n",
       "      <td>(%)</td>\n",
       "      <td>NaN</td>\n",
       "      <td>NaN</td>\n",
       "      <td>(%)</td>\n",
       "      <td>NaN</td>\n",
       "      <td>NaN</td>\n",
       "      <td>(%)</td>\n",
       "      <td>NaN</td>\n",
       "      <td>NaN</td>\n",
       "      <td>(%)</td>\n",
       "    </tr>\n",
       "  </tbody>\n",
       "</table>\n",
       "<p>3 rows × 351 columns</p>\n",
       "</div>"
      ],
      "text/plain": [
       "                   Asparagus, Cooked Unnamed: 1 Unnamed: 2  \\\n",
       "0  BASIC MACRONUTRIENTS AND CALORIES        NaN        NaN   \n",
       "1                           nutrient     amount     DRI/DV   \n",
       "2                                NaN        NaN        (%)   \n",
       "\n",
       "                 Avocado, cubed, raw Unnamed: 4 Unnamed: 5  \\\n",
       "0  BASIC MACRONUTRIENTS AND CALORIES        NaN        NaN   \n",
       "1                           nutrient     amount     DRI/DV   \n",
       "2                                NaN        NaN        (%)   \n",
       "\n",
       "                 Beet Greens, boiled Unnamed: 7 Unnamed: 8  \\\n",
       "0  BASIC MACRONUTRIENTS AND CALORIES        NaN        NaN   \n",
       "1                           nutrient     amount     DRI/DV   \n",
       "2                                NaN        NaN        (%)   \n",
       "\n",
       "               Beets, sliced, cooked  ... Unnamed: 341  \\\n",
       "0  BASIC MACRONUTRIENTS AND CALORIES  ...          NaN   \n",
       "1                           nutrient  ...       DRI/DV   \n",
       "2                                NaN  ...          (%)   \n",
       "\n",
       "                         Sage, dried Unnamed: 343 Unnamed: 344  \\\n",
       "0  BASIC MACRONUTRIENTS AND CALORIES          NaN          NaN   \n",
       "1                           nutrient       amount       DRI/DV   \n",
       "2                                NaN          NaN          (%)   \n",
       "\n",
       "                        Thyme, fresh Unnamed: 346 Unnamed: 347  \\\n",
       "0  BASIC MACRONUTRIENTS AND CALORIES          NaN          NaN   \n",
       "1                           nutrient       amount       DRI/DV   \n",
       "2                                NaN          NaN          (%)   \n",
       "\n",
       "                    Turmeric, ground Unnamed: 349 Unnamed: 350  \n",
       "0  BASIC MACRONUTRIENTS AND CALORIES          NaN          NaN  \n",
       "1                           nutrient       amount       DRI/DV  \n",
       "2                                NaN          NaN          (%)  \n",
       "\n",
       "[3 rows x 351 columns]"
      ]
     },
     "execution_count": 3,
     "metadata": {},
     "output_type": "execute_result"
    }
   ],
   "source": [
    "whfoods = pd.read_csv('../01_Data/whfoods.csv')\n",
    "whfoods.index = range(whfoods.shape[0])\n",
    "whfoods.head()"
   ]
  },
  {
   "cell_type": "code",
   "execution_count": 4,
   "id": "cf7de9e0-9ab6-47a5-9997-5e77b2004d9c",
   "metadata": {},
   "outputs": [],
   "source": [
    "# investigating dimensions of dataset\n",
    "\n",
    "nfoods = len(whfoods.columns)/3 # there are 117 foods in the dataset.\n",
    "nfoods\n",
    "whfoods.shape\n",
    "nnutrients = whfoods.shape[0]"
   ]
  },
  {
   "cell_type": "markdown",
   "id": "3c473998-b20a-4850-8c29-e59b00839530",
   "metadata": {},
   "source": [
    "174 \"nutrients,\" though many of these will be not real nutrients."
   ]
  },
  {
   "cell_type": "markdown",
   "id": "1743823d-f0bc-49d8-8850-1e62ca7d5028",
   "metadata": {},
   "source": [
    "**Initial assessment of dataset**\\\n",
    "\\\n",
    "*SHAPE:* There are three columns per food group, 174 rows, 351 columns.  \\\n",
    "\\\n",
    "*INFORMATION:* There is no serving size in grams of the food, though from inspecting the excel spreadsheet it appears possible to reconstruct this value from the amounts of the macronutrients, micronutrients, water, and ash.\\\n",
    "\\\n",
    "*FORMATTING:* The three columns indicate first the description of the component of the food, the amount in grams, milligrams, or micrograms, and the DRI/DV if applicable.\n",
    "\n",
    "**Action Items**\n",
    "1) Generate two dataframes -- one for amount, one for DRI/DV\n",
    "2) Standardize missing value indicators\n",
    "3) Eliminate rows with one unique value.\n",
    "4) Separate out units for the amount df into a reference dictionary of {nutrient1: 'mg', nutrient2: 'g', nutrient3: 'mcg', ...}\n",
    "5) Build the LP problem with PuLP"
   ]
  },
  {
   "cell_type": "code",
   "execution_count": 5,
   "id": "7b837574-bebc-4f87-9871-af1cbf0fb49e",
   "metadata": {},
   "outputs": [],
   "source": [
    "# initial pass on removing extraneous rows, columns.\n",
    "whfoods = whfoods.dropna(how='all',axis=1).dropna(how='all', axis=0)"
   ]
  },
  {
   "cell_type": "markdown",
   "id": "980f48aa-ab72-47cc-a282-b3a2d34aee03",
   "metadata": {},
   "source": [
    "There are under 173 nutrient categories since some of the rows correspond to supercategories such as 'Minerals','INDIVIDUAL FATTY ACIDS', 'Monounsaturated Fats', 'INDIVIDUAL AMINO ACIDS', 'OTHER COMPONENTS', etc. as well as corresponding extraneous rows such as: 'nutrient', nan.\n",
    "\n",
    "The dataset could be filtered by removing rows with all 0.00 g, mg etc or all -- mg such as with the sweeteners, caffeine, alcohol."
   ]
  },
  {
   "cell_type": "markdown",
   "id": "e700aa5b-df47-4486-b805-ac80759000ea",
   "metadata": {},
   "source": [
    "I'll create two dictionaries, one of the foods and the raw nutrient values and another of the foods and DRI/DV.  These can be used to generate data frames.  The raw nutrient values and the DRI/DV info can be used to generate the 100% DRI/DV values for each nutrient.  Rounding errors can be minimized by using the food with the highest DRI/DV for a given nutrient to generate the recommendation."
   ]
  },
  {
   "cell_type": "markdown",
   "id": "bc423f8f-e13f-478e-bce1-60720cb4be80",
   "metadata": {},
   "source": [
    "###### column name formatting"
   ]
  },
  {
   "cell_type": "code",
   "execution_count": 6,
   "id": "7a099ee9-a494-4e7d-b5c1-0c483baca161",
   "metadata": {},
   "outputs": [
    {
     "data": {
      "text/plain": [
       "117"
      ]
     },
     "execution_count": 6,
     "metadata": {},
     "output_type": "execute_result"
    }
   ],
   "source": [
    "# gather all the foods into a list\n",
    "foods = [food for inx,food in enumerate(whfoods.columns) if inx%3 ==0]\n",
    "len(foods) # verify the number of foods"
   ]
  },
  {
   "cell_type": "code",
   "execution_count": 7,
   "id": "62bfba6a-48ab-4920-9b58-73c20acfd0ab",
   "metadata": {},
   "outputs": [
    {
     "data": {
      "text/plain": [
       "Index(['asparagus_cooked', 'nv_asparagus_cooked', 'drv_asparagus_cooked',\n",
       "       'avocado_cubed_raw', 'nv_avocado_cubed_raw', 'drv_avocado_cubed_raw',\n",
       "       'beet_greens_boiled', 'nv_beet_greens_boiled', 'drv_beet_greens_boiled',\n",
       "       'beets_sliced_cooked',\n",
       "       ...\n",
       "       'drv_rosemary_fresh', 'sage_dried', 'nv_sage_dried', 'drv_sage_dried',\n",
       "       'thyme_fresh', 'nv_thyme_fresh', 'drv_thyme_fresh', 'turmeric_ground',\n",
       "       'nv_turmeric_ground', 'drv_turmeric_ground'],\n",
       "      dtype='object', length=351)"
      ]
     },
     "execution_count": 7,
     "metadata": {},
     "output_type": "execute_result"
    }
   ],
   "source": [
    "new_cols = []\n",
    "\n",
    "for i, food in enumerate(foods):\n",
    "    # Replace spaces, then commas, then dunders, and finally make lowercase\n",
    "    food = re.sub(r'-','_',re.sub(r'_+', '_', \n",
    "                  re.sub(r',+', '_', \n",
    "                         re.sub(r' +', '_', food))).lower())\n",
    "\n",
    "    new_cols = new_cols + [food, f'nv_{food}', f'drv_{food}']\n",
    "\n",
    "whfoods.columns = new_cols\n",
    "foods = [food for inx,food in enumerate(whfoods.columns) if inx%3 ==0]\n",
    "\n",
    "whfoods.columns"
   ]
  },
  {
   "cell_type": "markdown",
   "id": "b66fb92e-64b0-48e6-9b3c-a933d388f725",
   "metadata": {
    "tags": []
   },
   "source": [
    "###### separate nutrient val, drv info"
   ]
  },
  {
   "cell_type": "code",
   "execution_count": 8,
   "id": "37e07347-2d6d-4b9f-b671-fc64802bf153",
   "metadata": {},
   "outputs": [],
   "source": [
    "# collect a nested dictionary of... {food: {nutrient:nutrient_val}}\n",
    "nutrient_vals = \\\n",
    "{food:\n",
    "    {whfoods.loc[i,food]: \n",
    "     whfoods.iloc[i,int(np.where(whfoods.columns.values==food)[0][0])+1] \n",
    "     for i in range (2, nnutrients)\n",
    "    } for food in foods\n",
    "}\n",
    "\n",
    "# collect a nested dictionary of... {food: {nutrient:nutrient_drv}}\n",
    "nutrient_drv = \\\n",
    "{food:\n",
    "    {whfoods.loc[i,food]: \n",
    "     whfoods.iloc[i,int(np.where(whfoods.columns.values==food)[0][0])+2] \n",
    "     for i in range (2, nnutrients)\n",
    "    } for food in foods\n",
    "}\n",
    "\n",
    "# convert to DatFrame\n",
    "nv_df = pd.DataFrame(nutrient_vals)\n",
    "drv_df = pd.DataFrame(nutrient_drv)\n",
    "\n",
    "# Transposing so that the foods are like \"observations\" in long format\n",
    "nv_df = nv_df.T\n",
    "drv_df = drv_df.T"
   ]
  },
  {
   "cell_type": "markdown",
   "id": "9fcafca3-05fa-4b38-88ea-94d6ea593a13",
   "metadata": {
    "tags": []
   },
   "source": [
    "###### Cleaning"
   ]
  },
  {
   "cell_type": "markdown",
   "id": "0445f697-9cb8-43a7-a663-70b2599340a2",
   "metadata": {},
   "source": [
    "Remove all columns that have uniform values"
   ]
  },
  {
   "cell_type": "code",
   "execution_count": 9,
   "id": "0a7e3a0a-e056-443b-ae69-cbf4f04cf0dd",
   "metadata": {},
   "outputs": [],
   "source": [
    "# credit: ChatGPT\n",
    "def remove_columns_with_same_value(df):\n",
    "    unique_counts = df.nunique()\n",
    "    columns_to_remove = unique_counts[(unique_counts == 1)|(unique_counts == 0)].index\n",
    "    df = df.drop(columns=columns_to_remove)\n",
    "    return df"
   ]
  },
  {
   "cell_type": "code",
   "execution_count": 10,
   "id": "cd8c0c7c-baaa-4d8a-a502-b9ea7f6b6f5d",
   "metadata": {},
   "outputs": [],
   "source": [
    "nv_df = remove_columns_with_same_value(nv_df)"
   ]
  },
  {
   "cell_type": "code",
   "execution_count": 11,
   "id": "00de41e0-cbb8-40d7-87b3-9109d8badd08",
   "metadata": {
    "tags": []
   },
   "outputs": [
    {
     "data": {
      "text/html": [
       "<div>\n",
       "<style scoped>\n",
       "    .dataframe tbody tr th:only-of-type {\n",
       "        vertical-align: middle;\n",
       "    }\n",
       "\n",
       "    .dataframe tbody tr th {\n",
       "        vertical-align: top;\n",
       "    }\n",
       "\n",
       "    .dataframe thead th {\n",
       "        text-align: right;\n",
       "    }\n",
       "</style>\n",
       "<table border=\"1\" class=\"dataframe\">\n",
       "  <thead>\n",
       "    <tr style=\"text-align: right;\">\n",
       "      <th></th>\n",
       "      <th>Protein</th>\n",
       "      <th>Carbohydrates</th>\n",
       "      <th>Fat - total</th>\n",
       "      <th>Dietary Fiber</th>\n",
       "      <th>Calories</th>\n",
       "      <th>Starch</th>\n",
       "      <th>Total Sugars</th>\n",
       "      <th>Monosaccharides</th>\n",
       "      <th>Fructose</th>\n",
       "      <th>Glucose</th>\n",
       "      <th>...</th>\n",
       "      <th>Sugar Alcohols (Total)</th>\n",
       "      <th>Glycerol</th>\n",
       "      <th>Inositol</th>\n",
       "      <th>Mannitol</th>\n",
       "      <th>Sorbitol</th>\n",
       "      <th>Xylitol</th>\n",
       "      <th>Artificial Sweeteners (Total)</th>\n",
       "      <th>Aspartame</th>\n",
       "      <th>Saccharin</th>\n",
       "      <th>Caffeine</th>\n",
       "    </tr>\n",
       "  </thead>\n",
       "  <tbody>\n",
       "    <tr>\n",
       "      <th>asparagus_cooked</th>\n",
       "      <td>4.32 g</td>\n",
       "      <td>7.40 g</td>\n",
       "      <td>0.40 g</td>\n",
       "      <td>3.60 g</td>\n",
       "      <td>39.6</td>\n",
       "      <td>-- g</td>\n",
       "      <td>2.34 g</td>\n",
       "      <td>2.18 g</td>\n",
       "      <td>1.42 g</td>\n",
       "      <td>0.76 g</td>\n",
       "      <td>...</td>\n",
       "      <td>-- g</td>\n",
       "      <td>-- g</td>\n",
       "      <td>-- g</td>\n",
       "      <td>-- g</td>\n",
       "      <td>-- g</td>\n",
       "      <td>-- g</td>\n",
       "      <td>-- mg</td>\n",
       "      <td>-- mg</td>\n",
       "      <td>-- mg</td>\n",
       "      <td>0.00 mg</td>\n",
       "    </tr>\n",
       "    <tr>\n",
       "      <th>avocado_cubed_raw</th>\n",
       "      <td>3.00 g</td>\n",
       "      <td>12.80 g</td>\n",
       "      <td>21.99 g</td>\n",
       "      <td>10.05 g</td>\n",
       "      <td>240</td>\n",
       "      <td>-- g</td>\n",
       "      <td>0.99 g</td>\n",
       "      <td>0.89 g</td>\n",
       "      <td>0.18 g</td>\n",
       "      <td>0.56 g</td>\n",
       "      <td>...</td>\n",
       "      <td>-- g</td>\n",
       "      <td>-- g</td>\n",
       "      <td>-- g</td>\n",
       "      <td>-- g</td>\n",
       "      <td>-- g</td>\n",
       "      <td>-- g</td>\n",
       "      <td>-- mg</td>\n",
       "      <td>-- mg</td>\n",
       "      <td>-- mg</td>\n",
       "      <td>0.00 mg</td>\n",
       "    </tr>\n",
       "    <tr>\n",
       "      <th>beet_greens_boiled</th>\n",
       "      <td>3.70 g</td>\n",
       "      <td>7.86 g</td>\n",
       "      <td>0.29 g</td>\n",
       "      <td>4.18 g</td>\n",
       "      <td>38.88</td>\n",
       "      <td>-- g</td>\n",
       "      <td>0.86 g</td>\n",
       "      <td>-- g</td>\n",
       "      <td>-- g</td>\n",
       "      <td>-- g</td>\n",
       "      <td>...</td>\n",
       "      <td>-- g</td>\n",
       "      <td>-- g</td>\n",
       "      <td>-- g</td>\n",
       "      <td>-- g</td>\n",
       "      <td>-- g</td>\n",
       "      <td>-- g</td>\n",
       "      <td>-- mg</td>\n",
       "      <td>-- mg</td>\n",
       "      <td>-- mg</td>\n",
       "      <td>0.00 mg</td>\n",
       "    </tr>\n",
       "  </tbody>\n",
       "</table>\n",
       "<p>3 rows × 139 columns</p>\n",
       "</div>"
      ],
      "text/plain": [
       "                   Protein Carbohydrates Fat - total Dietary Fiber Calories  \\\n",
       "asparagus_cooked    4.32 g        7.40 g      0.40 g        3.60 g     39.6   \n",
       "avocado_cubed_raw   3.00 g       12.80 g     21.99 g       10.05 g      240   \n",
       "beet_greens_boiled  3.70 g        7.86 g      0.29 g        4.18 g    38.88   \n",
       "\n",
       "                   Starch Total Sugars Monosaccharides Fructose Glucose  ...  \\\n",
       "asparagus_cooked     -- g       2.34 g          2.18 g   1.42 g  0.76 g  ...   \n",
       "avocado_cubed_raw    -- g       0.99 g          0.89 g   0.18 g  0.56 g  ...   \n",
       "beet_greens_boiled   -- g       0.86 g            -- g     -- g    -- g  ...   \n",
       "\n",
       "                   Sugar Alcohols (Total) Glycerol Inositol Mannitol Sorbitol  \\\n",
       "asparagus_cooked                     -- g     -- g     -- g     -- g     -- g   \n",
       "avocado_cubed_raw                    -- g     -- g     -- g     -- g     -- g   \n",
       "beet_greens_boiled                   -- g     -- g     -- g     -- g     -- g   \n",
       "\n",
       "                   Xylitol Artificial Sweeteners (Total) Aspartame Saccharin  \\\n",
       "asparagus_cooked      -- g                         -- mg     -- mg     -- mg   \n",
       "avocado_cubed_raw     -- g                         -- mg     -- mg     -- mg   \n",
       "beet_greens_boiled    -- g                         -- mg     -- mg     -- mg   \n",
       "\n",
       "                   Caffeine  \n",
       "asparagus_cooked    0.00 mg  \n",
       "avocado_cubed_raw   0.00 mg  \n",
       "beet_greens_boiled  0.00 mg  \n",
       "\n",
       "[3 rows x 139 columns]"
      ]
     },
     "execution_count": 11,
     "metadata": {},
     "output_type": "execute_result"
    }
   ],
   "source": [
    "nv_df.head()"
   ]
  },
  {
   "cell_type": "code",
   "execution_count": 12,
   "id": "8c12902f-4131-4a8d-83b0-131066c60a81",
   "metadata": {},
   "outputs": [],
   "source": [
    "drv_df = remove_columns_with_same_value(drv_df)"
   ]
  },
  {
   "cell_type": "code",
   "execution_count": 13,
   "id": "5465c56a-bbc8-4369-9e47-f4a2ed23c603",
   "metadata": {
    "tags": []
   },
   "outputs": [
    {
     "data": {
      "text/html": [
       "<div>\n",
       "<style scoped>\n",
       "    .dataframe tbody tr th:only-of-type {\n",
       "        vertical-align: middle;\n",
       "    }\n",
       "\n",
       "    .dataframe tbody tr th {\n",
       "        vertical-align: top;\n",
       "    }\n",
       "\n",
       "    .dataframe thead th {\n",
       "        text-align: right;\n",
       "    }\n",
       "</style>\n",
       "<table border=\"1\" class=\"dataframe\">\n",
       "  <thead>\n",
       "    <tr style=\"text-align: right;\">\n",
       "      <th></th>\n",
       "      <th>Protein</th>\n",
       "      <th>Carbohydrates</th>\n",
       "      <th>Fat - total</th>\n",
       "      <th>Dietary Fiber</th>\n",
       "      <th>Calories</th>\n",
       "      <th>Vitamin B1</th>\n",
       "      <th>Vitamin B2</th>\n",
       "      <th>Vitamin B3</th>\n",
       "      <th>Vitamin B6</th>\n",
       "      <th>Vitamin B12</th>\n",
       "      <th>...</th>\n",
       "      <th>Iron</th>\n",
       "      <th>Magnesium</th>\n",
       "      <th>Manganese</th>\n",
       "      <th>Molybdenum</th>\n",
       "      <th>Phosphorus</th>\n",
       "      <th>Potassium</th>\n",
       "      <th>Selenium</th>\n",
       "      <th>Sodium</th>\n",
       "      <th>Zinc</th>\n",
       "      <th>Omega-3 Fatty Acids</th>\n",
       "    </tr>\n",
       "  </thead>\n",
       "  <tbody>\n",
       "    <tr>\n",
       "      <th>asparagus_cooked</th>\n",
       "      <td>9</td>\n",
       "      <td>3</td>\n",
       "      <td>1</td>\n",
       "      <td>13</td>\n",
       "      <td>2</td>\n",
       "      <td>24</td>\n",
       "      <td>19</td>\n",
       "      <td>12</td>\n",
       "      <td>8</td>\n",
       "      <td>0</td>\n",
       "      <td>...</td>\n",
       "      <td>9</td>\n",
       "      <td>6</td>\n",
       "      <td>12</td>\n",
       "      <td>--</td>\n",
       "      <td>14</td>\n",
       "      <td>9</td>\n",
       "      <td>20</td>\n",
       "      <td>2</td>\n",
       "      <td>10</td>\n",
       "      <td>2</td>\n",
       "    </tr>\n",
       "    <tr>\n",
       "      <th>avocado_cubed_raw</th>\n",
       "      <td>6</td>\n",
       "      <td>6</td>\n",
       "      <td>28</td>\n",
       "      <td>36</td>\n",
       "      <td>13</td>\n",
       "      <td>8</td>\n",
       "      <td>15</td>\n",
       "      <td>16</td>\n",
       "      <td>23</td>\n",
       "      <td>0</td>\n",
       "      <td>...</td>\n",
       "      <td>5</td>\n",
       "      <td>10</td>\n",
       "      <td>9</td>\n",
       "      <td>--</td>\n",
       "      <td>11</td>\n",
       "      <td>15</td>\n",
       "      <td>1</td>\n",
       "      <td>1</td>\n",
       "      <td>9</td>\n",
       "      <td>8</td>\n",
       "    </tr>\n",
       "    <tr>\n",
       "      <th>beet_greens_boiled</th>\n",
       "      <td>7</td>\n",
       "      <td>3</td>\n",
       "      <td>0</td>\n",
       "      <td>15</td>\n",
       "      <td>2</td>\n",
       "      <td>14</td>\n",
       "      <td>32</td>\n",
       "      <td>5</td>\n",
       "      <td>11</td>\n",
       "      <td>0</td>\n",
       "      <td>...</td>\n",
       "      <td>15</td>\n",
       "      <td>23</td>\n",
       "      <td>32</td>\n",
       "      <td>--</td>\n",
       "      <td>8</td>\n",
       "      <td>28</td>\n",
       "      <td>2</td>\n",
       "      <td>23</td>\n",
       "      <td>7</td>\n",
       "      <td>0</td>\n",
       "    </tr>\n",
       "  </tbody>\n",
       "</table>\n",
       "<p>3 rows × 34 columns</p>\n",
       "</div>"
      ],
      "text/plain": [
       "                   Protein Carbohydrates Fat - total Dietary Fiber Calories  \\\n",
       "asparagus_cooked         9             3           1            13        2   \n",
       "avocado_cubed_raw        6             6          28            36       13   \n",
       "beet_greens_boiled       7             3           0            15        2   \n",
       "\n",
       "                   Vitamin B1 Vitamin B2 Vitamin B3 Vitamin B6 Vitamin B12  \\\n",
       "asparagus_cooked           24         19         12          8           0   \n",
       "avocado_cubed_raw           8         15         16         23           0   \n",
       "beet_greens_boiled         14         32          5         11           0   \n",
       "\n",
       "                    ... Iron Magnesium Manganese Molybdenum Phosphorus  \\\n",
       "asparagus_cooked    ...    9         6        12         --         14   \n",
       "avocado_cubed_raw   ...    5        10         9         --         11   \n",
       "beet_greens_boiled  ...   15        23        32         --          8   \n",
       "\n",
       "                   Potassium Selenium Sodium Zinc Omega-3 Fatty Acids  \n",
       "asparagus_cooked           9       20      2   10                   2  \n",
       "avocado_cubed_raw         15        1      1    9                   8  \n",
       "beet_greens_boiled        28        2     23    7                   0  \n",
       "\n",
       "[3 rows x 34 columns]"
      ]
     },
     "execution_count": 13,
     "metadata": {},
     "output_type": "execute_result"
    }
   ],
   "source": [
    "drv_df.head()"
   ]
  },
  {
   "cell_type": "markdown",
   "id": "7da42c1a-bade-498c-87b5-0793b91a5779",
   "metadata": {},
   "source": [
    "Reformatting columns for nv_df & drv_df"
   ]
  },
  {
   "cell_type": "code",
   "execution_count": 14,
   "id": "cc798452-d26b-4c54-a183-fb6bee54fbbe",
   "metadata": {},
   "outputs": [],
   "source": [
    "nv_df = format_cols(nv_df)\n",
    "drv_df = format_cols(drv_df)"
   ]
  },
  {
   "cell_type": "markdown",
   "id": "403c14ad-e48a-4224-9ec6-28ca634a961e",
   "metadata": {
    "tags": []
   },
   "source": [
    "###### Formatting"
   ]
  },
  {
   "cell_type": "markdown",
   "id": "f9a482c9-d27c-48d7-bba2-9d90a489a3b4",
   "metadata": {},
   "source": [
    "Replacing '--' with '0.00', assuming that this is correct.  Another interpretation is that -- represents no record, so this may need to be instead replaced with NaN."
   ]
  },
  {
   "cell_type": "code",
   "execution_count": 15,
   "id": "d6a65734-1847-4457-9ccf-e8f4be3469af",
   "metadata": {
    "tags": []
   },
   "outputs": [],
   "source": [
    "for col in nv_df.columns:\n",
    "    nv_df[col] = nv_df[col].str.replace('--','0.00')\n",
    "nv_df = remove_columns_with_same_value(nv_df)"
   ]
  },
  {
   "cell_type": "markdown",
   "id": "5e276d11-4b30-4b8e-b25c-8cec3477e507",
   "metadata": {
    "tags": []
   },
   "source": [
    "###### Strip units, create {nutrient: unit} dictionary"
   ]
  },
  {
   "cell_type": "markdown",
   "id": "5d0c1cee-5ec6-4cf6-bae5-bafbdf489d9f",
   "metadata": {},
   "source": [
    "The whfoods data contain the following units:\\\n",
    "mg (ATE), mcg (RE), mcg (RAE), IU, g, mg, mcg"
   ]
  },
  {
   "cell_type": "code",
   "execution_count": 16,
   "id": "6c374baf-5c9a-4f68-9206-ae92b2f39942",
   "metadata": {},
   "outputs": [],
   "source": [
    "# Generate a dictionary of units for the different info types (serving_size, \n",
    "# calories, etc.)\n",
    "units_dict = {}\n",
    "units_pattern = re.compile(r\"[mcgiu\\)\\(]+\",re.I) # generate pattern object\n",
    "for r in range(1,len(nv_df.columns)):  # for each of the nutrient labels\n",
    "    s = nv_df.iat[0,r] # get nutrient value\n",
    "    m = units_pattern.search(s) # check pattern object against nutrient value, \n",
    "                        # generating match object\n",
    "    try:\n",
    "        units_dict[nv_df.columns[r]] = m.group()\n",
    "    except:\n",
    "        i=0\n",
    "        while not m:\n",
    "            # loop through until we have a unit or decide there are no units\n",
    "            i = i+1 # go to next value\n",
    "            s = nv_df.iat[i,r] # store value\n",
    "            m = units_pattern.search(s) # search value against the pattern\n",
    "            try: # store match if there is one\n",
    "                units[nv_df.columns[r]] = m.group() \n",
    "            except: \n",
    "                if i==nv_df.shape[0]-1: # if no units found by end, None units\n",
    "                    m = \"None\"\n",
    "                    units_dict[nv_df.columns[r]] = m"
   ]
  },
  {
   "cell_type": "code",
   "execution_count": 17,
   "id": "8e82c8de-1f65-4b73-adbd-36f98e0bf7d1",
   "metadata": {},
   "outputs": [],
   "source": [
    "# convert drv from str to int\n",
    "for nutrient in drv_df.columns.values[[0,1]]:\n",
    "    try: drv_df[[nutrient]] = drv_df[[nutrient]].astype(\"int\")\n",
    "    except: pass"
   ]
  },
  {
   "cell_type": "code",
   "execution_count": 18,
   "id": "cb6cb59f-5e67-4fad-bcfa-404c84c71f0d",
   "metadata": {},
   "outputs": [],
   "source": [
    "float_pattern = r'^\\d+\\.\\d+'\n",
    "for col in nv_df.columns:\n",
    "    nv_df[col] = nv_df[col].apply(lambda x: float_match(float_pattern, x))"
   ]
  },
  {
   "cell_type": "code",
   "execution_count": 19,
   "id": "9b28ae5a-45dc-41c4-b942-5abc03ccda96",
   "metadata": {},
   "outputs": [],
   "source": [
    "nv_df = remove_columns_with_same_value(nv_df)\n",
    "drv_df = remove_columns_with_same_value(drv_df)"
   ]
  },
  {
   "cell_type": "markdown",
   "id": "a156eeb0-f288-486c-a81d-43edd2e0f95e",
   "metadata": {
    "tags": []
   },
   "source": [
    "##### Removing duplicate nutrient columns"
   ]
  },
  {
   "cell_type": "markdown",
   "id": "65f56d1f-c311-4a61-927c-dbe81a4efc7a",
   "metadata": {},
   "source": [
    "The columns that need investigating are: \n",
    "* 'Folate', 'Folate (DFE)', and 'Folate (food)' - same for almost all foods.  Keeping 'Folate (DFE)'\n",
    "* 'Vitamin B3', 'Vitamin B3 (Niacin Equivalents)'\n",
    "*  'Vitamin A International Units (IU)',\n",
    "       'Vitamin A mcg Retinol Activity Equivalents (RAE)',\n",
    "       'Vitamin A mcg Retinol Equivalents (RE)',\n",
    "       'Retinol mcg Retinol Equivalents (RE)',\n",
    "       'Carotenoid mcg Retinol Equivalents (RE)', 'Alpha-Carotene'\n",
    "* 'Vitamin E mg Alpha-Tocopherol Equivalents (ATE)',\n",
    "       'Vitamin E International Units (IU)', 'Vitamin E mg',"
   ]
  },
  {
   "cell_type": "code",
   "execution_count": 20,
   "id": "ed7b7a39-647b-46cd-84d6-cbf796da2199",
   "metadata": {},
   "outputs": [],
   "source": [
    "dup_cols_nv = find_duplicate_columns(nv_df)\n",
    "dup_cols_drv = find_duplicate_columns(drv_df)"
   ]
  },
  {
   "cell_type": "code",
   "execution_count": 21,
   "id": "990b9336-8f70-4521-89ed-22c5b6c15049",
   "metadata": {},
   "outputs": [
    {
     "data": {
      "text/plain": [
       "['folate',\n",
       " 'folate_food',\n",
       " 'vitamin_e_mg_alpha_tocopherol_equivalents_ate',\n",
       " 'vitamin_e_mg',\n",
       " 'acetic_acid',\n",
       " 'sugar_alcohols_total',\n",
       " 'xylitol']"
      ]
     },
     "execution_count": 21,
     "metadata": {},
     "output_type": "execute_result"
    }
   ],
   "source": [
    "dup_cols_nv"
   ]
  },
  {
   "cell_type": "markdown",
   "id": "48ff3410-abcd-4fc6-92a9-031ddf3fcd33",
   "metadata": {},
   "source": [
    "I'll drop ['vitamin_e_mg',\n",
    " 'acetic_acid',\n",
    " 'sugar_alcohols_total',\n",
    " 'xylitol'] from nv_df since the first of these is a duplicate and the others have no informative values."
   ]
  },
  {
   "cell_type": "code",
   "execution_count": 22,
   "id": "6c05928b-158f-4e20-a2af-4384077503a1",
   "metadata": {
    "tags": []
   },
   "outputs": [],
   "source": [
    "nv_df = nv_df.drop(['folate_food', 'vitamin_e_mg', 'acetic_acid', \n",
    "                    'sugar_alcohols_total', 'xylitol'],axis=1)"
   ]
  },
  {
   "cell_type": "code",
   "execution_count": 23,
   "id": "61fc0bcb-331e-4cef-8a45-484a19229b0d",
   "metadata": {},
   "outputs": [
    {
     "data": {
      "text/plain": [
       "(117, 124)"
      ]
     },
     "execution_count": 23,
     "metadata": {},
     "output_type": "execute_result"
    }
   ],
   "source": [
    "nv_df.shape # there are now 125 nutrients in nv_df"
   ]
  },
  {
   "cell_type": "markdown",
   "id": "46ae9b02-53f6-45bb-848c-33a3de154fef",
   "metadata": {},
   "source": [
    "###### Vitamin D"
   ]
  },
  {
   "cell_type": "code",
   "execution_count": 24,
   "id": "7bdf5979-47b7-47a3-b47e-991de0073f55",
   "metadata": {},
   "outputs": [
    {
     "data": {
      "text/plain": [
       "mushrooms_crimini_raw                       30.857143\n",
       "mushrooms_shiitake_cooked                   39.803922\n",
       "chicken_pasture_raised_breast_roasted       51.545455\n",
       "lamb_grass_fed_lean_loin_roasted            20.636364\n",
       "turkey_pasture_raised_light_meat_roasted    33.352941\n",
       "cheese_grass_fed_cheddar_whole_milk         40.000000\n",
       "cow's_milk_grass_fed                        39.132075\n",
       "eggs_pasture_raised_large_hard_boiled       39.545455\n",
       "yogurt_grass_fed_whole_milk                 19.600000\n",
       "cod_pacific_fillet_baked                    40.029412\n",
       "salmon_wild_coho_broiled                    39.924278\n",
       "sardines_atlantic_canned                    40.250575\n",
       "scallops_steamed                                  inf\n",
       "shrimp_large_steamed                        41.272727\n",
       "tuna_yellowfin_fillet_baked                 40.964758\n",
       "Name: vitamin_d_mcg, dtype: float64"
      ]
     },
     "execution_count": 24,
     "metadata": {},
     "output_type": "execute_result"
    }
   ],
   "source": [
    "nv_df[~(nv_df.filter(regex='vitamin_d', axis=1) == 0).all(axis=1)].filter(\n",
    "    regex='vitamin_d',axis=1)['vitamin_d_international_units_iu'].values/\\\n",
    "nv_df[~(nv_df.filter(regex='vitamin_d', axis=1) == 0).all(axis=1)].filter(\n",
    "    regex='vitamin_d',axis=1)['vitamin_d_mcg']"
   ]
  },
  {
   "cell_type": "markdown",
   "id": "c76cf116-2b82-476f-8e3e-f6a761c310a8",
   "metadata": {
    "tags": []
   },
   "source": [
    "###### Folate"
   ]
  },
  {
   "cell_type": "code",
   "execution_count": 25,
   "id": "5b93edda-d7d0-49f1-8103-01d77ef69a36",
   "metadata": {},
   "outputs": [],
   "source": [
    "folate_cols = [col for col in nv_df.columns if 'folate' in col]\n",
    "\n",
    "# drop ['Folate', 'Folate (food)'] columns and keep the descriptive \n",
    "# 'Folate (DFE)' but rename it to the more concise 'folate'\n",
    "\n",
    "nv_df = nv_df.drop(columns = ['folate'])\n",
    "nv_df.rename({'folate_dfe':'folate'},axis=1,inplace=True)"
   ]
  },
  {
   "cell_type": "markdown",
   "id": "ad718c57-2e38-43fc-925e-37f24f5489f5",
   "metadata": {
    "tags": []
   },
   "source": [
    "###### Vitamin E"
   ]
  },
  {
   "cell_type": "code",
   "execution_count": 26,
   "id": "645363c7-c599-4c66-8a59-932bcaecd10f",
   "metadata": {
    "scrolled": true
   },
   "outputs": [],
   "source": [
    "ve_cols = [col for col in nv_df.columns if 'vitamin_e' in col]\n",
    "# I'll get rid of vitamin_e_international_units_iu and keep only the more modern alpha tocopherol equivalent and simplify the name to vitamin_e.\n",
    "nv_df = nv_df.drop(columns=['vitamin_e_international_units_iu']).rename(\n",
    "    {'vitamin_e_mg_alpha_tocopherol_equivalents_ate':'vitamin_e'},axis=1)"
   ]
  },
  {
   "cell_type": "markdown",
   "id": "6a92cb51-98e9-481f-8442-fffa1c15c121",
   "metadata": {
    "tags": []
   },
   "source": [
    "###### Vitamin A"
   ]
  },
  {
   "cell_type": "code",
   "execution_count": 27,
   "id": "ec89751d-63ce-44c4-b908-1bcece550de3",
   "metadata": {},
   "outputs": [],
   "source": [
    "va_cols =  nv_df.filter(regex='vitamin_a|carotenoid|retinol').columns\n",
    "va_df = nv_df[nv_df[va_cols].\\\n",
    "                 apply(lambda x: x.nunique() != 1,axis = 1).values][\n",
    "            va_cols]"
   ]
  },
  {
   "cell_type": "markdown",
   "id": "b917ef3d-33b5-471f-af94-53e07d883b02",
   "metadata": {
    "tags": []
   },
   "source": [
    "To compare, I'll extract the floating point numbers from the data."
   ]
  },
  {
   "cell_type": "code",
   "execution_count": 28,
   "id": "927f21f2-84d5-499b-893b-90da283bc1db",
   "metadata": {},
   "outputs": [
    {
     "data": {
      "text/html": [
       "<div>\n",
       "<style scoped>\n",
       "    .dataframe tbody tr th:only-of-type {\n",
       "        vertical-align: middle;\n",
       "    }\n",
       "\n",
       "    .dataframe tbody tr th {\n",
       "        vertical-align: top;\n",
       "    }\n",
       "\n",
       "    .dataframe thead th {\n",
       "        text-align: right;\n",
       "    }\n",
       "</style>\n",
       "<table border=\"1\" class=\"dataframe\">\n",
       "  <thead>\n",
       "    <tr style=\"text-align: right;\">\n",
       "      <th></th>\n",
       "      <th>vitamin_a_mcg_retinol_equivalents_re</th>\n",
       "      <th>carotenoid_mcg_retinol_equivalents_re</th>\n",
       "    </tr>\n",
       "  </thead>\n",
       "  <tbody>\n",
       "    <tr>\n",
       "      <th>chicken_pasture_raised_breast_roasted</th>\n",
       "      <td>0.0</td>\n",
       "      <td>6.80</td>\n",
       "    </tr>\n",
       "    <tr>\n",
       "      <th>lamb_grass_fed_lean_loin_roasted</th>\n",
       "      <td>0.0</td>\n",
       "      <td>34.23</td>\n",
       "    </tr>\n",
       "    <tr>\n",
       "      <th>turkey_pasture_raised_light_meat_roasted</th>\n",
       "      <td>3.4</td>\n",
       "      <td>0.00</td>\n",
       "    </tr>\n",
       "  </tbody>\n",
       "</table>\n",
       "</div>"
      ],
      "text/plain": [
       "                                          vitamin_a_mcg_retinol_equivalents_re  \\\n",
       "chicken_pasture_raised_breast_roasted                                      0.0   \n",
       "lamb_grass_fed_lean_loin_roasted                                           0.0   \n",
       "turkey_pasture_raised_light_meat_roasted                                   3.4   \n",
       "\n",
       "                                          carotenoid_mcg_retinol_equivalents_re  \n",
       "chicken_pasture_raised_breast_roasted                                      6.80  \n",
       "lamb_grass_fed_lean_loin_roasted                                          34.23  \n",
       "turkey_pasture_raised_light_meat_roasted                                   0.00  "
      ]
     },
     "execution_count": 28,
     "metadata": {},
     "output_type": "execute_result"
    }
   ],
   "source": [
    "sum(va_df[va_cols[2]] == va_df[va_cols[4]])\n",
    "# 104 foods are the same for 'Vitamin A mcg Retinol Equivalents (RE)' and 'Carotenoid mcg Retinol Equivalents (RE)'\n",
    "(va_df[va_df[va_cols[2]] != va_df[va_cols[4]]][[va_cols[2],va_cols[4]]]).head()"
   ]
  },
  {
   "cell_type": "markdown",
   "id": "fd7ee475-9fdd-43b7-b5ac-8cc53fbb0ca6",
   "metadata": {},
   "source": [
    "No two columns are the same, so for now I'll keep all columns that pertain to Vitamin A"
   ]
  },
  {
   "cell_type": "markdown",
   "id": "dae01706-e01a-4201-93a5-efad55f76234",
   "metadata": {
    "tags": []
   },
   "source": [
    "Background:\n",
    "\n",
    "Retinol Equivalents or RE is used by the World Health Organization and Food and Agriculture Organization while Retinol Activity Equivalents or RAE is used by the FDA.  They are based on different conversion rates of carotenoids into vitamin A while having the same conversion for the animal based retinol, with the RE being more optimistic for conversion rates while also corresponding to a lower recommended minimum intake for mcg RE than the FDA's recommendation for mcg RAE.  \\\n",
    "\\\n",
    "Provitamin A, or Carotenoids, are found only in plants while preformed vitamin A or retinol is found only in animals.  Carotenoids are not toxic at high doses while retinol is.\\\n",
    "\\\n",
    "Constraining the vitamin A contributed by animal products while counting plant sources of carotenoid precursors (Beta- Carotene and Cryptoxanthin) to vitamin A towards minimum requirements looks like a promising potential solution.  "
   ]
  },
  {
   "cell_type": "code",
   "execution_count": 29,
   "id": "e0e0f846-0ee4-4682-89a0-e338bfdc2eee",
   "metadata": {},
   "outputs": [],
   "source": [
    "carotenoid_cols = nv_df.filter(regex='carotene|cryptoxanthin').columns.values\n",
    "va_df[carotenoid_cols] = nv_df[carotenoid_cols]"
   ]
  },
  {
   "cell_type": "markdown",
   "id": "d2e0b8ce-c823-44c1-b7a0-c1612f63f5f8",
   "metadata": {},
   "source": [
    "To avoid deleting useful information, I'll simply create a new column 'vitamin_a' which will be a duplicate of 'vitamin_a_mcg_retinol_activity_equivalents_rae' since this is the new FDA standard."
   ]
  },
  {
   "cell_type": "code",
   "execution_count": 30,
   "id": "0b4712ab-6994-40c1-9e46-d4398805ae55",
   "metadata": {
    "tags": []
   },
   "outputs": [],
   "source": [
    "nv_df['vitamin_a'] = nv_df['vitamin_a_mcg_retinol_activity_equivalents_rae']"
   ]
  },
  {
   "cell_type": "markdown",
   "id": "3afb5714-daba-4d6d-8acc-508b6d7c587a",
   "metadata": {
    "tags": []
   },
   "source": [
    "###### Vitamin B3"
   ]
  },
  {
   "cell_type": "code",
   "execution_count": 31,
   "id": "57a8a0a2-6f13-4e14-ac1d-517dc115d91f",
   "metadata": {},
   "outputs": [],
   "source": [
    "vb3_cols = nv_df.filter(regex='vitamin_b3').columns.values"
   ]
  },
  {
   "cell_type": "code",
   "execution_count": 32,
   "id": "dfb6c95e-e0a0-40d4-8a2c-b2d56431dcc9",
   "metadata": {},
   "outputs": [],
   "source": [
    "unique_rows = nv_df[nv_df[vb3_cols].\\\n",
    "                 apply(lambda x: x.nunique() != 1,axis = 1).values][vb3_cols]"
   ]
  },
  {
   "cell_type": "markdown",
   "id": "c551d898-5fce-44fd-ae7d-b474818a8758",
   "metadata": {},
   "source": [
    "Vitamin_b3 and vitamin_b3_niacin_equivalents are largely different.  60 mg tryptophan contributes 1 mg of niacin according to [Niacin - Harvard Health](https://www.hsph.harvard.edu/nutritionsource/niacin-vitamin-b3/#:~:text=RDA%3A%20Niacin%20is%20measured%20in,mg%20NE%20for%20lactating%20women.)    "
   ]
  },
  {
   "cell_type": "code",
   "execution_count": 33,
   "id": "0c7f9e62-d634-45aa-bf39-e9745d156bef",
   "metadata": {},
   "outputs": [],
   "source": [
    "nv_df.rename(columns = {'vitamin_b3_niacin_equivalents':'niacin'}, \n",
    "             inplace = True)"
   ]
  },
  {
   "cell_type": "markdown",
   "id": "05a09a51-daae-4b27-8044-2555814172f8",
   "metadata": {
    "tags": []
   },
   "source": [
    "###### Export nv_df and drv_df to csv"
   ]
  },
  {
   "cell_type": "code",
   "execution_count": 34,
   "id": "4bf875e2-a1ca-48d5-bf24-e98a7c92eaf6",
   "metadata": {},
   "outputs": [],
   "source": [
    "nv_df.to_csv('../01_Data/whfoods_nv.csv')\n",
    "drv_df.to_csv('../01_Data/whfoods_drv.csv')"
   ]
  },
  {
   "cell_type": "markdown",
   "id": "e7569e91-cf57-46a6-9dbc-58ae93205c38",
   "metadata": {},
   "source": [
    "Note: can relate nv_df to drv_df for deriving drv in mass units"
   ]
  },
  {
   "cell_type": "markdown",
   "id": "456f56f2-64ee-4c2a-9f46-ac5967a0bc3d",
   "metadata": {
    "tags": []
   },
   "source": [
    "### Constraints"
   ]
  },
  {
   "cell_type": "markdown",
   "id": "2d32834a-04ba-422b-b059-f1fbe1a27300",
   "metadata": {},
   "source": [
    "###### Merge constraints"
   ]
  },
  {
   "cell_type": "code",
   "execution_count": 35,
   "id": "70a7ae94-a407-4025-a9ba-91058960773a",
   "metadata": {},
   "outputs": [],
   "source": [
    "constraints = pd.read_csv('../01_Data/constraints.csv')\n",
    "aa_constraints = pd.read_csv('../01_Data/AminoAcids.csv')"
   ]
  },
  {
   "cell_type": "code",
   "execution_count": 36,
   "id": "101f647e-cebb-4c55-9279-5fddf9455c69",
   "metadata": {},
   "outputs": [
    {
     "data": {
      "text/plain": [
       "(Index(['nutrient', 'Min', 'Max', 'notes:'], dtype='object'),\n",
       " Index(['AminoAcid', 'Min'], dtype='object'))"
      ]
     },
     "execution_count": 36,
     "metadata": {},
     "output_type": "execute_result"
    }
   ],
   "source": [
    "constraints.columns, aa_constraints.columns"
   ]
  },
  {
   "cell_type": "code",
   "execution_count": 37,
   "id": "65cf84dd-1a83-4fbf-be28-ad6f2013ae6d",
   "metadata": {
    "tags": []
   },
   "outputs": [],
   "source": [
    "# format, make compatible, and merge amino acid constraints with the rest.\n",
    "constraints.rename(columns = lambda x: x.lower(), inplace = True)\n",
    "aa_constraints.rename(columns = lambda x: x.lower(), inplace = True)\n",
    "constraints.set_index('nutrient',inplace=True)\n",
    "constraints.drop(columns = ['notes:'],inplace = True)\n",
    "constraints.dropna(how = 'all', inplace = True)\n",
    "aa_constraints.rename(columns = {'aminoacid':'nutrient'}, inplace = True)\n",
    "aa_constraints.set_index('nutrient', inplace = True)\n",
    "aa_constraints.index.name = None\n",
    "all_constraints = pd.concat([constraints,aa_constraints],axis = 0)"
   ]
  },
  {
   "cell_type": "code",
   "execution_count": 38,
   "id": "8ae0e8c8-7f62-45d3-a7a6-df3ac708298d",
   "metadata": {},
   "outputs": [
    {
     "data": {
      "text/plain": [
       "array(['total_fat', 'riboflavin', 'thiamin', 'vitamin_a_rae', 'vitamin_d',\n",
       "       'irom', 'phosphorous', 'zink', 'carbohydrate', 'fiber', 'fat',\n",
       "       'saturated_fatty_acids', 'cystine + methionine',\n",
       "       'phenylalanine + tyrosine'], dtype=object)"
      ]
     },
     "execution_count": 38,
     "metadata": {},
     "output_type": "execute_result"
    }
   ],
   "source": [
    "# Credit: Chat-gpt\n",
    "all_constraints.index.values[[bool(val) for val in 1- np.array(\n",
    "    find_exact_matches(all_constraints.index.values, nv_df.columns.values))]]"
   ]
  },
  {
   "cell_type": "markdown",
   "id": "84593e3b-1352-4406-a13e-179ad7004c3f",
   "metadata": {},
   "source": [
    "###### Make constraints and nutrients compatible"
   ]
  },
  {
   "cell_type": "code",
   "execution_count": 39,
   "id": "d4ef8169-68d5-46ae-a634-55bccfd7d2e5",
   "metadata": {},
   "outputs": [],
   "source": [
    "nv_df['phenylalanine_tyrosine'] = nv_df['phenylalanine'] + nv_df['tyrosine']\n",
    "nv_df['cysteine_methionine'] = nv_df['cysteine'] + nv_df['methionine']\n",
    "constraints.loc['soluble_fiber'] = {'min':'6 g', 'max': np.nan}\n",
    "nv_df.rename({'dietary_fiber':'fiber'}, axis=1, inplace=True)\n",
    "all_constraints.rename({'zink':'zinc', 'total_fat':'fat_total',}, \n",
    "                       axis=0, inplace=True)"
   ]
  },
  {
   "cell_type": "code",
   "execution_count": 40,
   "id": "75e8f0f6-8ed3-4177-9031-1283b36b3b57",
   "metadata": {
    "tags": []
   },
   "outputs": [],
   "source": [
    "all_constraints.rename(index={\n",
    "    'total_fat': 'fat_total',\n",
    "    'riboflavin':'vitamin_b2',\n",
    "    'thiamin':'vitamin_b1',\n",
    "    'vitamin_d':'vitamin_d_mcg',\n",
    "    'vitamin_e':'vitamin_e_mg_alpha_tocopherol_equivalents_ate',\n",
    "    'irom':'iron',\n",
    "    'phosphorous':'phosphorus',\n",
    "    'carbohydrate':'carbohydrates',\n",
    "    'fat':'fat_total',\n",
    "    'saturated_fatty_acids':'saturated_fat',\n",
    "    'cystine + methionine':'cysteine_methionine',\n",
    "    'phenylalanine + tyrosine':'phenylalanine_tyrosine',\n",
    "    'zink':'zinc'\n",
    "}, inplace=True)\n",
    "all_constraints.drop(index=['vitamin_a_rae', \n",
    "        'vitamin_e_mg_alpha_tocopherol_equivalents_ate'], inplace = True)\n",
    "constraints = all_constraints.copy()"
   ]
  },
  {
   "cell_type": "code",
   "execution_count": 41,
   "id": "44ff1250-0624-49ae-9a99-0729b0ee6423",
   "metadata": {},
   "outputs": [],
   "source": [
    "constraints_units_dict = {}\n",
    "\n",
    "units_dict = \\\n",
    "{idx:getUnit((constraints.loc[idx,'min'], constraints.loc[idx,'max'])) \n",
    " for idx in constraints.index}\n",
    "constraints['min'] = [getNumber(val) for val in constraints['min'].values]\n",
    "constraints['max'] = [getNumber(val) for val in constraints['max'].values]"
   ]
  },
  {
   "cell_type": "markdown",
   "id": "6b6ba50b-3f13-4857-82f4-5cbfc8c22c71",
   "metadata": {},
   "source": [
    "Unit Conversions: getting constraints to have same unit as foods."
   ]
  },
  {
   "cell_type": "code",
   "execution_count": 42,
   "id": "c4031a8c-7756-4757-830d-8b410c024a42",
   "metadata": {},
   "outputs": [],
   "source": [
    "constraints = constraints.drop_duplicates()\n",
    "\n",
    "# some constraints need to be converted from mcg to mg (copper) \n",
    "# or from mg to g (amino acids) while others (potassium) need to be converted \n",
    "# from g to mg \n",
    "amino_acids = ['phenylalanine_tyrosine', 'leucine', 'valine', 'threonine', \n",
    "    'histidine', 'lysine','cysteine_methionine', 'methionine']\n",
    "convert_up = amino_acids\n",
    "convert_up.append('copper')\n",
    "convert_down = ['potassium']\n",
    "\n",
    "constraints.loc[convert_up, ['min','max']] /= 1000\n",
    "constraints.loc[convert_down, ['min','max']] *= 1000\n",
    "\n",
    "units_updates = dict(zip(amino_acids,['g/kg/d']*len(amino_acids)))\n",
    "units_updates.update({'copper':'mg','potassium':'mg'})\n",
    "units_dict.update(units_updates)\n",
    "\n",
    "nv_df_cnstr = nv_df[constraints.index.values]\n",
    "\n",
    "nv_df_cnstr.to_csv('../02_Data_formatted/nv_df.csv')\n",
    "constraints.to_csv('../02_Data_formatted/constraints.csv')\n",
    "pd.DataFrame.from_dict(units_dict, orient='index', columns=['Units']).to_csv(\n",
    "    '../02_Data_formatted/nutrient_units.csv')"
   ]
  },
  {
   "cell_type": "code",
   "execution_count": 43,
   "id": "9a01f1fe-cd56-4ab9-a8fc-ec9ed666190d",
   "metadata": {},
   "outputs": [
    {
     "data": {
      "text/html": [
       "<div>\n",
       "<style scoped>\n",
       "    .dataframe tbody tr th:only-of-type {\n",
       "        vertical-align: middle;\n",
       "    }\n",
       "\n",
       "    .dataframe tbody tr th {\n",
       "        vertical-align: top;\n",
       "    }\n",
       "\n",
       "    .dataframe thead th {\n",
       "        text-align: right;\n",
       "    }\n",
       "</style>\n",
       "<table border=\"1\" class=\"dataframe\">\n",
       "  <thead>\n",
       "    <tr style=\"text-align: right;\">\n",
       "      <th></th>\n",
       "      <th>min</th>\n",
       "      <th>max</th>\n",
       "    </tr>\n",
       "  </thead>\n",
       "  <tbody>\n",
       "    <tr>\n",
       "      <th>calories</th>\n",
       "      <td>2000.000</td>\n",
       "      <td>2000.0</td>\n",
       "    </tr>\n",
       "    <tr>\n",
       "      <th>protein</th>\n",
       "      <td>56.000</td>\n",
       "      <td>160.0</td>\n",
       "    </tr>\n",
       "    <tr>\n",
       "      <th>fat_total</th>\n",
       "      <td>22.200</td>\n",
       "      <td>78.0</td>\n",
       "    </tr>\n",
       "    <tr>\n",
       "      <th>saturated_fat</th>\n",
       "      <td>0.000</td>\n",
       "      <td>12.0</td>\n",
       "    </tr>\n",
       "    <tr>\n",
       "      <th>cholesterol</th>\n",
       "      <td>0.000</td>\n",
       "      <td>NaN</td>\n",
       "    </tr>\n",
       "    <tr>\n",
       "      <th>sodium</th>\n",
       "      <td>1500.000</td>\n",
       "      <td>2300.0</td>\n",
       "    </tr>\n",
       "    <tr>\n",
       "      <th>choline</th>\n",
       "      <td>550.000</td>\n",
       "      <td>3500.0</td>\n",
       "    </tr>\n",
       "    <tr>\n",
       "      <th>folate</th>\n",
       "      <td>400.000</td>\n",
       "      <td>1000.0</td>\n",
       "    </tr>\n",
       "    <tr>\n",
       "      <th>niacin</th>\n",
       "      <td>16.000</td>\n",
       "      <td>35.0</td>\n",
       "    </tr>\n",
       "    <tr>\n",
       "      <th>pantothenic_acid</th>\n",
       "      <td>5.000</td>\n",
       "      <td>NaN</td>\n",
       "    </tr>\n",
       "    <tr>\n",
       "      <th>vitamin_b2</th>\n",
       "      <td>1.100</td>\n",
       "      <td>NaN</td>\n",
       "    </tr>\n",
       "    <tr>\n",
       "      <th>vitamin_b1</th>\n",
       "      <td>1.200</td>\n",
       "      <td>NaN</td>\n",
       "    </tr>\n",
       "    <tr>\n",
       "      <th>vitamin_a</th>\n",
       "      <td>900.000</td>\n",
       "      <td>3000.0</td>\n",
       "    </tr>\n",
       "    <tr>\n",
       "      <th>vitamin_b12</th>\n",
       "      <td>2.400</td>\n",
       "      <td>NaN</td>\n",
       "    </tr>\n",
       "    <tr>\n",
       "      <th>vitamin_b6</th>\n",
       "      <td>1.300</td>\n",
       "      <td>100.0</td>\n",
       "    </tr>\n",
       "    <tr>\n",
       "      <th>vitamin_c</th>\n",
       "      <td>90.000</td>\n",
       "      <td>NaN</td>\n",
       "    </tr>\n",
       "    <tr>\n",
       "      <th>vitamin_d_mcg</th>\n",
       "      <td>5.000</td>\n",
       "      <td>50.0</td>\n",
       "    </tr>\n",
       "    <tr>\n",
       "      <th>vitamin_k</th>\n",
       "      <td>120.000</td>\n",
       "      <td>NaN</td>\n",
       "    </tr>\n",
       "    <tr>\n",
       "      <th>calcium</th>\n",
       "      <td>1000.000</td>\n",
       "      <td>2500.0</td>\n",
       "    </tr>\n",
       "    <tr>\n",
       "      <th>copper</th>\n",
       "      <td>0.900</td>\n",
       "      <td>10.0</td>\n",
       "    </tr>\n",
       "    <tr>\n",
       "      <th>iron</th>\n",
       "      <td>8.000</td>\n",
       "      <td>40.0</td>\n",
       "    </tr>\n",
       "    <tr>\n",
       "      <th>magnesium</th>\n",
       "      <td>320.000</td>\n",
       "      <td>NaN</td>\n",
       "    </tr>\n",
       "    <tr>\n",
       "      <th>manganese</th>\n",
       "      <td>2.300</td>\n",
       "      <td>11.0</td>\n",
       "    </tr>\n",
       "    <tr>\n",
       "      <th>phosphorus</th>\n",
       "      <td>700.000</td>\n",
       "      <td>4000.0</td>\n",
       "    </tr>\n",
       "    <tr>\n",
       "      <th>potassium</th>\n",
       "      <td>4700.000</td>\n",
       "      <td>NaN</td>\n",
       "    </tr>\n",
       "    <tr>\n",
       "      <th>selenium</th>\n",
       "      <td>55.000</td>\n",
       "      <td>400.0</td>\n",
       "    </tr>\n",
       "    <tr>\n",
       "      <th>zinc</th>\n",
       "      <td>11.000</td>\n",
       "      <td>40.0</td>\n",
       "    </tr>\n",
       "    <tr>\n",
       "      <th>carbohydrates</th>\n",
       "      <td>225.000</td>\n",
       "      <td>400.0</td>\n",
       "    </tr>\n",
       "    <tr>\n",
       "      <th>fiber</th>\n",
       "      <td>28.000</td>\n",
       "      <td>NaN</td>\n",
       "    </tr>\n",
       "    <tr>\n",
       "      <th>molybdenum</th>\n",
       "      <td>34.000</td>\n",
       "      <td>2000.0</td>\n",
       "    </tr>\n",
       "    <tr>\n",
       "      <th>chloride</th>\n",
       "      <td>2.300</td>\n",
       "      <td>3.6</td>\n",
       "    </tr>\n",
       "    <tr>\n",
       "      <th>biotin</th>\n",
       "      <td>30.000</td>\n",
       "      <td>NaN</td>\n",
       "    </tr>\n",
       "    <tr>\n",
       "      <th>chromium</th>\n",
       "      <td>35.000</td>\n",
       "      <td>NaN</td>\n",
       "    </tr>\n",
       "    <tr>\n",
       "      <th>cysteine_methionine</th>\n",
       "      <td>0.019</td>\n",
       "      <td>NaN</td>\n",
       "    </tr>\n",
       "    <tr>\n",
       "      <th>histidine</th>\n",
       "      <td>0.014</td>\n",
       "      <td>NaN</td>\n",
       "    </tr>\n",
       "    <tr>\n",
       "      <th>leucine</th>\n",
       "      <td>0.042</td>\n",
       "      <td>NaN</td>\n",
       "    </tr>\n",
       "    <tr>\n",
       "      <th>lysine</th>\n",
       "      <td>0.038</td>\n",
       "      <td>NaN</td>\n",
       "    </tr>\n",
       "    <tr>\n",
       "      <th>methionine</th>\n",
       "      <td>0.013</td>\n",
       "      <td>NaN</td>\n",
       "    </tr>\n",
       "    <tr>\n",
       "      <th>phenylalanine_tyrosine</th>\n",
       "      <td>0.033</td>\n",
       "      <td>NaN</td>\n",
       "    </tr>\n",
       "    <tr>\n",
       "      <th>threonine</th>\n",
       "      <td>0.020</td>\n",
       "      <td>NaN</td>\n",
       "    </tr>\n",
       "    <tr>\n",
       "      <th>valine</th>\n",
       "      <td>0.024</td>\n",
       "      <td>NaN</td>\n",
       "    </tr>\n",
       "  </tbody>\n",
       "</table>\n",
       "</div>"
      ],
      "text/plain": [
       "                             min     max\n",
       "calories                2000.000  2000.0\n",
       "protein                   56.000   160.0\n",
       "fat_total                 22.200    78.0\n",
       "saturated_fat              0.000    12.0\n",
       "cholesterol                0.000     NaN\n",
       "sodium                  1500.000  2300.0\n",
       "choline                  550.000  3500.0\n",
       "folate                   400.000  1000.0\n",
       "niacin                    16.000    35.0\n",
       "pantothenic_acid           5.000     NaN\n",
       "vitamin_b2                 1.100     NaN\n",
       "vitamin_b1                 1.200     NaN\n",
       "vitamin_a                900.000  3000.0\n",
       "vitamin_b12                2.400     NaN\n",
       "vitamin_b6                 1.300   100.0\n",
       "vitamin_c                 90.000     NaN\n",
       "vitamin_d_mcg              5.000    50.0\n",
       "vitamin_k                120.000     NaN\n",
       "calcium                 1000.000  2500.0\n",
       "copper                     0.900    10.0\n",
       "iron                       8.000    40.0\n",
       "magnesium                320.000     NaN\n",
       "manganese                  2.300    11.0\n",
       "phosphorus               700.000  4000.0\n",
       "potassium               4700.000     NaN\n",
       "selenium                  55.000   400.0\n",
       "zinc                      11.000    40.0\n",
       "carbohydrates            225.000   400.0\n",
       "fiber                     28.000     NaN\n",
       "molybdenum                34.000  2000.0\n",
       "chloride                   2.300     3.6\n",
       "biotin                    30.000     NaN\n",
       "chromium                  35.000     NaN\n",
       "cysteine_methionine        0.019     NaN\n",
       "histidine                  0.014     NaN\n",
       "leucine                    0.042     NaN\n",
       "lysine                     0.038     NaN\n",
       "methionine                 0.013     NaN\n",
       "phenylalanine_tyrosine     0.033     NaN\n",
       "threonine                  0.020     NaN\n",
       "valine                     0.024     NaN"
      ]
     },
     "execution_count": 43,
     "metadata": {},
     "output_type": "execute_result"
    }
   ],
   "source": [
    "constraints"
   ]
  },
  {
   "cell_type": "code",
   "execution_count": null,
   "id": "f2d56a18-266e-4ec3-9dab-abf8ecb45322",
   "metadata": {
    "tags": []
   },
   "outputs": [],
   "source": [
    "f_i = infeasibilitySearch(foods,constraints)\n",
    "i_c = f_i[1]\n",
    "feasible = f_i[0]\n",
    "f_c = constraints.iloc[feasible]\n",
    "model = formulateMP(foods,f_c)\n",
    "plp.listSolvers(onlyAvailable=True)\n",
    "model.solve(solver=PULP_CBC_CMD(msg=False))"
   ]
  }
 ],
 "metadata": {
  "kernelspec": {
   "display_name": "Python 3 (ipykernel)",
   "language": "python",
   "name": "python3"
  },
  "language_info": {
   "codemirror_mode": {
    "name": "ipython",
    "version": 3
   },
   "file_extension": ".py",
   "mimetype": "text/x-python",
   "name": "python",
   "nbconvert_exporter": "python",
   "pygments_lexer": "ipython3",
   "version": "3.9.18"
  }
 },
 "nbformat": 4,
 "nbformat_minor": 5
}
