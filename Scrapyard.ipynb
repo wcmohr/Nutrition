{
 "cells": [
  {
   "cell_type": "markdown",
   "id": "e61050ac-8ce0-42d3-83a8-01d2e2b1ab42",
   "metadata": {},
   "source": [
    "###### An approach to determining correspondence between constraints and nutrients dataframes"
   ]
  },
  {
   "cell_type": "code",
   "execution_count": 1,
   "id": "314d3e87-1403-4988-95d5-40d3f22157db",
   "metadata": {},
   "outputs": [],
   "source": [
    "import difflib"
   ]
  },
  {
   "cell_type": "markdown",
   "id": "ebd6074d-8462-471f-b41a-39b210b6bab5",
   "metadata": {},
   "source": [
    "Algo:\n",
    "\n",
    "1) Find constraint closest to each nutrient\n",
    "2) Find nutrient closest to each constraint\n",
    "3) Find which constraints have an identical match and which do not.\n",
    "4) Rename either the relevant nutrient or constraint, or create a new nutrient column, so that an identical match exists.\n"
   ]
  },
  {
   "cell_type": "markdown",
   "id": "4ecb525a-ca30-470e-ad53-12722f16fa7f",
   "metadata": {},
   "source": [
    "Using difflib to find 'close' matches is too fiddly and so I'll instead use regex to find exact matches."
   ]
  },
  {
   "cell_type": "code",
   "execution_count": null,
   "id": "4b07f2ca-7f24-4547-a535-3dc29fa8ab0c",
   "metadata": {
    "tags": []
   },
   "outputs": [],
   "source": [
    "def find_closest_string(source_list, target_list):\n",
    "    closest_strings = {}\n",
    "    for source_string in source_list: \n",
    "        closest_match = difflib.get_close_matches(source_string, target_list, n=1)\n",
    "        if closest_match:\n",
    "            closest_strings[source_string] = closest_match[0]\n",
    "        else:\n",
    "            closest_strings[source_string] = None\n",
    "    return closest_strings\n",
    "\n",
    "comp_nvdf_cnstr = find_closest_string(nv_df.columns, all_constraints.index)"
   ]
  },
  {
   "cell_type": "code",
   "execution_count": 188,
   "id": "c8fc3382-46b6-433b-9c3e-32a052c90a41",
   "metadata": {},
   "outputs": [
    {
     "data": {
      "text/plain": [
       "['protein',\n",
       " 'calories',\n",
       " 'saturated_fat',\n",
       " 'cholesterol',\n",
       " 'vitamin_b6',\n",
       " 'vitamin_b12',\n",
       " 'biotin',\n",
       " 'choline',\n",
       " 'folate',\n",
       " 'pantothenic_acid',\n",
       " 'vitamin_c',\n",
       " 'vitamin_k',\n",
       " 'calcium',\n",
       " 'chloride',\n",
       " 'chromium',\n",
       " 'copper',\n",
       " 'magnesium',\n",
       " 'manganese',\n",
       " 'molybdenum',\n",
       " 'potassium',\n",
       " 'selenium',\n",
       " 'sodium',\n",
       " 'histidine',\n",
       " 'isoleucine',\n",
       " 'leucine',\n",
       " 'lysine',\n",
       " 'methionine',\n",
       " 'phenylalanine',\n",
       " 'threonine',\n",
       " 'tryptophan',\n",
       " 'valine']"
      ]
     },
     "execution_count": 188,
     "metadata": {},
     "output_type": "execute_result"
    }
   ],
   "source": [
    "# these are the nutrients that are found by \n",
    "[comp_cnstr_nvdf[item] for item in comp_nvdf_cnstr if item in \n",
    " all_constraints.index]"
   ]
  },
  {
   "cell_type": "markdown",
   "id": "a6535686-b41e-41ed-8f82-74f65483b5c9",
   "metadata": {
    "tags": []
   },
   "source": [
    "Does the constraint's name exist as nutrient name\n",
    "\n",
    "```{python}\n",
    "all_constraints.index.values[[bool(val) for val in 1- np.array(find_exact_matches(all_constraints.index.values, nv_df.columns.values))]]\n",
    "```"
   ]
  }
 ],
 "metadata": {
  "kernelspec": {
   "display_name": "Python 3 (ipykernel)",
   "language": "python",
   "name": "python3"
  },
  "language_info": {
   "codemirror_mode": {
    "name": "ipython",
    "version": 3
   },
   "file_extension": ".py",
   "mimetype": "text/x-python",
   "name": "python",
   "nbconvert_exporter": "python",
   "pygments_lexer": "ipython3",
   "version": "3.9.13"
  }
 },
 "nbformat": 4,
 "nbformat_minor": 5
}
