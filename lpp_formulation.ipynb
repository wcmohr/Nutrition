{
 "cells": [
  {
   "cell_type": "code",
   "execution_count": 625,
   "id": "d6eafc71-1c20-4175-b5e9-c93b7d6aee9e",
   "metadata": {},
   "outputs": [],
   "source": [
    "from pulp import *"
   ]
  },
  {
   "cell_type": "code",
   "execution_count": 627,
   "id": "ffe36e4e-3acb-4e54-96f6-b7f6ab0f324b",
   "metadata": {},
   "outputs": [],
   "source": [
    "prob = LpProblem('MinServings',LpMinimize)"
   ]
  },
  {
   "cell_type": "code",
   "execution_count": null,
   "id": "decfddc3-4293-43b9-b4a0-450dead9945d",
   "metadata": {},
   "outputs": [],
   "source": [
    "LpVariable('')"
   ]
  }
 ],
 "metadata": {
  "kernelspec": {
   "display_name": "Python 3 (ipykernel)",
   "language": "python",
   "name": "python3"
  },
  "language_info": {
   "codemirror_mode": {
    "name": "ipython",
    "version": 3
   },
   "file_extension": ".py",
   "mimetype": "text/x-python",
   "name": "python",
   "nbconvert_exporter": "python",
   "pygments_lexer": "ipython3",
   "version": "3.9.13"
  }
 },
 "nbformat": 4,
 "nbformat_minor": 5
}
