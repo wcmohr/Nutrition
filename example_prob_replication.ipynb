{
 "cells": [
  {
   "cell_type": "code",
   "execution_count": 1,
   "id": "098fb1df-2c40-43e3-8df2-31c3655c4f40",
   "metadata": {},
   "outputs": [],
   "source": [
    "from pulp import *"
   ]
  },
  {
   "cell_type": "code",
   "execution_count": 2,
   "id": "3ba3debb-8a4f-4d65-bd8a-5837430ff1ed",
   "metadata": {},
   "outputs": [],
   "source": [
    "prob = LpProblem('NutritionProblem',LpMinimize)\n",
    "x1 = LpVariable('KaleAmt', 0)\n",
    "x2 = LpVariable('SardinesAmt',0)\n"
   ]
  },
  {
   "cell_type": "code",
   "execution_count": 3,
   "id": "d9027429-ffea-4ced-98f3-155092b63c70",
   "metadata": {},
   "outputs": [],
   "source": [
    "foods = ['Kale', 'Sardines']\n",
    "calories = {}"
   ]
  }
 ],
 "metadata": {
  "kernelspec": {
   "display_name": "Python 3 (ipykernel)",
   "language": "python",
   "name": "python3"
  },
  "language_info": {
   "codemirror_mode": {
    "name": "ipython",
    "version": 3
   },
   "file_extension": ".py",
   "mimetype": "text/x-python",
   "name": "python",
   "nbconvert_exporter": "python",
   "pygments_lexer": "ipython3",
   "version": "3.9.13"
  }
 },
 "nbformat": 4,
 "nbformat_minor": 5
}
